{
 "cells": [
  {
   "cell_type": "markdown",
   "metadata": {},
   "source": [
    "# Finding the perfect match: A speed dating match classifier and potential social groups\n",
    "## ITEC 657 Data Science Group Project\n",
    "**Group S**\n",
    "- Ka Yu Lau 41895118\n",
    "- Jithendar Nethiram 44521987\n",
    "- Suchith Kumar Suresh 45502897\n"
   ]
  },
  {
   "cell_type": "markdown",
   "metadata": {},
   "source": [
    "# Executive Summary\n",
    "This project started with an objective to understand the lifestyle of young people and the partner selection criteria of people. The aim was creating tools and indication for speed dating event host to group people who has a higher probability to find a match together in a event.\n",
    "\n",
    "The first part of the project group people into 5 different clusters based on the lifestyle data from Slovak University of Technology. The Lifestyle clusters helps to group people with similar interest into one event. \n",
    "\n",
    "We have found income and age are the two most important factors affecting if a pair will end up with a match from speed dating. Decision Tree is the best performing model we built. The classifer was not consistent to unseen data as we see sign of overfitting. Further improvement will be needed."
   ]
  },
  {
   "cell_type": "markdown",
   "metadata": {},
   "source": [
    "# Introduction\n",
    "Over the past two decades, more people tend use internet and dating applications to meet new partners. Online dating has even became the second most preferred way to meet a new partner, only behind introductions through family and friends. (Relationship Australia, 2017) The trend has put pressure on traditional speed dating event host to come up with better events to compete against these online dating sites and apps. \n",
    "\n",
    "The aim for people to attend speed dating event is finding someone meet their their partner selection criteria. It is reasonable that indiviuals lose interest in attending the events if they cannot find anyone matched. So the key quality measure of event is how easy the participants can find their match throughout the event. \n",
    "\n",
    "Match is defined as whether their partner in the event matches their criteria for a potential relationship. And our project focus aim to provide indication and tools for the event host how to can group people such that the chance getting a match increase.\n",
    "\n",
    "### Project Goal\n",
    "- To identify groups of people that share common interest or lifestlye\n",
    "- To determine what is the most important factor for a pair of participant to match\n",
    "- To create a classification model that classify whether a pair the male and female ending up a match in a speed dating event.\n",
    "\n",
    "\n",
    "The result of these goals provides tools and indication for put participants together that increases the chance of match.\n",
    "\n",
    "### Data Set and background\n",
    "\n",
    "#### Lifestyle Dataset\n",
    "The dataset is from a study and research from Slovak University of Technology , Bratislava. The Original study is focused on the Gender Interests match towards lifestyle and we use our study to match the cluster of common interests with respect to gender.\n",
    "\n",
    "The data was survey by young people participants between age 15 - 30 and collected 1010 rows of data. Data is scaled in range of 1-5. where the 1 is the lowest rate and 5  is the highest rate. The data features are Music preferences,\n",
    "Movie preferences,Hobbies & interests,Phobias,Health habits,Personality traits, views on life, & opinions,Spending habits,\n",
    "Demographics.\n",
    "\n",
    "\n",
    "#### Speed Dating Dataset\n",
    "The dataset came from a study by Columbia Business School professors Ray Fisman and Sheena Iyengar. The original study focused on the gender difference in mate selection and our project aim to extend the use of the data to create classification model.\n",
    "\n",
    "The data was collected from participants from 21 experimental speed dating events from 2002 – 2004. The attendees would have a four minutes ‘first date’ with every other participant of the opposite sex. At the end of their four minutes, participants were asked if they would like to see their date again. And they will be asked to rate their date again. They were also asked to rate their date on six attributes: Attractiveness, Sincerity, Intelligence, Fun, Ambition, and Shared Interests.\n",
    "\n",
    "The dataset also includes questionnaire data gathered from participants at different points in the process. These fields include: demographics, dating habits, self-perception across key attributes, beliefs on what others find valuable in a mate and lifestyle information.\n",
    "\n",
    "\n",
    "In this project, we only used the participant profile from the data for our interest to predict whether individuals can be match by only viewing their profile.\n",
    "\n"
   ]
  },
  {
   "cell_type": "markdown",
   "metadata": {},
   "source": [
    "# Young People Survey - Cluster analysis"
   ]
  },
  {
   "cell_type": "code",
   "execution_count": 1,
   "metadata": {},
   "outputs": [
    {
     "name": "stderr",
     "output_type": "stream",
     "text": [
      "/Users/garylau/anaconda/lib/python3.6/site-packages/sklearn/utils/fixes.py:313: FutureWarning: numpy not_equal will not check object identity in the future. The comparison did not return the same result as suggested by the identity (`is`)) and will change.\n",
      "  _nan_object_mask = _nan_object_array != _nan_object_array\n"
     ]
    }
   ],
   "source": [
    "import pandas as pd\n",
    "import numpy as np\n",
    "from speeddate import extract_match, model_evaluation_score\n",
    "import seaborn as sns\n",
    "from IPython.display import Image\n",
    "import matplotlib.pyplot as plt\n",
    "%matplotlib inline"
   ]
  },
  {
   "cell_type": "code",
   "execution_count": 2,
   "metadata": {},
   "outputs": [
    {
     "data": {
      "text/html": [
       "<div>\n",
       "<style>\n",
       "    .dataframe thead tr:only-child th {\n",
       "        text-align: right;\n",
       "    }\n",
       "\n",
       "    .dataframe thead th {\n",
       "        text-align: left;\n",
       "    }\n",
       "\n",
       "    .dataframe tbody tr th {\n",
       "        vertical-align: top;\n",
       "    }\n",
       "</style>\n",
       "<table border=\"1\" class=\"dataframe\">\n",
       "  <thead>\n",
       "    <tr style=\"text-align: right;\">\n",
       "      <th></th>\n",
       "      <th>Music</th>\n",
       "      <th>Slow songs or fast songs</th>\n",
       "      <th>Dance</th>\n",
       "      <th>Folk</th>\n",
       "      <th>Country</th>\n",
       "      <th>Classical music</th>\n",
       "      <th>Musical</th>\n",
       "      <th>Pop</th>\n",
       "      <th>Rock</th>\n",
       "      <th>Metal or Hardrock</th>\n",
       "      <th>...</th>\n",
       "      <th>Age</th>\n",
       "      <th>Height</th>\n",
       "      <th>Weight</th>\n",
       "      <th>Number of siblings</th>\n",
       "      <th>Gender</th>\n",
       "      <th>Left - right handed</th>\n",
       "      <th>Education</th>\n",
       "      <th>Only child</th>\n",
       "      <th>Village - town</th>\n",
       "      <th>House - block of flats</th>\n",
       "    </tr>\n",
       "  </thead>\n",
       "  <tbody>\n",
       "    <tr>\n",
       "      <th>0</th>\n",
       "      <td>5.0</td>\n",
       "      <td>3.0</td>\n",
       "      <td>2.0</td>\n",
       "      <td>1.0</td>\n",
       "      <td>2.0</td>\n",
       "      <td>2.0</td>\n",
       "      <td>1.0</td>\n",
       "      <td>5.0</td>\n",
       "      <td>5.0</td>\n",
       "      <td>1.0</td>\n",
       "      <td>...</td>\n",
       "      <td>20.0</td>\n",
       "      <td>163.0</td>\n",
       "      <td>48.0</td>\n",
       "      <td>1.0</td>\n",
       "      <td>female</td>\n",
       "      <td>right handed</td>\n",
       "      <td>college/bachelor degree</td>\n",
       "      <td>no</td>\n",
       "      <td>village</td>\n",
       "      <td>block of flats</td>\n",
       "    </tr>\n",
       "    <tr>\n",
       "      <th>1</th>\n",
       "      <td>4.0</td>\n",
       "      <td>4.0</td>\n",
       "      <td>2.0</td>\n",
       "      <td>1.0</td>\n",
       "      <td>1.0</td>\n",
       "      <td>1.0</td>\n",
       "      <td>2.0</td>\n",
       "      <td>3.0</td>\n",
       "      <td>5.0</td>\n",
       "      <td>4.0</td>\n",
       "      <td>...</td>\n",
       "      <td>19.0</td>\n",
       "      <td>163.0</td>\n",
       "      <td>58.0</td>\n",
       "      <td>2.0</td>\n",
       "      <td>female</td>\n",
       "      <td>right handed</td>\n",
       "      <td>college/bachelor degree</td>\n",
       "      <td>no</td>\n",
       "      <td>city</td>\n",
       "      <td>block of flats</td>\n",
       "    </tr>\n",
       "  </tbody>\n",
       "</table>\n",
       "<p>2 rows × 150 columns</p>\n",
       "</div>"
      ],
      "text/plain": [
       "   Music  Slow songs or fast songs  Dance  Folk  Country  Classical music  \\\n",
       "0    5.0                       3.0    2.0   1.0      2.0              2.0   \n",
       "1    4.0                       4.0    2.0   1.0      1.0              1.0   \n",
       "\n",
       "   Musical  Pop  Rock  Metal or Hardrock           ...             Age  \\\n",
       "0      1.0  5.0   5.0                1.0           ...            20.0   \n",
       "1      2.0  3.0   5.0                4.0           ...            19.0   \n",
       "\n",
       "   Height  Weight  Number of siblings  Gender  Left - right handed  \\\n",
       "0   163.0    48.0                 1.0  female         right handed   \n",
       "1   163.0    58.0                 2.0  female         right handed   \n",
       "\n",
       "                 Education  Only child  Village - town  House - block of flats  \n",
       "0  college/bachelor degree          no         village          block of flats  \n",
       "1  college/bachelor degree          no            city          block of flats  \n",
       "\n",
       "[2 rows x 150 columns]"
      ]
     },
     "execution_count": 2,
     "metadata": {},
     "output_type": "execute_result"
    }
   ],
   "source": [
    "# Read dataset\n",
    "responces = pd.read_csv(filepath_or_buffer=\"responses.csv\")\n",
    "colms = pd.read_csv(filepath_or_buffer=\"columns.csv\")\n",
    "responces.head(2)"
   ]
  },
  {
   "cell_type": "markdown",
   "metadata": {},
   "source": [
    "In the original data the there are 1010 observation and 150 variables.The Origanal column names was shortened in the data response file for convenience, our first analysis is going to be on finding the interest in shopping with respect to city and village for both the genders . Second We are splitting the data with respect to gender to find the common interests in shopping and spending with calibration model and then create clusters using K-mean model.  "
   ]
  },
  {
   "cell_type": "code",
   "execution_count": 3,
   "metadata": {},
   "outputs": [
    {
     "name": "stdout",
     "output_type": "stream",
     "text": [
      "column len : 150\n"
     ]
    },
    {
     "data": {
      "text/plain": [
       "[Index(['Music', 'Slow songs or fast songs', 'Dance', 'Folk', 'Country',\n",
       "        'Classical music', 'Musical', 'Pop', 'Rock', 'Metal or Hardrock',\n",
       "        ...\n",
       "        'Age', 'Height', 'Weight', 'Number of siblings', 'Gender',\n",
       "        'Left - right handed', 'Education', 'Only child', 'Village - town',\n",
       "        'House - block of flats'],\n",
       "       dtype='object', length=150)]"
      ]
     },
     "execution_count": 3,
     "metadata": {},
     "output_type": "execute_result"
    }
   ],
   "source": [
    "# checking length of the column \n",
    "print(\"column len :\",len(responces.columns))\n",
    "data_cols = [responces.columns]\n",
    "data_cols"
   ]
  },
  {
   "cell_type": "code",
   "execution_count": 4,
   "metadata": {},
   "outputs": [
    {
     "data": {
      "text/html": [
       "<div>\n",
       "<style>\n",
       "    .dataframe thead tr:only-child th {\n",
       "        text-align: right;\n",
       "    }\n",
       "\n",
       "    .dataframe thead th {\n",
       "        text-align: left;\n",
       "    }\n",
       "\n",
       "    .dataframe tbody tr th {\n",
       "        vertical-align: top;\n",
       "    }\n",
       "</style>\n",
       "<table border=\"1\" class=\"dataframe\">\n",
       "  <thead>\n",
       "    <tr style=\"text-align: right;\">\n",
       "      <th></th>\n",
       "      <th>original</th>\n",
       "      <th>short</th>\n",
       "    </tr>\n",
       "  </thead>\n",
       "  <tbody>\n",
       "    <tr>\n",
       "      <th>0</th>\n",
       "      <td>I enjoy listening to music.</td>\n",
       "      <td>Music</td>\n",
       "    </tr>\n",
       "    <tr>\n",
       "      <th>1</th>\n",
       "      <td>I prefer.</td>\n",
       "      <td>Slow songs or fast songs</td>\n",
       "    </tr>\n",
       "    <tr>\n",
       "      <th>2</th>\n",
       "      <td>Dance, Disco, Funk</td>\n",
       "      <td>Dance</td>\n",
       "    </tr>\n",
       "    <tr>\n",
       "      <th>3</th>\n",
       "      <td>Folk music</td>\n",
       "      <td>Folk</td>\n",
       "    </tr>\n",
       "    <tr>\n",
       "      <th>4</th>\n",
       "      <td>Country</td>\n",
       "      <td>Country</td>\n",
       "    </tr>\n",
       "  </tbody>\n",
       "</table>\n",
       "</div>"
      ],
      "text/plain": [
       "                      original                     short\n",
       "0  I enjoy listening to music.                     Music\n",
       "1                    I prefer.  Slow songs or fast songs\n",
       "2           Dance, Disco, Funk                     Dance\n",
       "3                   Folk music                      Folk\n",
       "4                      Country                   Country"
      ]
     },
     "execution_count": 4,
     "metadata": {},
     "output_type": "execute_result"
    }
   ],
   "source": [
    "#For convenience, the original variable names were shortened in the data file. See the columns.csv\n",
    "colms.head()"
   ]
  },
  {
   "cell_type": "code",
   "execution_count": 5,
   "metadata": {},
   "outputs": [],
   "source": [
    "# dropping the null values \n",
    "responces = responces.dropna()"
   ]
  },
  {
   "cell_type": "markdown",
   "metadata": {},
   "source": [
    "## All participants were of Slovakian nationality, aged between 15-30.\n",
    "### The variables can be split into the following groups:\n",
    "\n",
    "Music preferences (19 items) <br>\n",
    "Movie preferences (12 items) <br>\n",
    "Hobbies & interests (32 items) <br>\n",
    "Phobias (10 items) <br>\n",
    "Health habits (3 items) <br>\n",
    "Personality traits, views on life, & opinions (57 items) <br>\n",
    "Spending habits (7 items) <br>\n",
    "Demographics (10 items) <br>"
   ]
  },
  {
   "cell_type": "code",
   "execution_count": 6,
   "metadata": {},
   "outputs": [],
   "source": [
    "music  = responces.iloc[:,0:19] \n",
    "movies = responces.iloc[:,20:31] \n",
    "phobias = responces.iloc[:,64:73] \n",
    "interests = responces.iloc[:,32:63] \n",
    "health = responces.iloc[:,74:76] \n",
    "personal = responces.iloc[:, 77:133] \n",
    "demo = responces.iloc[:,141:150] \n",
    "spending = responces.iloc[:,134:140]"
   ]
  },
  {
   "cell_type": "code",
   "execution_count": 7,
   "metadata": {},
   "outputs": [
    {
     "data": {
      "text/html": [
       "<div>\n",
       "<style>\n",
       "    .dataframe thead tr:only-child th {\n",
       "        text-align: right;\n",
       "    }\n",
       "\n",
       "    .dataframe thead th {\n",
       "        text-align: left;\n",
       "    }\n",
       "\n",
       "    .dataframe tbody tr th {\n",
       "        vertical-align: top;\n",
       "    }\n",
       "</style>\n",
       "<table border=\"1\" class=\"dataframe\">\n",
       "  <thead>\n",
       "    <tr style=\"text-align: right;\">\n",
       "      <th></th>\n",
       "      <th>Horror</th>\n",
       "      <th>Thriller</th>\n",
       "      <th>Comedy</th>\n",
       "      <th>Romantic</th>\n",
       "      <th>Sci-fi</th>\n",
       "      <th>War</th>\n",
       "      <th>Fantasy/Fairy tales</th>\n",
       "      <th>Animated</th>\n",
       "      <th>Documentary</th>\n",
       "      <th>Western</th>\n",
       "      <th>Action</th>\n",
       "    </tr>\n",
       "  </thead>\n",
       "  <tbody>\n",
       "    <tr>\n",
       "      <th>0</th>\n",
       "      <td>4.0</td>\n",
       "      <td>2.0</td>\n",
       "      <td>5.0</td>\n",
       "      <td>4.0</td>\n",
       "      <td>4.0</td>\n",
       "      <td>1.0</td>\n",
       "      <td>5.0</td>\n",
       "      <td>5.0</td>\n",
       "      <td>3.0</td>\n",
       "      <td>1.0</td>\n",
       "      <td>2.0</td>\n",
       "    </tr>\n",
       "    <tr>\n",
       "      <th>1</th>\n",
       "      <td>2.0</td>\n",
       "      <td>2.0</td>\n",
       "      <td>4.0</td>\n",
       "      <td>3.0</td>\n",
       "      <td>4.0</td>\n",
       "      <td>1.0</td>\n",
       "      <td>3.0</td>\n",
       "      <td>5.0</td>\n",
       "      <td>4.0</td>\n",
       "      <td>1.0</td>\n",
       "      <td>4.0</td>\n",
       "    </tr>\n",
       "  </tbody>\n",
       "</table>\n",
       "</div>"
      ],
      "text/plain": [
       "   Horror  Thriller  Comedy  Romantic  Sci-fi  War  Fantasy/Fairy tales  \\\n",
       "0     4.0       2.0     5.0       4.0     4.0  1.0                  5.0   \n",
       "1     2.0       2.0     4.0       3.0     4.0  1.0                  3.0   \n",
       "\n",
       "   Animated  Documentary  Western  Action  \n",
       "0       5.0          3.0      1.0     2.0  \n",
       "1       5.0          4.0      1.0     4.0  "
      ]
     },
     "execution_count": 7,
     "metadata": {},
     "output_type": "execute_result"
    }
   ],
   "source": [
    "movies.head(2)"
   ]
  },
  {
   "cell_type": "code",
   "execution_count": 8,
   "metadata": {},
   "outputs": [
    {
     "data": {
      "text/html": [
       "<div>\n",
       "<style>\n",
       "    .dataframe thead tr:only-child th {\n",
       "        text-align: right;\n",
       "    }\n",
       "\n",
       "    .dataframe thead th {\n",
       "        text-align: left;\n",
       "    }\n",
       "\n",
       "    .dataframe tbody tr th {\n",
       "        vertical-align: top;\n",
       "    }\n",
       "</style>\n",
       "<table border=\"1\" class=\"dataframe\">\n",
       "  <thead>\n",
       "    <tr style=\"text-align: right;\">\n",
       "      <th></th>\n",
       "      <th>Storm</th>\n",
       "      <th>Darkness</th>\n",
       "      <th>Heights</th>\n",
       "      <th>Spiders</th>\n",
       "      <th>Snakes</th>\n",
       "      <th>Rats</th>\n",
       "      <th>Ageing</th>\n",
       "      <th>Dangerous dogs</th>\n",
       "      <th>Fear of public speaking</th>\n",
       "    </tr>\n",
       "  </thead>\n",
       "  <tbody>\n",
       "    <tr>\n",
       "      <th>0</th>\n",
       "      <td>1.0</td>\n",
       "      <td>1.0</td>\n",
       "      <td>1.0</td>\n",
       "      <td>1.0</td>\n",
       "      <td>5</td>\n",
       "      <td>3.0</td>\n",
       "      <td>1.0</td>\n",
       "      <td>3.0</td>\n",
       "      <td>2.0</td>\n",
       "    </tr>\n",
       "    <tr>\n",
       "      <th>1</th>\n",
       "      <td>1.0</td>\n",
       "      <td>1.0</td>\n",
       "      <td>2.0</td>\n",
       "      <td>1.0</td>\n",
       "      <td>1</td>\n",
       "      <td>1.0</td>\n",
       "      <td>3.0</td>\n",
       "      <td>1.0</td>\n",
       "      <td>4.0</td>\n",
       "    </tr>\n",
       "  </tbody>\n",
       "</table>\n",
       "</div>"
      ],
      "text/plain": [
       "   Storm  Darkness  Heights  Spiders  Snakes  Rats  Ageing  Dangerous dogs  \\\n",
       "0    1.0       1.0      1.0      1.0       5   3.0     1.0             3.0   \n",
       "1    1.0       1.0      2.0      1.0       1   1.0     3.0             1.0   \n",
       "\n",
       "   Fear of public speaking  \n",
       "0                      2.0  \n",
       "1                      4.0  "
      ]
     },
     "execution_count": 8,
     "metadata": {},
     "output_type": "execute_result"
    }
   ],
   "source": [
    "phobias.head(2)"
   ]
  },
  {
   "cell_type": "markdown",
   "metadata": {},
   "source": [
    "## Data Preparation"
   ]
  },
  {
   "cell_type": "code",
   "execution_count": 9,
   "metadata": {
    "scrolled": true
   },
   "outputs": [
    {
     "data": {
      "text/html": [
       "<div>\n",
       "<style>\n",
       "    .dataframe thead tr:only-child th {\n",
       "        text-align: right;\n",
       "    }\n",
       "\n",
       "    .dataframe thead th {\n",
       "        text-align: left;\n",
       "    }\n",
       "\n",
       "    .dataframe tbody tr th {\n",
       "        vertical-align: top;\n",
       "    }\n",
       "</style>\n",
       "<table border=\"1\" class=\"dataframe\">\n",
       "  <thead>\n",
       "    <tr style=\"text-align: right;\">\n",
       "      <th></th>\n",
       "      <th>Music</th>\n",
       "      <th>Slow songs or fast songs</th>\n",
       "      <th>Dance</th>\n",
       "      <th>Folk</th>\n",
       "      <th>Country</th>\n",
       "      <th>Classical music</th>\n",
       "      <th>Musical</th>\n",
       "      <th>Pop</th>\n",
       "      <th>Rock</th>\n",
       "      <th>Metal or Hardrock</th>\n",
       "      <th>...</th>\n",
       "      <th>Shopping centres</th>\n",
       "      <th>Branded clothing</th>\n",
       "      <th>Entertainment spending</th>\n",
       "      <th>Spending on looks</th>\n",
       "      <th>Spending on gadgets</th>\n",
       "      <th>Spending on healthy eating</th>\n",
       "      <th>Age</th>\n",
       "      <th>Height</th>\n",
       "      <th>Weight</th>\n",
       "      <th>Number of siblings</th>\n",
       "    </tr>\n",
       "  </thead>\n",
       "  <tbody>\n",
       "    <tr>\n",
       "      <th>count</th>\n",
       "      <td>674.000000</td>\n",
       "      <td>674.000000</td>\n",
       "      <td>674.000000</td>\n",
       "      <td>674.000000</td>\n",
       "      <td>674.000000</td>\n",
       "      <td>674.000000</td>\n",
       "      <td>674.000000</td>\n",
       "      <td>674.000000</td>\n",
       "      <td>674.000000</td>\n",
       "      <td>674.000000</td>\n",
       "      <td>...</td>\n",
       "      <td>674.000000</td>\n",
       "      <td>674.000000</td>\n",
       "      <td>674.000000</td>\n",
       "      <td>674.000000</td>\n",
       "      <td>674.000000</td>\n",
       "      <td>674.000000</td>\n",
       "      <td>674.000000</td>\n",
       "      <td>674.000000</td>\n",
       "      <td>674.000000</td>\n",
       "      <td>674.000000</td>\n",
       "    </tr>\n",
       "    <tr>\n",
       "      <th>mean</th>\n",
       "      <td>4.762611</td>\n",
       "      <td>3.295252</td>\n",
       "      <td>3.078635</td>\n",
       "      <td>2.264095</td>\n",
       "      <td>2.117211</td>\n",
       "      <td>2.982196</td>\n",
       "      <td>2.759644</td>\n",
       "      <td>3.451039</td>\n",
       "      <td>3.787834</td>\n",
       "      <td>2.354599</td>\n",
       "      <td>...</td>\n",
       "      <td>3.258160</td>\n",
       "      <td>3.026706</td>\n",
       "      <td>3.191395</td>\n",
       "      <td>3.096439</td>\n",
       "      <td>2.850148</td>\n",
       "      <td>3.514837</td>\n",
       "      <td>20.353116</td>\n",
       "      <td>173.419881</td>\n",
       "      <td>66.117211</td>\n",
       "      <td>1.299703</td>\n",
       "    </tr>\n",
       "    <tr>\n",
       "      <th>std</th>\n",
       "      <td>0.594699</td>\n",
       "      <td>0.795833</td>\n",
       "      <td>1.179841</td>\n",
       "      <td>1.120517</td>\n",
       "      <td>1.063888</td>\n",
       "      <td>1.244176</td>\n",
       "      <td>1.281403</td>\n",
       "      <td>1.165938</td>\n",
       "      <td>1.152979</td>\n",
       "      <td>1.396371</td>\n",
       "      <td>...</td>\n",
       "      <td>1.305537</td>\n",
       "      <td>1.305787</td>\n",
       "      <td>1.180771</td>\n",
       "      <td>1.208398</td>\n",
       "      <td>1.299140</td>\n",
       "      <td>1.076806</td>\n",
       "      <td>2.732763</td>\n",
       "      <td>9.475720</td>\n",
       "      <td>13.900289</td>\n",
       "      <td>0.992887</td>\n",
       "    </tr>\n",
       "    <tr>\n",
       "      <th>min</th>\n",
       "      <td>1.000000</td>\n",
       "      <td>1.000000</td>\n",
       "      <td>1.000000</td>\n",
       "      <td>1.000000</td>\n",
       "      <td>1.000000</td>\n",
       "      <td>1.000000</td>\n",
       "      <td>1.000000</td>\n",
       "      <td>1.000000</td>\n",
       "      <td>1.000000</td>\n",
       "      <td>1.000000</td>\n",
       "      <td>...</td>\n",
       "      <td>1.000000</td>\n",
       "      <td>1.000000</td>\n",
       "      <td>1.000000</td>\n",
       "      <td>1.000000</td>\n",
       "      <td>1.000000</td>\n",
       "      <td>1.000000</td>\n",
       "      <td>15.000000</td>\n",
       "      <td>152.000000</td>\n",
       "      <td>41.000000</td>\n",
       "      <td>0.000000</td>\n",
       "    </tr>\n",
       "    <tr>\n",
       "      <th>25%</th>\n",
       "      <td>5.000000</td>\n",
       "      <td>3.000000</td>\n",
       "      <td>2.000000</td>\n",
       "      <td>1.000000</td>\n",
       "      <td>1.000000</td>\n",
       "      <td>2.000000</td>\n",
       "      <td>2.000000</td>\n",
       "      <td>3.000000</td>\n",
       "      <td>3.000000</td>\n",
       "      <td>1.000000</td>\n",
       "      <td>...</td>\n",
       "      <td>2.000000</td>\n",
       "      <td>2.000000</td>\n",
       "      <td>2.000000</td>\n",
       "      <td>2.000000</td>\n",
       "      <td>2.000000</td>\n",
       "      <td>3.000000</td>\n",
       "      <td>19.000000</td>\n",
       "      <td>167.000000</td>\n",
       "      <td>55.000000</td>\n",
       "      <td>1.000000</td>\n",
       "    </tr>\n",
       "    <tr>\n",
       "      <th>50%</th>\n",
       "      <td>5.000000</td>\n",
       "      <td>3.000000</td>\n",
       "      <td>3.000000</td>\n",
       "      <td>2.000000</td>\n",
       "      <td>2.000000</td>\n",
       "      <td>3.000000</td>\n",
       "      <td>3.000000</td>\n",
       "      <td>4.000000</td>\n",
       "      <td>4.000000</td>\n",
       "      <td>2.000000</td>\n",
       "      <td>...</td>\n",
       "      <td>3.000000</td>\n",
       "      <td>3.000000</td>\n",
       "      <td>3.000000</td>\n",
       "      <td>3.000000</td>\n",
       "      <td>3.000000</td>\n",
       "      <td>4.000000</td>\n",
       "      <td>20.000000</td>\n",
       "      <td>172.000000</td>\n",
       "      <td>63.000000</td>\n",
       "      <td>1.000000</td>\n",
       "    </tr>\n",
       "    <tr>\n",
       "      <th>75%</th>\n",
       "      <td>5.000000</td>\n",
       "      <td>4.000000</td>\n",
       "      <td>4.000000</td>\n",
       "      <td>3.000000</td>\n",
       "      <td>3.000000</td>\n",
       "      <td>4.000000</td>\n",
       "      <td>4.000000</td>\n",
       "      <td>4.000000</td>\n",
       "      <td>5.000000</td>\n",
       "      <td>3.000000</td>\n",
       "      <td>...</td>\n",
       "      <td>4.000000</td>\n",
       "      <td>4.000000</td>\n",
       "      <td>4.000000</td>\n",
       "      <td>4.000000</td>\n",
       "      <td>4.000000</td>\n",
       "      <td>4.000000</td>\n",
       "      <td>21.000000</td>\n",
       "      <td>180.000000</td>\n",
       "      <td>75.000000</td>\n",
       "      <td>2.000000</td>\n",
       "    </tr>\n",
       "    <tr>\n",
       "      <th>max</th>\n",
       "      <td>5.000000</td>\n",
       "      <td>5.000000</td>\n",
       "      <td>5.000000</td>\n",
       "      <td>5.000000</td>\n",
       "      <td>5.000000</td>\n",
       "      <td>5.000000</td>\n",
       "      <td>5.000000</td>\n",
       "      <td>5.000000</td>\n",
       "      <td>5.000000</td>\n",
       "      <td>5.000000</td>\n",
       "      <td>...</td>\n",
       "      <td>5.000000</td>\n",
       "      <td>5.000000</td>\n",
       "      <td>5.000000</td>\n",
       "      <td>5.000000</td>\n",
       "      <td>5.000000</td>\n",
       "      <td>5.000000</td>\n",
       "      <td>30.000000</td>\n",
       "      <td>203.000000</td>\n",
       "      <td>150.000000</td>\n",
       "      <td>10.000000</td>\n",
       "    </tr>\n",
       "  </tbody>\n",
       "</table>\n",
       "<p>8 rows × 139 columns</p>\n",
       "</div>"
      ],
      "text/plain": [
       "            Music  Slow songs or fast songs       Dance        Folk  \\\n",
       "count  674.000000                674.000000  674.000000  674.000000   \n",
       "mean     4.762611                  3.295252    3.078635    2.264095   \n",
       "std      0.594699                  0.795833    1.179841    1.120517   \n",
       "min      1.000000                  1.000000    1.000000    1.000000   \n",
       "25%      5.000000                  3.000000    2.000000    1.000000   \n",
       "50%      5.000000                  3.000000    3.000000    2.000000   \n",
       "75%      5.000000                  4.000000    4.000000    3.000000   \n",
       "max      5.000000                  5.000000    5.000000    5.000000   \n",
       "\n",
       "          Country  Classical music     Musical         Pop        Rock  \\\n",
       "count  674.000000       674.000000  674.000000  674.000000  674.000000   \n",
       "mean     2.117211         2.982196    2.759644    3.451039    3.787834   \n",
       "std      1.063888         1.244176    1.281403    1.165938    1.152979   \n",
       "min      1.000000         1.000000    1.000000    1.000000    1.000000   \n",
       "25%      1.000000         2.000000    2.000000    3.000000    3.000000   \n",
       "50%      2.000000         3.000000    3.000000    4.000000    4.000000   \n",
       "75%      3.000000         4.000000    4.000000    4.000000    5.000000   \n",
       "max      5.000000         5.000000    5.000000    5.000000    5.000000   \n",
       "\n",
       "       Metal or Hardrock         ...          Shopping centres  \\\n",
       "count         674.000000         ...                674.000000   \n",
       "mean            2.354599         ...                  3.258160   \n",
       "std             1.396371         ...                  1.305537   \n",
       "min             1.000000         ...                  1.000000   \n",
       "25%             1.000000         ...                  2.000000   \n",
       "50%             2.000000         ...                  3.000000   \n",
       "75%             3.000000         ...                  4.000000   \n",
       "max             5.000000         ...                  5.000000   \n",
       "\n",
       "       Branded clothing  Entertainment spending  Spending on looks  \\\n",
       "count        674.000000              674.000000         674.000000   \n",
       "mean           3.026706                3.191395           3.096439   \n",
       "std            1.305787                1.180771           1.208398   \n",
       "min            1.000000                1.000000           1.000000   \n",
       "25%            2.000000                2.000000           2.000000   \n",
       "50%            3.000000                3.000000           3.000000   \n",
       "75%            4.000000                4.000000           4.000000   \n",
       "max            5.000000                5.000000           5.000000   \n",
       "\n",
       "       Spending on gadgets  Spending on healthy eating         Age  \\\n",
       "count           674.000000                  674.000000  674.000000   \n",
       "mean              2.850148                    3.514837   20.353116   \n",
       "std               1.299140                    1.076806    2.732763   \n",
       "min               1.000000                    1.000000   15.000000   \n",
       "25%               2.000000                    3.000000   19.000000   \n",
       "50%               3.000000                    4.000000   20.000000   \n",
       "75%               4.000000                    4.000000   21.000000   \n",
       "max               5.000000                    5.000000   30.000000   \n",
       "\n",
       "           Height      Weight  Number of siblings  \n",
       "count  674.000000  674.000000          674.000000  \n",
       "mean   173.419881   66.117211            1.299703  \n",
       "std      9.475720   13.900289            0.992887  \n",
       "min    152.000000   41.000000            0.000000  \n",
       "25%    167.000000   55.000000            1.000000  \n",
       "50%    172.000000   63.000000            1.000000  \n",
       "75%    180.000000   75.000000            2.000000  \n",
       "max    203.000000  150.000000           10.000000  \n",
       "\n",
       "[8 rows x 139 columns]"
      ]
     },
     "execution_count": 9,
     "metadata": {},
     "output_type": "execute_result"
    }
   ],
   "source": [
    "responces.describe()"
   ]
  },
  {
   "cell_type": "code",
   "execution_count": 10,
   "metadata": {},
   "outputs": [],
   "source": [
    "#Spliting the Male data and Female data\n",
    "male = responces[responces.Gender == \"male\"]\n",
    "female = responces[responces.Gender == \"female\"]"
   ]
  },
  {
   "cell_type": "markdown",
   "metadata": {},
   "source": [
    "## 1) Are there any differences in shopping interest with respect to village and city?"
   ]
  },
  {
   "cell_type": "code",
   "execution_count": 11,
   "metadata": {},
   "outputs": [],
   "source": [
    "#We can Check who as more interest in shopping :city or village\n",
    "city = responces[responces['Village - town'] == \"city\"]\n",
    "village = responces[responces['Village - town'] == \"village\"]"
   ]
  },
  {
   "cell_type": "code",
   "execution_count": 12,
   "metadata": {},
   "outputs": [
    {
     "data": {
      "image/png": "[encoded data removed]",
      "text/plain": [
       "<matplotlib.figure.Figure at 0x1a1231d400>"
      ]
     },
     "metadata": {},
     "output_type": "display_data"
    },
    {
     "data": {
      "image/png": "[encoded data removed]",
      "text/plain": [
       "<matplotlib.figure.Figure at 0x1a12a36748>"
      ]
     },
     "metadata": {},
     "output_type": "display_data"
    }
   ],
   "source": [
    "#1-5 is the Votes\n",
    "lable_to_check = \"Shopping\"\n",
    "figure, axis = plt.subplots(figsize=(5,5))\n",
    "sns.countplot(x=city['Shopping'],orient='h').set_title(\"city\")\n",
    "\n",
    "figure, axis = plt.subplots(figsize=(5,5))\n",
    "sns.countplot(x=village['Shopping'],orient='h').set_title(\"village\")\n",
    "\n",
    "plt.show()"
   ]
  },
  {
   "cell_type": "markdown",
   "metadata": {},
   "source": [
    "We observe from data , City people Shopping interest is comparatively high than the village people. And Count also shows the most of city people have reviewed as rating 5"
   ]
  },
  {
   "cell_type": "markdown",
   "metadata": {},
   "source": [
    "### People Shopping Interest and Spending Analysis"
   ]
  },
  {
   "cell_type": "code",
   "execution_count": 13,
   "metadata": {},
   "outputs": [],
   "source": [
    "#All these are Features\n",
    "movie_pref = responces.iloc[:,[0,19]]\n",
    "personal = responces.iloc[:, 77:106] \n",
    "per1 = responces.iloc[:, 109:132]\n",
    "spending_habits = responces.iloc[:,133:140] #This includes Hobbies and Stuffs\n",
    "demotographies = responces.iloc[:,140:150]"
   ]
  },
  {
   "cell_type": "code",
   "execution_count": 14,
   "metadata": {},
   "outputs": [],
   "source": [
    "#Prediction Class\n",
    "predict = responces.iloc[:,57] #Level 1-5"
   ]
  },
  {
   "cell_type": "code",
   "execution_count": 15,
   "metadata": {},
   "outputs": [],
   "source": [
    "#Dataframe to Join all these Variables\n",
    "data_feed = movie_pref.join([personal,per1,spending_habits,demotographies,predict])"
   ]
  },
  {
   "cell_type": "code",
   "execution_count": 16,
   "metadata": {
    "scrolled": true
   },
   "outputs": [
    {
     "data": {
      "text/html": [
       "<div>\n",
       "<style>\n",
       "    .dataframe thead tr:only-child th {\n",
       "        text-align: right;\n",
       "    }\n",
       "\n",
       "    .dataframe thead th {\n",
       "        text-align: left;\n",
       "    }\n",
       "\n",
       "    .dataframe tbody tr th {\n",
       "        vertical-align: top;\n",
       "    }\n",
       "</style>\n",
       "<table border=\"1\" class=\"dataframe\">\n",
       "  <thead>\n",
       "    <tr style=\"text-align: right;\">\n",
       "      <th></th>\n",
       "      <th>Music</th>\n",
       "      <th>Movies</th>\n",
       "      <th>Prioritising workload</th>\n",
       "      <th>Writing notes</th>\n",
       "      <th>Workaholism</th>\n",
       "      <th>Thinking ahead</th>\n",
       "      <th>Final judgement</th>\n",
       "      <th>Reliability</th>\n",
       "      <th>Keeping promises</th>\n",
       "      <th>Loss of interest</th>\n",
       "      <th>...</th>\n",
       "      <th>Height</th>\n",
       "      <th>Weight</th>\n",
       "      <th>Number of siblings</th>\n",
       "      <th>Gender</th>\n",
       "      <th>Left - right handed</th>\n",
       "      <th>Education</th>\n",
       "      <th>Only child</th>\n",
       "      <th>Village - town</th>\n",
       "      <th>House - block of flats</th>\n",
       "      <th>Shopping</th>\n",
       "    </tr>\n",
       "  </thead>\n",
       "  <tbody>\n",
       "    <tr>\n",
       "      <th>0</th>\n",
       "      <td>5.0</td>\n",
       "      <td>5.0</td>\n",
       "      <td>2.0</td>\n",
       "      <td>5.0</td>\n",
       "      <td>4.0</td>\n",
       "      <td>2.0</td>\n",
       "      <td>5.0</td>\n",
       "      <td>4.0</td>\n",
       "      <td>4.0</td>\n",
       "      <td>1.0</td>\n",
       "      <td>...</td>\n",
       "      <td>163.0</td>\n",
       "      <td>48.0</td>\n",
       "      <td>1.0</td>\n",
       "      <td>female</td>\n",
       "      <td>right handed</td>\n",
       "      <td>college/bachelor degree</td>\n",
       "      <td>no</td>\n",
       "      <td>village</td>\n",
       "      <td>block of flats</td>\n",
       "      <td>4.0</td>\n",
       "    </tr>\n",
       "    <tr>\n",
       "      <th>1</th>\n",
       "      <td>4.0</td>\n",
       "      <td>5.0</td>\n",
       "      <td>2.0</td>\n",
       "      <td>4.0</td>\n",
       "      <td>5.0</td>\n",
       "      <td>4.0</td>\n",
       "      <td>1.0</td>\n",
       "      <td>4.0</td>\n",
       "      <td>4.0</td>\n",
       "      <td>3.0</td>\n",
       "      <td>...</td>\n",
       "      <td>163.0</td>\n",
       "      <td>58.0</td>\n",
       "      <td>2.0</td>\n",
       "      <td>female</td>\n",
       "      <td>right handed</td>\n",
       "      <td>college/bachelor degree</td>\n",
       "      <td>no</td>\n",
       "      <td>city</td>\n",
       "      <td>block of flats</td>\n",
       "      <td>3.0</td>\n",
       "    </tr>\n",
       "  </tbody>\n",
       "</table>\n",
       "<p>2 rows × 72 columns</p>\n",
       "</div>"
      ],
      "text/plain": [
       "   Music  Movies  Prioritising workload  Writing notes  Workaholism  \\\n",
       "0    5.0     5.0                    2.0            5.0          4.0   \n",
       "1    4.0     5.0                    2.0            4.0          5.0   \n",
       "\n",
       "   Thinking ahead  Final judgement  Reliability  Keeping promises  \\\n",
       "0             2.0              5.0          4.0               4.0   \n",
       "1             4.0              1.0          4.0               4.0   \n",
       "\n",
       "   Loss of interest    ...     Height  Weight  Number of siblings  Gender  \\\n",
       "0               1.0    ...      163.0    48.0                 1.0  female   \n",
       "1               3.0    ...      163.0    58.0                 2.0  female   \n",
       "\n",
       "   Left - right handed                Education  Only child  Village - town  \\\n",
       "0         right handed  college/bachelor degree          no         village   \n",
       "1         right handed  college/bachelor degree          no            city   \n",
       "\n",
       "   House - block of flats  Shopping  \n",
       "0          block of flats       4.0  \n",
       "1          block of flats       3.0  \n",
       "\n",
       "[2 rows x 72 columns]"
      ]
     },
     "execution_count": 16,
     "metadata": {},
     "output_type": "execute_result"
    }
   ],
   "source": [
    "data_feed.head(2)"
   ]
  },
  {
   "cell_type": "code",
   "execution_count": 17,
   "metadata": {},
   "outputs": [],
   "source": [
    "#Getting Dummy data for the Categorical Data\n",
    "gender = pd.get_dummies(responces['Gender'])\n",
    "handed = pd.get_dummies(responces['Left - right handed'])\n",
    "num_child = pd.get_dummies(responces[\"Only child\"])\n",
    "village_town = pd.get_dummies(responces['Village - town'])\n",
    "housing = pd.get_dummies(responces['House - block of flats'])\n",
    "education = pd.get_dummies(responces['Education'])"
   ]
  },
  {
   "cell_type": "markdown",
   "metadata": {},
   "source": [
    "But In Data Feed web have Numerical Data, so We need to Drop Them"
   ]
  },
  {
   "cell_type": "code",
   "execution_count": 18,
   "metadata": {},
   "outputs": [
    {
     "data": {
      "text/html": [
       "<div>\n",
       "<style>\n",
       "    .dataframe thead tr:only-child th {\n",
       "        text-align: right;\n",
       "    }\n",
       "\n",
       "    .dataframe thead th {\n",
       "        text-align: left;\n",
       "    }\n",
       "\n",
       "    .dataframe tbody tr th {\n",
       "        vertical-align: top;\n",
       "    }\n",
       "</style>\n",
       "<table border=\"1\" class=\"dataframe\">\n",
       "  <thead>\n",
       "    <tr style=\"text-align: right;\">\n",
       "      <th></th>\n",
       "      <th>Gender</th>\n",
       "    </tr>\n",
       "  </thead>\n",
       "  <tbody>\n",
       "    <tr>\n",
       "      <th>0</th>\n",
       "      <td>female</td>\n",
       "    </tr>\n",
       "    <tr>\n",
       "      <th>1</th>\n",
       "      <td>female</td>\n",
       "    </tr>\n",
       "  </tbody>\n",
       "</table>\n",
       "</div>"
      ],
      "text/plain": [
       "   Gender\n",
       "0  female\n",
       "1  female"
      ]
     },
     "execution_count": 18,
     "metadata": {},
     "output_type": "execute_result"
    }
   ],
   "source": [
    "data_feed[['Gender']].head(2)"
   ]
  },
  {
   "cell_type": "markdown",
   "metadata": {},
   "source": [
    "### Replacing with our Pre-Proprocessed Data with Pandas"
   ]
  },
  {
   "cell_type": "code",
   "execution_count": 19,
   "metadata": {},
   "outputs": [],
   "source": [
    "data_feed.drop(labels=[\"Gender\",\"Left - right handed\",\"Only child\",\"Village - town\",\"House - block of flats\",\"Education\"],axis=1,inplace=True)"
   ]
  },
  {
   "cell_type": "code",
   "execution_count": 20,
   "metadata": {},
   "outputs": [],
   "source": [
    "#Replacing the Data(Dummy Variables)\n",
    "data_feed = data_feed.join([gender,handed,num_child,village_town,housing,education])"
   ]
  },
  {
   "cell_type": "code",
   "execution_count": 21,
   "metadata": {},
   "outputs": [],
   "source": [
    "data_feed = data_feed.dropna()"
   ]
  },
  {
   "cell_type": "markdown",
   "metadata": {},
   "source": [
    "## Instead of Doing a Multi-Class Classification for our Lables we Can Turn them into Binary Class Classification problem"
   ]
  },
  {
   "cell_type": "code",
   "execution_count": 22,
   "metadata": {},
   "outputs": [],
   "source": [
    "data_feed.loc[data_feed['Shopping']<=3, 'Shopping'] = 0\n",
    "data_feed.loc[data_feed['Shopping']>3, 'Shopping'] = 1"
   ]
  },
  {
   "cell_type": "code",
   "execution_count": 23,
   "metadata": {},
   "outputs": [
    {
     "data": {
      "text/plain": [
       "0    1.0\n",
       "1    0.0\n",
       "2    1.0\n",
       "Name: Shopping, dtype: float64"
      ]
     },
     "execution_count": 23,
     "metadata": {},
     "output_type": "execute_result"
    }
   ],
   "source": [
    "data_feed['Shopping'].head(3)"
   ]
  },
  {
   "cell_type": "code",
   "execution_count": 24,
   "metadata": {},
   "outputs": [],
   "source": [
    "#Setting up X and Y's for our Data set\n",
    "X = data_feed.drop('Shopping', axis=1)\n",
    "y = data_feed['Shopping']\n",
    "\n",
    "from sklearn.model_selection import train_test_split\n",
    "#Setting up Test and Validation sets for our Data using sklean\n",
    "X_train,X_test,y_train,y_test = train_test_split(X,y,test_size=.3,random_state=42)"
   ]
  },
  {
   "cell_type": "markdown",
   "metadata": {},
   "source": [
    "## Searching for the Best value for the Parameter of the Log-Reg Model."
   ]
  },
  {
   "cell_type": "code",
   "execution_count": 25,
   "metadata": {},
   "outputs": [
    {
     "data": {
      "image/png": "[encoded data removed]",
      "text/plain": [
       "<IPython.core.display.Image object>"
      ]
     },
     "execution_count": 25,
     "metadata": {
      "image/png": {
       "height": 200,
       "width": 500
      }
     },
     "output_type": "execute_result"
    }
   ],
   "source": [
    "Image(filename=\"neuron.png\",height=200,width=500)"
   ]
  },
  {
   "cell_type": "code",
   "execution_count": 26,
   "metadata": {},
   "outputs": [],
   "source": [
    "from sklearn.model_selection import GridSearchCV\n",
    "from sklearn.linear_model import LogisticRegression"
   ]
  },
  {
   "cell_type": "code",
   "execution_count": 80,
   "metadata": {},
   "outputs": [
    {
     "name": "stderr",
     "output_type": "stream",
     "text": [
      "/Users/garylau/anaconda/lib/python3.6/site-packages/sklearn/model_selection/_split.py:1943: FutureWarning: You should specify a value for 'cv' instead of relying on the default value. The default value will change from 3 to 5 in version 0.22.\n",
      "  warnings.warn(CV_WARNING, FutureWarning)\n"
     ]
    },
    {
     "name": "stdout",
     "output_type": "stream",
     "text": [
      "The Best Value of C is {'C': 0.3} for the Logistic Model\n"
     ]
    }
   ],
   "source": [
    "#This can be done by Backend Parameter Computing usig SearchCV\n",
    "logistic_regression_model_cv = LogisticRegression(solver=\"lbfgs\")\n",
    "#C is the Inverse of the Regularization Strength\n",
    "param_grid = {'C':[0.3,0.9,1.9,3.10,0.01]}\n",
    "grid_search = GridSearchCV(logistic_regression_model_cv,param_grid=param_grid)\n",
    "grid_search.fit(X_train, y_train)\n",
    "print(f'The Best Value of C is {grid_search.best_params_} for the Logistic Model')"
   ]
  },
  {
   "cell_type": "code",
   "execution_count": 28,
   "metadata": {},
   "outputs": [
    {
     "name": "stderr",
     "output_type": "stream",
     "text": [
      "/Users/garylau/anaconda/lib/python3.6/site-packages/sklearn/linear_model/logistic.py:432: FutureWarning: Default solver will be changed to 'lbfgs' in 0.22. Specify a solver to silence this warning.\n",
      "  FutureWarning)\n"
     ]
    },
    {
     "name": "stdout",
     "output_type": "stream",
     "text": [
      "Accuracy for the Logistic Mdoel is 0.733990\n"
     ]
    }
   ],
   "source": [
    "logistic_regression_model = LogisticRegression(C=0.3)\n",
    "logistic_regression_model.fit(X_train,y_train)\n",
    "print(\"Accuracy for the Logistic Mdoel is {:4f}\".format(logistic_regression_model.score(X_test,y_test)))"
   ]
  },
  {
   "cell_type": "markdown",
   "metadata": {},
   "source": [
    "Fitted the data in Logestic best fit Regression model, we observe the best Value of C by grid Search method is 0.3 and Accuracy predicted is 0.733990 for Shopping interest in people with respect to other features in data."
   ]
  },
  {
   "cell_type": "markdown",
   "metadata": {},
   "source": [
    "## 2 Are there any differences in shopping interest with respect to Gender?\n",
    "\n",
    "Plots respresents Shopping interest between male and female to find the interest in Gadgets and looks "
   ]
  },
  {
   "cell_type": "code",
   "execution_count": 29,
   "metadata": {},
   "outputs": [],
   "source": [
    "male = responces[responces['Gender'] == \"male\"]\n",
    "female = responces[responces['Gender'] == \"female\"]"
   ]
  },
  {
   "cell_type": "code",
   "execution_count": 30,
   "metadata": {},
   "outputs": [
    {
     "data": {
      "image/png": "[encoded data removed]",
      "text/plain": [
       "<matplotlib.figure.Figure at 0x1a17c48a90>"
      ]
     },
     "metadata": {},
     "output_type": "display_data"
    },
    {
     "data": {
      "image/png": "[encoded data removed]",
      "text/plain": [
       "<matplotlib.figure.Figure at 0x1a17d17390>"
      ]
     },
     "metadata": {},
     "output_type": "display_data"
    }
   ],
   "source": [
    "lable_to_check = \"Shopping\"\n",
    "figure, axis = plt.subplots(figsize=(5,5))\n",
    "sns.countplot(x=male['Shopping'],orient='h').set_title(\"Male\")\n",
    "\n",
    "figure, axis = plt.subplots(figsize=(5,5))\n",
    "sns.countplot(x=female['Shopping'],orient='h').set_title(\"Female\")\n",
    "plt.show()"
   ]
  },
  {
   "cell_type": "code",
   "execution_count": 31,
   "metadata": {},
   "outputs": [
    {
     "data": {
      "image/png": "[encoded data removed]",
      "text/plain": [
       "<matplotlib.figure.Figure at 0x1a17daa550>"
      ]
     },
     "metadata": {},
     "output_type": "display_data"
    },
    {
     "data": {
      "image/png": "[encoded data removed]",
      "text/plain": [
       "<matplotlib.figure.Figure at 0x1a12bd0470>"
      ]
     },
     "metadata": {},
     "output_type": "display_data"
    }
   ],
   "source": [
    "lable_to_check = \"Spending on gadgets\"\n",
    "figure, axis = plt.subplots(figsize=(5,5))\n",
    "sns.countplot(x=male['Spending on gadgets'],orient='h').set_title(\"Male\")\n",
    "\n",
    "figure, axis = plt.subplots(figsize=(5,5))\n",
    "sns.countplot(x=female['Spending on gadgets'],orient='h').set_title(\"Female\")\n",
    "plt.show()"
   ]
  },
  {
   "cell_type": "code",
   "execution_count": 32,
   "metadata": {},
   "outputs": [
    {
     "data": {
      "image/png": "[encoded data removed]",
      "text/plain": [
       "<matplotlib.figure.Figure at 0x1a17559048>"
      ]
     },
     "metadata": {},
     "output_type": "display_data"
    },
    {
     "data": {
      "image/png": "[encoded data removed]",
      "text/plain": [
       "<matplotlib.figure.Figure at 0x1a176879b0>"
      ]
     },
     "metadata": {},
     "output_type": "display_data"
    }
   ],
   "source": [
    "lable_to_check = \"Spending on looks\"\n",
    "figure, axis = plt.subplots(figsize=(5,5))\n",
    "sns.countplot(x=male['Spending on looks'],orient='h').set_title(\"Male\")\n",
    "\n",
    "figure, axis = plt.subplots(figsize=(5,5))\n",
    "sns.countplot(x=female['Spending on looks'],orient='h').set_title(\"Female\")\n",
    "plt.show()"
   ]
  },
  {
   "cell_type": "markdown",
   "metadata": {},
   "source": [
    "By plotting the Graph we observe the Male interest is high in spending on Gadget compared to looks and Female interest is high on looks compared to gadgets¶"
   ]
  },
  {
   "cell_type": "code",
   "execution_count": 33,
   "metadata": {},
   "outputs": [
    {
     "data": {
      "text/html": [
       "<div>\n",
       "<style>\n",
       "    .dataframe thead tr:only-child th {\n",
       "        text-align: right;\n",
       "    }\n",
       "\n",
       "    .dataframe thead th {\n",
       "        text-align: left;\n",
       "    }\n",
       "\n",
       "    .dataframe tbody tr th {\n",
       "        vertical-align: top;\n",
       "    }\n",
       "</style>\n",
       "<table border=\"1\" class=\"dataframe\">\n",
       "  <thead>\n",
       "    <tr style=\"text-align: right;\">\n",
       "      <th></th>\n",
       "      <th>Finances</th>\n",
       "      <th>Shopping centres</th>\n",
       "      <th>Branded clothing</th>\n",
       "      <th>Entertainment spending</th>\n",
       "      <th>Spending on looks</th>\n",
       "      <th>Spending on gadgets</th>\n",
       "      <th>Spending on healthy eating</th>\n",
       "      <th>Gender</th>\n",
       "    </tr>\n",
       "  </thead>\n",
       "  <tbody>\n",
       "    <tr>\n",
       "      <th>0</th>\n",
       "      <td>3.0</td>\n",
       "      <td>4.0</td>\n",
       "      <td>5.0</td>\n",
       "      <td>3.0</td>\n",
       "      <td>3.0</td>\n",
       "      <td>1</td>\n",
       "      <td>3.0</td>\n",
       "      <td>female</td>\n",
       "    </tr>\n",
       "    <tr>\n",
       "      <th>1</th>\n",
       "      <td>3.0</td>\n",
       "      <td>4.0</td>\n",
       "      <td>1.0</td>\n",
       "      <td>4.0</td>\n",
       "      <td>2.0</td>\n",
       "      <td>5</td>\n",
       "      <td>2.0</td>\n",
       "      <td>female</td>\n",
       "    </tr>\n",
       "  </tbody>\n",
       "</table>\n",
       "</div>"
      ],
      "text/plain": [
       "   Finances  Shopping centres  Branded clothing  Entertainment spending  \\\n",
       "0       3.0               4.0               5.0                     3.0   \n",
       "1       3.0               4.0               1.0                     4.0   \n",
       "\n",
       "   Spending on looks  Spending on gadgets  Spending on healthy eating  Gender  \n",
       "0                3.0                    1                         3.0  female  \n",
       "1                2.0                    5                         2.0  female  "
      ]
     },
     "execution_count": 33,
     "metadata": {},
     "output_type": "execute_result"
    }
   ],
   "source": [
    "#splitting the data and choosing spending and demographic data as sample to find the spending between Gender\n",
    "spending_habits = responces.iloc[:,133:140]\n",
    "predict = responces.iloc[:,144] \n",
    "datafeed1=spending_habits.join([predict])\n",
    "datafeed1=datafeed1.dropna()\n",
    "datafeed1.head(2)"
   ]
  },
  {
   "cell_type": "markdown",
   "metadata": {},
   "source": [
    "Splitting the data into Train and Test with training 70% and to predict the Accuracy by different model"
   ]
  },
  {
   "cell_type": "code",
   "execution_count": 34,
   "metadata": {},
   "outputs": [],
   "source": [
    "#Setting up X and Y's for our Data set\n",
    "X = datafeed1.drop('Gender', axis=1)\n",
    "y = datafeed1['Gender']\n",
    "\n",
    "from sklearn.model_selection import train_test_split\n",
    "#Setting up Test and Validation sets for our Data using sklean\n",
    "X_train,X_test,y_train,y_test = train_test_split(X,y,test_size=.3,random_state=42)"
   ]
  },
  {
   "cell_type": "markdown",
   "metadata": {},
   "source": [
    "### Gaussian Naive Bayes "
   ]
  },
  {
   "cell_type": "code",
   "execution_count": 35,
   "metadata": {},
   "outputs": [
    {
     "name": "stdout",
     "output_type": "stream",
     "text": [
      "Accuracy on test set  0.714285714286\n"
     ]
    }
   ],
   "source": [
    "from sklearn.naive_bayes import GaussianNB\n",
    "clf = GaussianNB()\n",
    "clf.fit(X_train, y_train)\n",
    "y_pred=clf.predict(X_test)\n",
    "print(\"Accuracy on test set \",np.mean(y_pred==y_test))"
   ]
  },
  {
   "cell_type": "markdown",
   "metadata": {},
   "source": [
    "### KNeighborsClassifier"
   ]
  },
  {
   "cell_type": "code",
   "execution_count": 36,
   "metadata": {},
   "outputs": [
    {
     "name": "stdout",
     "output_type": "stream",
     "text": [
      "Test set Accuracy is 0.660098522167\n"
     ]
    }
   ],
   "source": [
    "from sklearn.neighbors import KNeighborsClassifier\n",
    "knn = KNeighborsClassifier()\n",
    "knn.fit(X_train, y_train) \n",
    "predictions =knn.predict(X_test)\n",
    "print(\"Test set Accuracy is\" ,np.mean(predictions==y_test))"
   ]
  },
  {
   "cell_type": "markdown",
   "metadata": {},
   "source": [
    "### Multinomial Naieve Bayes"
   ]
  },
  {
   "cell_type": "code",
   "execution_count": 37,
   "metadata": {},
   "outputs": [
    {
     "name": "stdout",
     "output_type": "stream",
     "text": [
      "Accuracy on test set  0.699507389163\n"
     ]
    }
   ],
   "source": [
    "from sklearn.naive_bayes import MultinomialNB\n",
    "clf = MultinomialNB()\n",
    "clf.fit(X_train, y_train)\n",
    "y_pred=clf.predict(X_test)\n",
    "print(\"Accuracy on test set \",np.mean(y_pred==y_test))"
   ]
  },
  {
   "cell_type": "markdown",
   "metadata": {},
   "source": [
    "We oserve from data MultinomialNB accuracy is 71% the prediction is better than the other model prediction used with data."
   ]
  },
  {
   "cell_type": "markdown",
   "metadata": {},
   "source": [
    "# Model Evaluation"
   ]
  },
  {
   "cell_type": "code",
   "execution_count": 38,
   "metadata": {},
   "outputs": [],
   "source": [
    "from sklearn.naive_bayes import GaussianNB\n",
    "from sklearn.linear_model import LogisticRegression\n",
    "from sklearn.neighbors import KNeighborsClassifier\n",
    "from sklearn.naive_bayes import MultinomialNB\n",
    "from sklearn.calibration import calibration_curve\n",
    "\n",
    "lr = LogisticRegression(C = 0.3)\n",
    "gnb = GaussianNB()\n",
    "knn = KNeighborsClassifier()\n",
    "mul = MultinomialNB()"
   ]
  },
  {
   "cell_type": "markdown",
   "metadata": {},
   "source": [
    "### Plot calibration plots and its comparision "
   ]
  },
  {
   "cell_type": "code",
   "execution_count": 39,
   "metadata": {},
   "outputs": [
    {
     "name": "stderr",
     "output_type": "stream",
     "text": [
      "/Users/garylau/anaconda/lib/python3.6/site-packages/sklearn/linear_model/logistic.py:432: FutureWarning: Default solver will be changed to 'lbfgs' in 0.22. Specify a solver to silence this warning.\n",
      "  FutureWarning)\n"
     ]
    },
    {
     "data": {
      "image/png": "[encoded data removed]",
      "text/plain": [
       "<matplotlib.figure.Figure at 0x1a180a3278>"
      ]
     },
     "metadata": {},
     "output_type": "display_data"
    }
   ],
   "source": [
    "plt.figure(figsize=(10, 10))\n",
    "ax1 = plt.subplot2grid((3, 1), (0, 0), rowspan=2)\n",
    "ax2 = plt.subplot2grid((3, 1), (2, 0))\n",
    "\n",
    "ax1.plot([0, 1], [0, 1], \"k:\", label=\"Perfectly calibrated\")\n",
    "for clf, name in [(lr, 'Logistic'),\n",
    "                  (gnb, 'GaussianNB'),\n",
    "                  (knn, 'KNeighborsClassifier'),(mul,'MultinomialNB')]:\n",
    "    clf.fit(X_train, y_train)\n",
    "    if hasattr(clf, \"predict_proba\"):\n",
    "        prob_pos = clf.predict_proba(X_test)[:, 1]\n",
    "    else:  # use decision function\n",
    "        prob_pos = clf.decision_function(X_test)\n",
    "        prob_pos = \\\n",
    "            (prob_pos - prob_pos.min()) / (prob_pos.max() - prob_pos.min())\n",
    "    fraction_of_positives, mean_predicted_value = \\\n",
    "        calibration_curve(y_test, prob_pos, n_bins=10)\n",
    "\n",
    "    ax1.plot(mean_predicted_value, fraction_of_positives, \"s-\",\n",
    "             label=\"%s\" % (name, ))\n",
    "\n",
    "    ax2.hist(prob_pos, range=(0, 1), bins=10, label=name,\n",
    "             histtype=\"step\", lw=2)\n",
    "\n",
    "ax1.set_ylabel(\"Fraction of positives\")\n",
    "ax1.set_ylim([-0.05, 1.05])\n",
    "ax1.legend(loc=\"lower right\")\n",
    "ax1.set_title('Calibration plots  (reliability curve)')\n",
    "\n",
    "ax2.set_xlabel(\"Mean predicted value\")\n",
    "ax2.set_ylabel(\"Count\")\n",
    "ax2.legend(loc=\"upper center\", ncol=2)\n",
    "\n",
    "plt.tight_layout()\n",
    "plt.show()"
   ]
  },
  {
   "cell_type": "markdown",
   "metadata": {},
   "source": [
    "Calibration plots are often line plots. Once I choose the number of bins and throw predictions into the bin, each bin is then converted to a dot on the plot. For each bin, the y-value is the proportion of true outcomes, and x-value is the mean predicted probability. Therefore, a well-calibrated model has a calibration curve that hugs the straight line y=x. "
   ]
  },
  {
   "cell_type": "markdown",
   "metadata": {},
   "source": [
    "### 3. Research analysis of data with respect to movie preferences feature between Gender using Clustering\n"
   ]
  },
  {
   "cell_type": "code",
   "execution_count": 40,
   "metadata": {},
   "outputs": [
    {
     "data": {
      "text/html": [
       "<div>\n",
       "<style>\n",
       "    .dataframe thead tr:only-child th {\n",
       "        text-align: right;\n",
       "    }\n",
       "\n",
       "    .dataframe thead th {\n",
       "        text-align: left;\n",
       "    }\n",
       "\n",
       "    .dataframe tbody tr th {\n",
       "        vertical-align: top;\n",
       "    }\n",
       "</style>\n",
       "<table border=\"1\" class=\"dataframe\">\n",
       "  <thead>\n",
       "    <tr style=\"text-align: right;\">\n",
       "      <th></th>\n",
       "      <th>Music</th>\n",
       "      <th>Slow songs or fast songs</th>\n",
       "      <th>Dance</th>\n",
       "      <th>Folk</th>\n",
       "      <th>Country</th>\n",
       "      <th>Classical music</th>\n",
       "      <th>Musical</th>\n",
       "      <th>Pop</th>\n",
       "      <th>Rock</th>\n",
       "      <th>Metal or Hardrock</th>\n",
       "      <th>...</th>\n",
       "      <th>Fun with friends</th>\n",
       "      <th>Adrenaline sports</th>\n",
       "      <th>Pets</th>\n",
       "      <th>Finances</th>\n",
       "      <th>Shopping centres</th>\n",
       "      <th>Branded clothing</th>\n",
       "      <th>Entertainment spending</th>\n",
       "      <th>Spending on looks</th>\n",
       "      <th>Spending on gadgets</th>\n",
       "      <th>Spending on healthy eating</th>\n",
       "    </tr>\n",
       "  </thead>\n",
       "  <tbody>\n",
       "    <tr>\n",
       "      <th>0</th>\n",
       "      <td>5.0</td>\n",
       "      <td>3.0</td>\n",
       "      <td>2.0</td>\n",
       "      <td>1.0</td>\n",
       "      <td>2.0</td>\n",
       "      <td>2.0</td>\n",
       "      <td>1.0</td>\n",
       "      <td>5.0</td>\n",
       "      <td>5.0</td>\n",
       "      <td>1.0</td>\n",
       "      <td>...</td>\n",
       "      <td>5.0</td>\n",
       "      <td>4.0</td>\n",
       "      <td>4.0</td>\n",
       "      <td>3.0</td>\n",
       "      <td>4.0</td>\n",
       "      <td>5.0</td>\n",
       "      <td>3.0</td>\n",
       "      <td>3.0</td>\n",
       "      <td>1</td>\n",
       "      <td>3.0</td>\n",
       "    </tr>\n",
       "    <tr>\n",
       "      <th>1</th>\n",
       "      <td>4.0</td>\n",
       "      <td>4.0</td>\n",
       "      <td>2.0</td>\n",
       "      <td>1.0</td>\n",
       "      <td>1.0</td>\n",
       "      <td>1.0</td>\n",
       "      <td>2.0</td>\n",
       "      <td>3.0</td>\n",
       "      <td>5.0</td>\n",
       "      <td>4.0</td>\n",
       "      <td>...</td>\n",
       "      <td>4.0</td>\n",
       "      <td>2.0</td>\n",
       "      <td>5.0</td>\n",
       "      <td>3.0</td>\n",
       "      <td>4.0</td>\n",
       "      <td>1.0</td>\n",
       "      <td>4.0</td>\n",
       "      <td>2.0</td>\n",
       "      <td>5</td>\n",
       "      <td>2.0</td>\n",
       "    </tr>\n",
       "  </tbody>\n",
       "</table>\n",
       "<p>2 rows × 68 columns</p>\n",
       "</div>"
      ],
      "text/plain": [
       "   Music  Slow songs or fast songs  Dance  Folk  Country  Classical music  \\\n",
       "0    5.0                       3.0    2.0   1.0      2.0              2.0   \n",
       "1    4.0                       4.0    2.0   1.0      1.0              1.0   \n",
       "\n",
       "   Musical  Pop  Rock  Metal or Hardrock             ...              \\\n",
       "0      1.0  5.0   5.0                1.0             ...               \n",
       "1      2.0  3.0   5.0                4.0             ...               \n",
       "\n",
       "   Fun with friends  Adrenaline sports  Pets  Finances  Shopping centres  \\\n",
       "0               5.0                4.0   4.0       3.0               4.0   \n",
       "1               4.0                2.0   5.0       3.0               4.0   \n",
       "\n",
       "   Branded clothing  Entertainment spending  Spending on looks  \\\n",
       "0               5.0                     3.0                3.0   \n",
       "1               1.0                     4.0                2.0   \n",
       "\n",
       "   Spending on gadgets  Spending on healthy eating  \n",
       "0                    1                         3.0  \n",
       "1                    5                         2.0  \n",
       "\n",
       "[2 rows x 68 columns]"
      ]
     },
     "execution_count": 40,
     "metadata": {},
     "output_type": "execute_result"
    }
   ],
   "source": [
    "movie_pref = responces.iloc[:,0:19] # various preferences of movies like Horror, thriller, Comedy, Romantic etc.\n",
    "phobias = responces.iloc[:,63:73] # columns has only phobia related information\n",
    "intrests = responces.iloc[:,31:63]\n",
    "spending_habits = responces.iloc[:,133:140] #This includes Hobbies and Stuffs\n",
    "res_feed = movie_pref.join([phobias,intrests,spending_habits]) # joining other selected features to the movie pref column\n",
    "res_feed =res_feed.dropna()\n",
    "res_feed.head(2)"
   ]
  },
  {
   "cell_type": "code",
   "execution_count": 41,
   "metadata": {},
   "outputs": [
    {
     "name": "stdout",
     "output_type": "stream",
     "text": [
      "             Music  Slow songs or fast songs     Dance      Folk   Country  \\\n",
      "clusters                                                                     \n",
      "0         4.608974                  3.493590  2.961538  1.737179  2.032051   \n",
      "1         4.875000                  3.375000  3.187500  3.232143  2.848214   \n",
      "2         4.800000                  3.361290  3.574194  1.974194  1.729032   \n",
      "3         4.809859                  3.133803  3.338028  2.253521  2.105634   \n",
      "4         4.752294                  3.045872  2.091743  2.449541  2.055046   \n",
      "\n",
      "          Classical music   Musical       Pop      Rock  Metal or Hardrock  \\\n",
      "clusters                                                                     \n",
      "0                2.423077  1.858974  3.250000  3.788462           2.698718   \n",
      "1                3.991071  3.267857  3.241071  4.232143           3.062500   \n",
      "2                2.161290  2.748387  4.109677  3.187097           1.503226   \n",
      "3                3.218310  3.239437  3.704225  3.929577           2.154930   \n",
      "4                3.605505  2.917431  2.688073  4.000000           2.605505   \n",
      "\n",
      "                     ...              Fun with friends  Adrenaline sports  \\\n",
      "clusters             ...                                                    \n",
      "0                    ...                      4.493590           3.294872   \n",
      "1                    ...                      4.633929           3.446429   \n",
      "2                    ...                      4.574194           2.425806   \n",
      "3                    ...                      4.746479           3.183099   \n",
      "4                    ...                      4.266055           2.045872   \n",
      "\n",
      "              Pets  Finances  Shopping centres  Branded clothing  \\\n",
      "clusters                                                           \n",
      "0         2.858974  2.839744          2.743590          3.358974   \n",
      "1         3.214286  3.241071          2.883929          2.857143   \n",
      "2         3.619355  3.025806          4.077419          3.032258   \n",
      "3         3.866197  2.943662          3.767606          3.478873   \n",
      "4         3.000000  3.302752          2.550459          2.128440   \n",
      "\n",
      "          Entertainment spending  Spending on looks  Spending on gadgets  \\\n",
      "clusters                                                                   \n",
      "0                       3.538462           2.858974             3.397436   \n",
      "1                       3.232143           2.607143             3.044643   \n",
      "2                       2.961290           3.496774             2.548387   \n",
      "3                       3.457746           3.852113             3.007042   \n",
      "4                       2.633028           2.385321             2.091743   \n",
      "\n",
      "          Spending on healthy eating  \n",
      "clusters                              \n",
      "0                           3.346154  \n",
      "1                           3.651786  \n",
      "2                           3.374194  \n",
      "3                           3.880282  \n",
      "4                           3.339450  \n",
      "\n",
      "[5 rows x 68 columns]\n"
     ]
    }
   ],
   "source": [
    "import pandas as pd\n",
    "from scipy import stats\n",
    "from sklearn.cluster import KMeans\n",
    "Z = stats.zscore(res_feed)\n",
    "#Cluster the data\n",
    "kmeans = KMeans(n_clusters=5, random_state=0).fit(Z) # Fitting the 5 cluster using KMeans cluster to the model\n",
    "labels = kmeans.labels_\n",
    "res_feed['clusters'] = labels\n",
    "#Lets analyze the clusters\n",
    "print (res_feed.groupby(['clusters']).mean())"
   ]
  },
  {
   "cell_type": "code",
   "execution_count": 81,
   "metadata": {},
   "outputs": [
    {
     "name": "stdout",
     "output_type": "stream",
     "text": [
      "model score: 0.813\n"
     ]
    },
    {
     "name": "stderr",
     "output_type": "stream",
     "text": [
      "/Users/garylau/anaconda/lib/python3.6/site-packages/sklearn/linear_model/logistic.py:459: FutureWarning: Default multi_class will be changed to 'auto' in 0.22. Specify the multi_class option to silence this warning.\n",
      "  \"this warning.\", FutureWarning)\n",
      "/Users/garylau/anaconda/lib/python3.6/site-packages/sklearn/linear_model/logistic.py:757: ConvergenceWarning: lbfgs failed to converge. Increase the number of iterations.\n",
      "  \"of iterations.\", ConvergenceWarning)\n",
      "/Users/garylau/anaconda/lib/python3.6/site-packages/sklearn/linear_model/logistic.py:757: ConvergenceWarning: lbfgs failed to converge. Increase the number of iterations.\n",
      "  \"of iterations.\", ConvergenceWarning)\n",
      "/Users/garylau/anaconda/lib/python3.6/site-packages/sklearn/linear_model/logistic.py:757: ConvergenceWarning: lbfgs failed to converge. Increase the number of iterations.\n",
      "  \"of iterations.\", ConvergenceWarning)\n",
      "/Users/garylau/anaconda/lib/python3.6/site-packages/sklearn/linear_model/logistic.py:757: ConvergenceWarning: lbfgs failed to converge. Increase the number of iterations.\n",
      "  \"of iterations.\", ConvergenceWarning)\n",
      "/Users/garylau/anaconda/lib/python3.6/site-packages/sklearn/linear_model/logistic.py:757: ConvergenceWarning: lbfgs failed to converge. Increase the number of iterations.\n",
      "  \"of iterations.\", ConvergenceWarning)\n"
     ]
    }
   ],
   "source": [
    "# Splitting the train and test data keeping test data of about 30%\n",
    "X2 = res_feed.drop('clusters', axis=1)\n",
    "y2 = res_feed['clusters']\n",
    "clf = LogisticRegression(solver='lbfgs')\n",
    "X2_train, X2_test, y2_train, y2_test = train_test_split(X2, y2,random_state=0, test_size=0.3)\n",
    "clf.fit(X2_train, y2_train)\n",
    "print(\"model score: %.3f\" % clf.score(X2_test, y2_test)) "
   ]
  },
  {
   "cell_type": "markdown",
   "metadata": {},
   "source": [
    "### Knn Classifier"
   ]
  },
  {
   "cell_type": "code",
   "execution_count": 43,
   "metadata": {},
   "outputs": [
    {
     "name": "stdout",
     "output_type": "stream",
     "text": [
      "Test set Accuracy is 0.645320197044\n"
     ]
    }
   ],
   "source": [
    "from sklearn.neighbors import KNeighborsClassifier\n",
    "knn = KNeighborsClassifier(n_neighbors=1)\n",
    "knn.fit(X2_train, y2_train) \n",
    "predictions =knn.predict(X2_test)\n",
    "print(\"Test set Accuracy is\" ,np.mean(predictions==y2_test)) "
   ]
  },
  {
   "cell_type": "markdown",
   "metadata": {},
   "source": [
    "### Gaussian Naive Baye's"
   ]
  },
  {
   "cell_type": "code",
   "execution_count": 44,
   "metadata": {},
   "outputs": [
    {
     "name": "stdout",
     "output_type": "stream",
     "text": [
      "Accuracy on test set 0.87684729064\n"
     ]
    }
   ],
   "source": [
    "from sklearn.naive_bayes import GaussianNB\n",
    "clf=GaussianNB()\n",
    "clf.fit(X2_train, y2_train)\n",
    "y2_pred=clf.predict(X2_test)\n",
    "print(\"Accuracy on test set\", np.mean(y2_pred==y2_test))"
   ]
  },
  {
   "cell_type": "markdown",
   "metadata": {},
   "source": [
    "### MLP Classifier"
   ]
  },
  {
   "cell_type": "code",
   "execution_count": 45,
   "metadata": {},
   "outputs": [
    {
     "name": "stdout",
     "output_type": "stream",
     "text": [
      "Accuracy on test set 0.817733990148\n"
     ]
    },
    {
     "name": "stderr",
     "output_type": "stream",
     "text": [
      "/Users/garylau/anaconda/lib/python3.6/site-packages/sklearn/neural_network/multilayer_perceptron.py:562: ConvergenceWarning: Stochastic Optimizer: Maximum iterations (200) reached and the optimization hasn't converged yet.\n",
      "  % self.max_iter, ConvergenceWarning)\n"
     ]
    }
   ],
   "source": [
    "from sklearn.neural_network import MLPClassifier\n",
    "import numpy as np\n",
    "clf=MLPClassifier(random_state=0)\n",
    "clf.fit(X2_train,y2_train)\n",
    "y2_pred=clf.predict(X2_test)\n",
    "print(\"Accuracy on test set\", np.mean(y2_pred==y2_test))"
   ]
  },
  {
   "cell_type": "markdown",
   "metadata": {},
   "source": [
    "From the above prediction analysis, Gaussian Naives bayes has better accuracy result"
   ]
  },
  {
   "cell_type": "markdown",
   "metadata": {},
   "source": [
    "### Plotting cluster between 5 different Preferences of movie"
   ]
  },
  {
   "cell_type": "code",
   "execution_count": 47,
   "metadata": {},
   "outputs": [
    {
     "data": {
      "image/png": "[encoded data removed]",
      "text/plain": [
       "<matplotlib.figure.Figure at 0x1a12a05ef0>"
      ]
     },
     "metadata": {},
     "output_type": "display_data"
    }
   ],
   "source": [
    "kmeans.fit(Z)\n",
    "y_kmeans = kmeans.predict(Z)\n",
    "plt.scatter(X2.iloc[:, 0], X2.iloc[:, 1], c=y_kmeans,s=50, cmap='viridis')\n",
    "centers = kmeans.cluster_centers_\n",
    "plt.scatter(centers[:, 0], centers[:, 1], s=200, alpha=0.5)\n",
    "plt.title(' Plotting cluster between 5 different Preferences of movie')\n",
    "plt.legend(loc='best')\n",
    "plt.show()"
   ]
  },
  {
   "cell_type": "markdown",
   "metadata": {},
   "source": [
    " Kmeans is an unsupervised learning algorithm. Algorithm categorize the items into K groups of similarity. First it initializes K mean value randomly and categorize each items to its closed mean. Also take different mean values which doesn't match to the first initialize mean during iteration of items. so like this we get group of clusters with similarity in items using mean value."
   ]
  },
  {
   "cell_type": "markdown",
   "metadata": {},
   "source": [
    "# Speed Dating Experiment - Match classifier\n",
    "## Data Preprocessing"
   ]
  },
  {
   "cell_type": "code",
   "execution_count": 83,
   "metadata": {},
   "outputs": [],
   "source": [
    "#read file\n",
    "SpeedDate = pd.read_csv('annavmontoya-speed-dating-experiment/Speed Dating Data.csv',sep=',', engine='python')"
   ]
  },
  {
   "cell_type": "markdown",
   "metadata": {},
   "source": [
    "The original speed dating data contains 8378 observations with 195 variables. \n",
    "\n",
    "In this project, we are not interested to how the participant rate their partners after the date as this is usually not collectable from individuals by event host. We only select basic attributes of the participants such as age, income, race, field of work or study, orign, their go out pattern and their interests as our predictors. \n",
    "\n",
    "Our preprocessing has three major steps. First we create a data frame with all the pairs of the speed dating events and whether they match. Second we create a data frame for the profile of each the participants. Last we will map the profiles to the first data frame and compare the differences between the profiles of the participant and the partner and create the input data for our model building."
   ]
  },
  {
   "cell_type": "code",
   "execution_count": 84,
   "metadata": {},
   "outputs": [
    {
     "data": {
      "text/html": [
       "<div>\n",
       "<style>\n",
       "    .dataframe thead tr:only-child th {\n",
       "        text-align: right;\n",
       "    }\n",
       "\n",
       "    .dataframe thead th {\n",
       "        text-align: left;\n",
       "    }\n",
       "\n",
       "    .dataframe tbody tr th {\n",
       "        vertical-align: top;\n",
       "    }\n",
       "</style>\n",
       "<table border=\"1\" class=\"dataframe\">\n",
       "  <thead>\n",
       "    <tr style=\"text-align: right;\">\n",
       "      <th></th>\n",
       "      <th>match</th>\n",
       "      <th>iid</th>\n",
       "      <th>pid</th>\n",
       "    </tr>\n",
       "  </thead>\n",
       "  <tbody>\n",
       "    <tr>\n",
       "      <th>0</th>\n",
       "      <td>0</td>\n",
       "      <td>1</td>\n",
       "      <td>11.0</td>\n",
       "    </tr>\n",
       "    <tr>\n",
       "      <th>1</th>\n",
       "      <td>0</td>\n",
       "      <td>1</td>\n",
       "      <td>12.0</td>\n",
       "    </tr>\n",
       "    <tr>\n",
       "      <th>2</th>\n",
       "      <td>1</td>\n",
       "      <td>1</td>\n",
       "      <td>13.0</td>\n",
       "    </tr>\n",
       "    <tr>\n",
       "      <th>3</th>\n",
       "      <td>1</td>\n",
       "      <td>1</td>\n",
       "      <td>14.0</td>\n",
       "    </tr>\n",
       "    <tr>\n",
       "      <th>4</th>\n",
       "      <td>1</td>\n",
       "      <td>1</td>\n",
       "      <td>15.0</td>\n",
       "    </tr>\n",
       "  </tbody>\n",
       "</table>\n",
       "</div>"
      ],
      "text/plain": [
       "   match  iid   pid\n",
       "0      0    1  11.0\n",
       "1      0    1  12.0\n",
       "2      1    1  13.0\n",
       "3      1    1  14.0\n",
       "4      1    1  15.0"
      ]
     },
     "execution_count": 84,
     "metadata": {},
     "output_type": "execute_result"
    }
   ],
   "source": [
    "#First Data Frame\n",
    "#setting up target and response\n",
    "data = ['match','iid','pid']\n",
    "match = SpeedDate[data].dropna()\n",
    "match.head()"
   ]
  },
  {
   "cell_type": "code",
   "execution_count": 85,
   "metadata": {},
   "outputs": [
    {
     "data": {
      "text/html": [
       "<div>\n",
       "<style>\n",
       "    .dataframe thead tr:only-child th {\n",
       "        text-align: right;\n",
       "    }\n",
       "\n",
       "    .dataframe thead th {\n",
       "        text-align: left;\n",
       "    }\n",
       "\n",
       "    .dataframe tbody tr th {\n",
       "        vertical-align: top;\n",
       "    }\n",
       "</style>\n",
       "<table border=\"1\" class=\"dataframe\">\n",
       "  <thead>\n",
       "    <tr style=\"text-align: right;\">\n",
       "      <th></th>\n",
       "      <th>iid</th>\n",
       "      <th>gender</th>\n",
       "      <th>age</th>\n",
       "      <th>income</th>\n",
       "      <th>race</th>\n",
       "      <th>field_cd</th>\n",
       "      <th>from</th>\n",
       "      <th>go_out</th>\n",
       "      <th>sports</th>\n",
       "      <th>tvsports</th>\n",
       "      <th>...</th>\n",
       "      <th>gaming</th>\n",
       "      <th>clubbing</th>\n",
       "      <th>reading</th>\n",
       "      <th>tv</th>\n",
       "      <th>theater</th>\n",
       "      <th>movies</th>\n",
       "      <th>concerts</th>\n",
       "      <th>music</th>\n",
       "      <th>shopping</th>\n",
       "      <th>yoga</th>\n",
       "    </tr>\n",
       "  </thead>\n",
       "  <tbody>\n",
       "    <tr>\n",
       "      <th>0</th>\n",
       "      <td>1</td>\n",
       "      <td>0</td>\n",
       "      <td>21.0</td>\n",
       "      <td>69,487.00</td>\n",
       "      <td>4.0</td>\n",
       "      <td>1.0</td>\n",
       "      <td>Chicago</td>\n",
       "      <td>1.0</td>\n",
       "      <td>9.0</td>\n",
       "      <td>2.0</td>\n",
       "      <td>...</td>\n",
       "      <td>1.0</td>\n",
       "      <td>5.0</td>\n",
       "      <td>6.0</td>\n",
       "      <td>9.0</td>\n",
       "      <td>1.0</td>\n",
       "      <td>10.0</td>\n",
       "      <td>10.0</td>\n",
       "      <td>9.0</td>\n",
       "      <td>8.0</td>\n",
       "      <td>1.0</td>\n",
       "    </tr>\n",
       "    <tr>\n",
       "      <th>10</th>\n",
       "      <td>2</td>\n",
       "      <td>0</td>\n",
       "      <td>24.0</td>\n",
       "      <td>65,929.00</td>\n",
       "      <td>2.0</td>\n",
       "      <td>1.0</td>\n",
       "      <td>Alabama</td>\n",
       "      <td>1.0</td>\n",
       "      <td>3.0</td>\n",
       "      <td>2.0</td>\n",
       "      <td>...</td>\n",
       "      <td>5.0</td>\n",
       "      <td>8.0</td>\n",
       "      <td>10.0</td>\n",
       "      <td>1.0</td>\n",
       "      <td>9.0</td>\n",
       "      <td>8.0</td>\n",
       "      <td>7.0</td>\n",
       "      <td>8.0</td>\n",
       "      <td>3.0</td>\n",
       "      <td>1.0</td>\n",
       "    </tr>\n",
       "    <tr>\n",
       "      <th>20</th>\n",
       "      <td>3</td>\n",
       "      <td>0</td>\n",
       "      <td>25.0</td>\n",
       "      <td>NaN</td>\n",
       "      <td>2.0</td>\n",
       "      <td>2.0</td>\n",
       "      <td>Connecticut</td>\n",
       "      <td>1.0</td>\n",
       "      <td>3.0</td>\n",
       "      <td>8.0</td>\n",
       "      <td>...</td>\n",
       "      <td>4.0</td>\n",
       "      <td>5.0</td>\n",
       "      <td>7.0</td>\n",
       "      <td>8.0</td>\n",
       "      <td>7.0</td>\n",
       "      <td>7.0</td>\n",
       "      <td>7.0</td>\n",
       "      <td>5.0</td>\n",
       "      <td>8.0</td>\n",
       "      <td>7.0</td>\n",
       "    </tr>\n",
       "    <tr>\n",
       "      <th>30</th>\n",
       "      <td>4</td>\n",
       "      <td>0</td>\n",
       "      <td>23.0</td>\n",
       "      <td>37,754.00</td>\n",
       "      <td>2.0</td>\n",
       "      <td>1.0</td>\n",
       "      <td>Texas</td>\n",
       "      <td>1.0</td>\n",
       "      <td>1.0</td>\n",
       "      <td>1.0</td>\n",
       "      <td>...</td>\n",
       "      <td>5.0</td>\n",
       "      <td>7.0</td>\n",
       "      <td>7.0</td>\n",
       "      <td>7.0</td>\n",
       "      <td>9.0</td>\n",
       "      <td>7.0</td>\n",
       "      <td>8.0</td>\n",
       "      <td>7.0</td>\n",
       "      <td>1.0</td>\n",
       "      <td>8.0</td>\n",
       "    </tr>\n",
       "    <tr>\n",
       "      <th>40</th>\n",
       "      <td>5</td>\n",
       "      <td>0</td>\n",
       "      <td>21.0</td>\n",
       "      <td>86,340.00</td>\n",
       "      <td>2.0</td>\n",
       "      <td>1.0</td>\n",
       "      <td>Bowdoin College</td>\n",
       "      <td>1.0</td>\n",
       "      <td>7.0</td>\n",
       "      <td>4.0</td>\n",
       "      <td>...</td>\n",
       "      <td>6.0</td>\n",
       "      <td>8.0</td>\n",
       "      <td>6.0</td>\n",
       "      <td>8.0</td>\n",
       "      <td>6.0</td>\n",
       "      <td>6.0</td>\n",
       "      <td>3.0</td>\n",
       "      <td>7.0</td>\n",
       "      <td>8.0</td>\n",
       "      <td>3.0</td>\n",
       "    </tr>\n",
       "  </tbody>\n",
       "</table>\n",
       "<p>5 rows × 25 columns</p>\n",
       "</div>"
      ],
      "text/plain": [
       "    iid  gender   age     income  race  field_cd             from  go_out  \\\n",
       "0     1       0  21.0  69,487.00   4.0       1.0          Chicago     1.0   \n",
       "10    2       0  24.0  65,929.00   2.0       1.0          Alabama     1.0   \n",
       "20    3       0  25.0        NaN   2.0       2.0      Connecticut     1.0   \n",
       "30    4       0  23.0  37,754.00   2.0       1.0            Texas     1.0   \n",
       "40    5       0  21.0  86,340.00   2.0       1.0  Bowdoin College     1.0   \n",
       "\n",
       "    sports  tvsports  ...   gaming  clubbing  reading   tv  theater  movies  \\\n",
       "0      9.0       2.0  ...      1.0       5.0      6.0  9.0      1.0    10.0   \n",
       "10     3.0       2.0  ...      5.0       8.0     10.0  1.0      9.0     8.0   \n",
       "20     3.0       8.0  ...      4.0       5.0      7.0  8.0      7.0     7.0   \n",
       "30     1.0       1.0  ...      5.0       7.0      7.0  7.0      9.0     7.0   \n",
       "40     7.0       4.0  ...      6.0       8.0      6.0  8.0      6.0     6.0   \n",
       "\n",
       "    concerts  music  shopping  yoga  \n",
       "0       10.0    9.0       8.0   1.0  \n",
       "10       7.0    8.0       3.0   1.0  \n",
       "20       7.0    5.0       8.0   7.0  \n",
       "30       8.0    7.0       1.0   8.0  \n",
       "40       3.0    7.0       8.0   3.0  \n",
       "\n",
       "[5 rows x 25 columns]"
      ]
     },
     "execution_count": 85,
     "metadata": {},
     "output_type": "execute_result"
    }
   ],
   "source": [
    "#Second Data Frame\n",
    "#create a dataframe with the selected columns\n",
    "profile = SpeedDate[['iid','gender', 'age','income','race','field_cd','from','go_out', #basic demographic charateristics\n",
    "          'sports','tvsports','exercise','dining','museums','art','hiking','gaming','clubbing','reading',#interest\n",
    "           'tv','theater', 'movies','concerts','music',\n",
    "                     'shopping','yoga']].drop_duplicates(subset='iid',keep='first') #pick only the first records\n",
    "profile.head()"
   ]
  },
  {
   "cell_type": "markdown",
   "metadata": {},
   "source": [
    "### Missing Value Treatment\n",
    "Below are the number of missing value of each column. As the missing value in income is significant to the total number of observations, We will fill this missing value with the mean income. We also filled missing value in age with mean age. The missing value in rest of the variables is small so we drop those records from our analysis."
   ]
  },
  {
   "cell_type": "code",
   "execution_count": 86,
   "metadata": {},
   "outputs": [
    {
     "data": {
      "text/plain": [
       "iid           0\n",
       "gender        0\n",
       "age           8\n",
       "income      270\n",
       "race          6\n",
       "field_cd      7\n",
       "from          7\n",
       "go_out        7\n",
       "sports        7\n",
       "tvsports      7\n",
       "exercise      7\n",
       "dining        7\n",
       "museums       7\n",
       "art           7\n",
       "hiking        7\n",
       "gaming        7\n",
       "clubbing      7\n",
       "reading       7\n",
       "tv            7\n",
       "theater       7\n",
       "movies        7\n",
       "concerts      7\n",
       "music         7\n",
       "shopping      7\n",
       "yoga          7\n",
       "dtype: int64"
      ]
     },
     "execution_count": 86,
     "metadata": {},
     "output_type": "execute_result"
    }
   ],
   "source": [
    "profile.isnull().sum()"
   ]
  },
  {
   "cell_type": "code",
   "execution_count": 87,
   "metadata": {},
   "outputs": [
    {
     "name": "stderr",
     "output_type": "stream",
     "text": [
      "/Users/garylau/anaconda/lib/python3.6/site-packages/pandas/core/indexing.py:179: SettingWithCopyWarning: \n",
      "A value is trying to be set on a copy of a slice from a DataFrame\n",
      "\n",
      "See the caveats in the documentation: http://pandas.pydata.org/pandas-docs/stable/indexing.html#indexing-view-versus-copy\n",
      "  self._setitem_with_indexer(indexer, value)\n"
     ]
    }
   ],
   "source": [
    "#cleaning the column income\n",
    "#remove comma in each of the records so mean can be calculated\n",
    "import re\n",
    "for i in range(0,len(profile['income'])):\n",
    "    \n",
    "    if pd.isnull(profile['income'].iloc[i])== True:\n",
    "        pass\n",
    "    else:\n",
    "        profile['income'].iloc[i] = float(re.sub(',','',profile['income'].iloc[i]))\n",
    "\n",
    "#filled missing income with mean\n",
    "profile['income'] = profile['income'].fillna(profile['income'].mean()) "
   ]
  },
  {
   "cell_type": "code",
   "execution_count": 88,
   "metadata": {},
   "outputs": [],
   "source": [
    "#drop all remaining na\n",
    "profile['age']= profile['age'].fillna(profile['age'].mean())\n",
    "profile= profile.fillna(0)"
   ]
  },
  {
   "cell_type": "markdown",
   "metadata": {},
   "source": [
    "### Data Transformation\n",
    "As we are only interested whether the participant and their partner share similar interest, we have recode the ranking of interest. For interest that the participant ranked top 3, we assume the participant is 'interested' to that interest and rest are 'not interested'."
   ]
  },
  {
   "cell_type": "code",
   "execution_count": 54,
   "metadata": {},
   "outputs": [],
   "source": [
    "interest = ['sports','tvsports','exercise','dining','museums','art','hiking','gaming','clubbing','reading',\n",
    "           'tv','theater', 'movies','concerts','music','shopping','yoga'] # a list of interest\n",
    "#convert the top 3 interest into 1 else 0\n",
    "for i in interest:\n",
    "    profile[i]= profile[i].replace([1,2,3],1)\n",
    "    profile[i]= profile[i].replace(range(4,11),0)"
   ]
  },
  {
   "cell_type": "code",
   "execution_count": 55,
   "metadata": {},
   "outputs": [
    {
     "data": {
      "text/html": [
       "<div>\n",
       "<style>\n",
       "    .dataframe thead tr:only-child th {\n",
       "        text-align: right;\n",
       "    }\n",
       "\n",
       "    .dataframe thead th {\n",
       "        text-align: left;\n",
       "    }\n",
       "\n",
       "    .dataframe tbody tr th {\n",
       "        vertical-align: top;\n",
       "    }\n",
       "</style>\n",
       "<table border=\"1\" class=\"dataframe\">\n",
       "  <thead>\n",
       "    <tr style=\"text-align: right;\">\n",
       "      <th></th>\n",
       "      <th>age</th>\n",
       "      <th>field_cd</th>\n",
       "      <th>go_out</th>\n",
       "      <th>income</th>\n",
       "      <th>interest</th>\n",
       "      <th>match</th>\n",
       "      <th>origin</th>\n",
       "      <th>race</th>\n",
       "    </tr>\n",
       "  </thead>\n",
       "  <tbody>\n",
       "    <tr>\n",
       "      <th>0</th>\n",
       "      <td>-1.0</td>\n",
       "      <td>0</td>\n",
       "      <td>0</td>\n",
       "      <td>40250.000000</td>\n",
       "      <td>1</td>\n",
       "      <td>0</td>\n",
       "      <td>0</td>\n",
       "      <td>0</td>\n",
       "    </tr>\n",
       "    <tr>\n",
       "      <th>0</th>\n",
       "      <td>-1.0</td>\n",
       "      <td>0</td>\n",
       "      <td>0</td>\n",
       "      <td>24201.362989</td>\n",
       "      <td>1</td>\n",
       "      <td>1</td>\n",
       "      <td>0</td>\n",
       "      <td>0</td>\n",
       "    </tr>\n",
       "    <tr>\n",
       "      <th>0</th>\n",
       "      <td>-2.0</td>\n",
       "      <td>0</td>\n",
       "      <td>0</td>\n",
       "      <td>12907.000000</td>\n",
       "      <td>4</td>\n",
       "      <td>1</td>\n",
       "      <td>0</td>\n",
       "      <td>0</td>\n",
       "    </tr>\n",
       "    <tr>\n",
       "      <th>0</th>\n",
       "      <td>-3.0</td>\n",
       "      <td>0</td>\n",
       "      <td>0</td>\n",
       "      <td>32705.000000</td>\n",
       "      <td>2</td>\n",
       "      <td>1</td>\n",
       "      <td>0</td>\n",
       "      <td>0</td>\n",
       "    </tr>\n",
       "    <tr>\n",
       "      <th>0</th>\n",
       "      <td>-4.0</td>\n",
       "      <td>0</td>\n",
       "      <td>0</td>\n",
       "      <td>24201.362989</td>\n",
       "      <td>2</td>\n",
       "      <td>0</td>\n",
       "      <td>0</td>\n",
       "      <td>0</td>\n",
       "    </tr>\n",
       "  </tbody>\n",
       "</table>\n",
       "</div>"
      ],
      "text/plain": [
       "   age  field_cd  go_out        income  interest  match  origin  race\n",
       "0 -1.0         0       0  40250.000000         1      0       0     0\n",
       "0 -1.0         0       0  24201.362989         1      1       0     0\n",
       "0 -2.0         0       0  12907.000000         4      1       0     0\n",
       "0 -3.0         0       0  32705.000000         2      1       0     0\n",
       "0 -4.0         0       0  24201.362989         2      0       0     0"
      ]
     },
     "execution_count": 55,
     "metadata": {},
     "output_type": "execute_result"
    }
   ],
   "source": [
    "#Third Data Frame\n",
    "# Map the profiles difference with whether the date result is a match or not\n",
    "diff = pd.DataFrame()\n",
    "for obs in range(1,len(match)):\n",
    "    if match['iid'].iloc[obs] in profile['iid'].unique() and int(match['pid'].iloc[obs]) in profile['iid'].unique():\n",
    "        diff = diff.append(extract_match(match, profile, interest, obs))\n",
    "\n",
    "diff.head() #prepared data frame"
   ]
  },
  {
   "cell_type": "markdown",
   "metadata": {},
   "source": [
    "## Data Exploration"
   ]
  },
  {
   "cell_type": "code",
   "execution_count": 56,
   "metadata": {},
   "outputs": [
    {
     "data": {
      "image/png": "[encoded data removed]",
      "text/plain": [
       "<matplotlib.figure.Figure at 0x1a175484e0>"
      ]
     },
     "metadata": {},
     "output_type": "display_data"
    }
   ],
   "source": [
    "sns.countplot(diff['match'])\n",
    "plt.title('The response variables: match')\n",
    "plt.show()"
   ]
  },
  {
   "cell_type": "markdown",
   "metadata": {},
   "source": [
    "Only 12% of the dates end up with a match. We have modeled based on this data but it is found that models created has high accuracy but low AUC. To deal with the unbalanced target variable, we will perform oversampling the minority group (match). And in order to make sure the consistancy of our result, we will split the data train, valid and test before our model building. Oversampling will only be done on train and valid data while we will use the test data to be our gatekeeper to ensure consistency when we feed unmodified data into the model."
   ]
  },
  {
   "cell_type": "code",
   "execution_count": 57,
   "metadata": {},
   "outputs": [
    {
     "data": {
      "image/png": "[encoded data removed]",
      "text/plain": [
       "<matplotlib.figure.Figure at 0x1a18738a90>"
      ]
     },
     "metadata": {},
     "output_type": "display_data"
    }
   ],
   "source": [
    "plt.figure(figsize=(12,6))\n",
    "plt.subplot(121)\n",
    "sns.distplot(diff.age)\n",
    "plt.title('age diffference distribution')\n",
    "plt.subplot(122)\n",
    "sns.boxplot(y = diff.age,x = diff.match)\n",
    "plt.title('age difference distribution vs match')\n",
    "plt.show()"
   ]
  },
  {
   "cell_type": "markdown",
   "metadata": {},
   "source": [
    "The age difference between the participants and their partners is approximately normally distributed at 0. From the boxplot, age difference doesn't appears to have any significant different between match or not match."
   ]
  },
  {
   "cell_type": "code",
   "execution_count": 58,
   "metadata": {},
   "outputs": [
    {
     "data": {
      "image/png": "[encoded data removed]",
      "text/plain": [
       "<matplotlib.figure.Figure at 0x1a12bd77f0>"
      ]
     },
     "metadata": {},
     "output_type": "display_data"
    }
   ],
   "source": [
    "plt.figure(figsize=(12,6))\n",
    "plt.subplot(121)\n",
    "sns.distplot(diff.income)\n",
    "plt.title('income diffference distribution')\n",
    "plt.subplot(122)\n",
    "sns.boxplot(y = diff.income,x = diff.match)\n",
    "plt.title('income difference distribution vs match')\n",
    "plt.show()"
   ]
  },
  {
   "cell_type": "markdown",
   "metadata": {},
   "source": [
    "Similarly, income difference between the participants and their partners is also approximately normally distributed. The boxplot shows pair did not match is more widely spreaded but there are no significant differences in median of income difference on whether the pairs is a match or not."
   ]
  },
  {
   "cell_type": "code",
   "execution_count": 59,
   "metadata": {},
   "outputs": [
    {
     "data": {
      "image/png": "[encoded data removed]",
      "text/plain": [
       "<matplotlib.figure.Figure at 0x1a17590898>"
      ]
     },
     "metadata": {},
     "output_type": "display_data"
    }
   ],
   "source": [
    "sns.scatterplot(diff.age,diff.income)\n",
    "plt.show()"
   ]
  },
  {
   "cell_type": "markdown",
   "metadata": {},
   "source": [
    "From the scatterplot, income difference and age difference are not correlated so it is safe for us to use them as predictors."
   ]
  },
  {
   "cell_type": "code",
   "execution_count": 60,
   "metadata": {},
   "outputs": [
    {
     "data": {
      "image/png": "[encoded data removed]",
      "text/plain": [
       "<matplotlib.figure.Figure at 0x1a1ca75048>"
      ]
     },
     "metadata": {},
     "output_type": "display_data"
    }
   ],
   "source": [
    "plt.figure(figsize=(12,6))\n",
    "plt.subplot(121)\n",
    "sns.countplot(diff['interest'],hue=diff.match)\n",
    "plt.title('number of shared interest')\n",
    "plt.subplot(122)\n",
    "sns.boxplot(y = diff.interest,x = diff.match)\n",
    "plt.title('number of shared interest')\n",
    "plt.show()"
   ]
  },
  {
   "cell_type": "markdown",
   "metadata": {},
   "source": [
    "For above, we can see pairs ends up with a match generally shared less interest than pairs do not match."
   ]
  },
  {
   "cell_type": "code",
   "execution_count": 61,
   "metadata": {},
   "outputs": [
    {
     "data": {
      "image/png": "[encoded data removed]",
      "text/plain": [
       "<matplotlib.figure.Figure at 0x1a180d4e48>"
      ]
     },
     "metadata": {},
     "output_type": "display_data"
    }
   ],
   "source": [
    "sns.countplot(diff['origin'])\n",
    "plt.title('shared origin')\n",
    "plt.show()"
   ]
  },
  {
   "cell_type": "markdown",
   "metadata": {},
   "source": [
    "None of the pairs shared the same origin. Hence, the variable no longer useful and we will drop this variable in our model building."
   ]
  },
  {
   "cell_type": "markdown",
   "metadata": {},
   "source": [
    "# Model Building\n",
    "\n",
    "In the coming section, we will use different algorithms to train the classification model to classify whether the speed dating pair will be a match to the participant. As mentioned earlier, we will split the data into 3 parts."
   ]
  },
  {
   "cell_type": "code",
   "execution_count": 62,
   "metadata": {},
   "outputs": [],
   "source": [
    "target = diff['match']\n",
    "data = diff.drop(['match','origin'],axis=1)\n",
    "from sklearn.model_selection import train_test_split\n",
    "X, X_test, y, y_test = train_test_split(data, target, random_state=123, train_size=0.8, test_size = 0.2)\n",
    "diff_n = pd.concat([X,y],axis=1)"
   ]
  },
  {
   "cell_type": "code",
   "execution_count": 63,
   "metadata": {},
   "outputs": [
    {
     "name": "stdout",
     "output_type": "stream",
     "text": [
      "The processed dataset has response as follow: \n",
      "0    5594\n",
      "1    3915\n",
      "Name: match, dtype: int64\n"
     ]
    }
   ],
   "source": [
    "from sklearn.utils import resample\n",
    "# Separate majority and minority classes\n",
    "majority = diff_n[diff_n.match==0]\n",
    "minority = diff_n[diff_n.match==1]\n",
    " \n",
    "# Oversampleing majority class\n",
    "resample = resample(minority, \n",
    "                    replace=True,    # sample without replacement\n",
    "                    n_samples=int(diff_n.match.value_counts()[0]*0.7),     # to match minority class\n",
    "                    random_state=123) # reproducible results\n",
    " \n",
    "# Combine minority class with downsampled majority class\n",
    "diff_n = pd.concat([resample, majority])\n",
    " \n",
    "# Display new class counts\n",
    "print(\"The processed dataset has response as follow: \")\n",
    "print(diff_n.match.value_counts())"
   ]
  },
  {
   "cell_type": "code",
   "execution_count": 64,
   "metadata": {},
   "outputs": [],
   "source": [
    "#creating data frame for target and features\n",
    "target = diff_n['match']\n",
    "data = diff_n.drop('match',axis=1)"
   ]
  },
  {
   "cell_type": "code",
   "execution_count": 65,
   "metadata": {},
   "outputs": [],
   "source": [
    "#split the data\n",
    "from sklearn.metrics import confusion_matrix\n",
    "from sklearn.model_selection import train_test_split\n",
    "\n",
    "X_train, X_valid, y_train, y_valid = train_test_split(data, target, random_state=123, train_size=0.7,test_size=0.3)"
   ]
  },
  {
   "cell_type": "code",
   "execution_count": 66,
   "metadata": {},
   "outputs": [],
   "source": [
    "# initialise lists to store the evaluation of different model\n",
    "train_acc = []\n",
    "train_auc = []\n",
    "test_acc =[]\n",
    "test_auc = []\n",
    "valid_acc=[]\n",
    "valid_auc=[]"
   ]
  },
  {
   "cell_type": "markdown",
   "metadata": {},
   "source": [
    "### Logistic Regression\n",
    "Logistic regression is estimating the parameters of a logistic model; it is a form of binomial regressiom. It took the predictors to estimate the probability of the response class."
   ]
  },
  {
   "cell_type": "code",
   "execution_count": 67,
   "metadata": {},
   "outputs": [],
   "source": [
    "#Logistic Regression\n",
    "from sklearn.linear_model import LogisticRegression\n",
    "logreg = LogisticRegression(random_state=0, solver='lbfgs',multi_class='multinomial').fit(X_train, y_train)\n",
    "lr_score = model_evaluation_score(logreg, X_train,X_valid,X_test,y_train,y_valid,y_test)\n",
    "train_acc.append(lr_score['train_acc'])\n",
    "train_auc.append(lr_score['train_auc'])\n",
    "test_acc.append(lr_score['test_acc'])\n",
    "test_auc.append(lr_score['test_auc'])\n",
    "valid_acc.append(lr_score['valid_acc'])\n",
    "valid_auc.append(lr_score['valid_auc'])"
   ]
  },
  {
   "cell_type": "markdown",
   "metadata": {},
   "source": [
    "### K-nearest Neighbors (KNN)\n",
    "In pattern recognition, the k-nearest neighbors algorithm (k-NN) is a non-parametric method used for classification and regression. It calculate the 'how difference' the instance to the target class and classify based on which is the nearest class"
   ]
  },
  {
   "cell_type": "code",
   "execution_count": 68,
   "metadata": {},
   "outputs": [],
   "source": [
    "# K-nearest Neighbours\n",
    "from sklearn.neighbors import KNeighborsClassifier\n",
    "knn = KNeighborsClassifier(n_neighbors=1)\n",
    "knn.fit(X_train, y_train)\n",
    "knn_score = model_evaluation_score(knn, X_train,X_valid,X_test,y_train,y_valid,y_test)\n",
    "train_acc.append(knn_score['train_acc'])\n",
    "train_auc.append(knn_score['train_auc'])\n",
    "test_acc.append(knn_score['test_acc'])\n",
    "test_auc.append(knn_score['test_auc'])\n",
    "valid_acc.append(knn_score['valid_acc'])\n",
    "valid_auc.append(knn_score['valid_auc'])"
   ]
  },
  {
   "cell_type": "markdown",
   "metadata": {},
   "source": [
    "### Naive Bayes\n",
    "\n",
    "In machine learning, naive Bayes classifiers are a family of simple \"probabilistic classifiers\" based on applying Bayes' theorem with strong (naive) independence assumptions between the features. We train the model based on the occurence of a certain feature in the prior observation and classify based on if that feature appears in the posterior observation."
   ]
  },
  {
   "cell_type": "code",
   "execution_count": 69,
   "metadata": {},
   "outputs": [],
   "source": [
    "# Gaussian Naive bayes\n",
    "from sklearn.naive_bayes import GaussianNB\n",
    "gnb = GaussianNB()\n",
    "gnb.fit(X_train,y_train)\n",
    "gnb_score = model_evaluation_score(gnb, X_train,X_valid,X_test,y_train,y_valid,y_test)\n",
    "train_acc.append(gnb_score['train_acc'])\n",
    "train_auc.append(gnb_score['train_auc'])\n",
    "test_acc.append(gnb_score['test_acc'])\n",
    "test_auc.append(gnb_score['test_auc'])\n",
    "valid_acc.append(gnb_score['valid_acc'])\n",
    "valid_auc.append(gnb_score['valid_auc'])"
   ]
  },
  {
   "cell_type": "markdown",
   "metadata": {},
   "source": [
    "### Neural Network\n",
    "Neural Network used a simulation of neuron from the brain. It starts with assigning random weight in the calculation of probability of class that the observation belongs. And by readjusting the weight in different layers when it makes an error, the algorithm modified the weight automatically to give better result."
   ]
  },
  {
   "cell_type": "code",
   "execution_count": 70,
   "metadata": {},
   "outputs": [],
   "source": [
    "# Neural Network\n",
    "from sklearn.neural_network import MLPClassifier\n",
    "\n",
    "mlpc = MLPClassifier(hidden_layer_sizes=(10), alpha=0.0001, random_state=0)\n",
    "mlpc.fit(X_train,y_train)\n",
    "mlpc_score = model_evaluation_score(mlpc,X_train,X_valid,X_test,y_train,y_valid,y_test)\n",
    "train_acc.append(mlpc_score['train_acc'])\n",
    "train_auc.append(mlpc_score['train_auc'])\n",
    "test_acc.append(mlpc_score['test_acc'])\n",
    "test_auc.append(mlpc_score['test_auc'])\n",
    "valid_acc.append(mlpc_score['valid_acc'])\n",
    "valid_auc.append(mlpc_score['valid_auc'])"
   ]
  },
  {
   "cell_type": "markdown",
   "metadata": {},
   "source": [
    "### Decision Tree\n",
    "A decision tree is a decision support tool that uses a tree-like model of decisions and their possible consequences, including chance event outcomes, resource costs, and utility."
   ]
  },
  {
   "cell_type": "code",
   "execution_count": 71,
   "metadata": {},
   "outputs": [],
   "source": [
    "# Descision Treee\n",
    "from sklearn.tree import DecisionTreeClassifier\n",
    "dtree = DecisionTreeClassifier(random_state=0,min_samples_split=5)\n",
    "dtree.fit(X_train, y_train)\n",
    "dtree_score = model_evaluation_score(dtree, X_train,X_valid,X_test,y_train,y_valid,y_test)\n",
    "train_acc.append(dtree_score['train_acc'])\n",
    "train_auc.append(dtree_score['train_auc'])\n",
    "test_acc.append(dtree_score['test_acc'])\n",
    "test_auc.append(dtree_score['test_auc'])\n",
    "valid_acc.append(dtree_score['valid_acc'])\n",
    "valid_auc.append(dtree_score['valid_auc'])"
   ]
  },
  {
   "cell_type": "markdown",
   "metadata": {},
   "source": [
    "After fitting different model, we create a data frame to display the Accuracy and AUC to mesure the performance of different models."
   ]
  },
  {
   "cell_type": "code",
   "execution_count": 72,
   "metadata": {},
   "outputs": [
    {
     "data": {
      "text/html": [
       "<div>\n",
       "<style>\n",
       "    .dataframe thead tr:only-child th {\n",
       "        text-align: right;\n",
       "    }\n",
       "\n",
       "    .dataframe thead th {\n",
       "        text-align: left;\n",
       "    }\n",
       "\n",
       "    .dataframe tbody tr th {\n",
       "        vertical-align: top;\n",
       "    }\n",
       "</style>\n",
       "<table border=\"1\" class=\"dataframe\">\n",
       "  <thead>\n",
       "    <tr style=\"text-align: right;\">\n",
       "      <th></th>\n",
       "      <th>model</th>\n",
       "      <th>test_acc</th>\n",
       "      <th>test_auc</th>\n",
       "      <th>train_acc</th>\n",
       "      <th>train_auc</th>\n",
       "      <th>valid_acc</th>\n",
       "      <th>valid_auc</th>\n",
       "    </tr>\n",
       "  </thead>\n",
       "  <tbody>\n",
       "    <tr>\n",
       "      <th>0</th>\n",
       "      <td>logreg</td>\n",
       "      <td>0.814815</td>\n",
       "      <td>0.502967</td>\n",
       "      <td>0.586388</td>\n",
       "      <td>0.516014</td>\n",
       "      <td>0.577638</td>\n",
       "      <td>0.509837</td>\n",
       "    </tr>\n",
       "    <tr>\n",
       "      <th>1</th>\n",
       "      <td>knn</td>\n",
       "      <td>0.689367</td>\n",
       "      <td>0.522166</td>\n",
       "      <td>0.884465</td>\n",
       "      <td>0.880473</td>\n",
       "      <td>0.781633</td>\n",
       "      <td>0.786512</td>\n",
       "    </tr>\n",
       "    <tr>\n",
       "      <th>2</th>\n",
       "      <td>gnb</td>\n",
       "      <td>0.830346</td>\n",
       "      <td>0.554100</td>\n",
       "      <td>0.589844</td>\n",
       "      <td>0.538257</td>\n",
       "      <td>0.583246</td>\n",
       "      <td>0.558830</td>\n",
       "    </tr>\n",
       "    <tr>\n",
       "      <th>3</th>\n",
       "      <td>nn</td>\n",
       "      <td>0.599164</td>\n",
       "      <td>0.529374</td>\n",
       "      <td>0.527644</td>\n",
       "      <td>0.513001</td>\n",
       "      <td>0.511742</td>\n",
       "      <td>0.499436</td>\n",
       "    </tr>\n",
       "    <tr>\n",
       "      <th>4</th>\n",
       "      <td>tree</td>\n",
       "      <td>0.685783</td>\n",
       "      <td>0.499833</td>\n",
       "      <td>0.890475</td>\n",
       "      <td>0.970450</td>\n",
       "      <td>0.767964</td>\n",
       "      <td>0.838165</td>\n",
       "    </tr>\n",
       "  </tbody>\n",
       "</table>\n",
       "</div>"
      ],
      "text/plain": [
       "    model  test_acc  test_auc  train_acc  train_auc  valid_acc  valid_auc\n",
       "0  logreg  0.814815  0.502967   0.586388   0.516014   0.577638   0.509837\n",
       "1     knn  0.689367  0.522166   0.884465   0.880473   0.781633   0.786512\n",
       "2     gnb  0.830346  0.554100   0.589844   0.538257   0.583246   0.558830\n",
       "3      nn  0.599164  0.529374   0.527644   0.513001   0.511742   0.499436\n",
       "4    tree  0.685783  0.499833   0.890475   0.970450   0.767964   0.838165"
      ]
     },
     "execution_count": 72,
     "metadata": {},
     "output_type": "execute_result"
    }
   ],
   "source": [
    "# Display the training and testing acc, auc\n",
    "model = ['logreg','knn','gnb','nn','tree']\n",
    "model_evaluation = pd.DataFrame({'model':model,\n",
    "                                'train_acc':train_acc,\n",
    "                                'train_auc':train_auc,\n",
    "                                'valid_acc':valid_acc,\n",
    "                                'valid_auc':valid_auc,\n",
    "                                'test_acc':test_acc,\n",
    "                                'test_auc':test_auc})\n",
    "model_evaluation"
   ]
  },
  {
   "cell_type": "markdown",
   "metadata": {},
   "source": [
    "Accuracy and AUC provide an indication how well the model classify the observation into target group. From the above table, knn and decision tree shows high accurary and auc (above 75%) in their training and validation stage. However, the auc drop sharply when we use the model to predict the test data. This indicated the model has been overfitting.\n",
    "\n",
    "We have tried different ratio of over-sampling and down-sampling, but the AUC remained at around 50% which did not do better prediction than not having the model.\n",
    "\n",
    "The reason of this is likely we did not capture the right features in our data. As we saw that from the data exloration did not have any difference in no matter the pairs match or not match."
   ]
  },
  {
   "cell_type": "code",
   "execution_count": 73,
   "metadata": {},
   "outputs": [
    {
     "data": {
      "image/png": "[encoded data removed]",
      "text/plain": [
       "<matplotlib.figure.Figure at 0x10202ce10>"
      ]
     },
     "metadata": {},
     "output_type": "display_data"
    }
   ],
   "source": [
    "import scikitplot as skplt\n",
    "predicted_test = dtree.predict(X_test)\n",
    "skplt.metrics.plot_confusion_matrix(y_test, predicted_test)\n",
    "plt.show()"
   ]
  },
  {
   "cell_type": "markdown",
   "metadata": {},
   "source": [
    "The confusion matrix provide information what are the false positive and false negative the model is making. As seen above, The model tends to predict the majority(not match) class right but can hardly classified match."
   ]
  },
  {
   "cell_type": "code",
   "execution_count": 74,
   "metadata": {},
   "outputs": [
    {
     "name": "stdout",
     "output_type": "stream",
     "text": [
      "Index(['age', 'field_cd', 'go_out', 'income', 'interest', 'race'], dtype='object')\n",
      "[2 6 5 1 3 4]\n"
     ]
    }
   ],
   "source": [
    "#feature importance\n",
    "from sklearn.feature_selection import RFE\n",
    "selector = RFE(dtree, 1, step=1)\n",
    "selector = selector.fit(X_train, y_train)\n",
    "print(X_train.columns)\n",
    "print(selector.ranking_)"
   ]
  },
  {
   "cell_type": "markdown",
   "metadata": {},
   "source": [
    "Income is found to be the most important variables with age come second. The importance of these two features can also be seen in the Decision Tree Plot below. The tree splits based on income and age in first two levels of split."
   ]
  },
  {
   "cell_type": "code",
   "execution_count": 75,
   "metadata": {},
   "outputs": [
    {
     "data": {
      "image/svg+xml": [
       "<?xml version=\"1.0\" encoding=\"UTF-8\" standalone=\"no\"?>\n",
       "<!DOCTYPE svg PUBLIC \"-//W3C//DTD SVG 1.1//EN\"\n",
       " \"http://www.w3.org/Graphics/SVG/1.1/DTD/svg11.dtd\">\n",
       "<!-- Generated by graphviz version 2.40.1 (20161225.0304)\n",
       " -->\n",
       "<!-- Title: Tree Pages: 1 -->\n",
       "<svg width=\"615pt\" height=\"386pt\"\n",
       " viewBox=\"0.00 0.00 615.00 386.00\" xmlns=\"http://www.w3.org/2000/svg\" xmlns:xlink=\"http://www.w3.org/1999/xlink\">\n",
       "<g id=\"graph0\" class=\"graph\" transform=\"scale(1 1) rotate(0) translate(4 382)\">\n",
       "<title>Tree</title>\n",
       "<polygon fill=\"#ffffff\" stroke=\"transparent\" points=\"-4,4 -4,-382 611,-382 611,4 -4,4\"/>\n",
       "<!-- 0 -->\n",
       "<g id=\"node1\" class=\"node\">\n",
       "<title>0</title>\n",
       "<polygon fill=\"#e58139\" fill-opacity=\"0.305882\" stroke=\"#000000\" points=\"360.5379,-378 227.4621,-378 227.4621,-300 360.5379,-300 360.5379,-378\"/>\n",
       "<text text-anchor=\"middle\" x=\"294\" y=\"-362.8\" font-family=\"Times,serif\" font-size=\"14.00\" fill=\"#000000\">age &lt;= &#45;7.5</text>\n",
       "<text text-anchor=\"middle\" x=\"294\" y=\"-348.8\" font-family=\"Times,serif\" font-size=\"14.00\" fill=\"#000000\">gini = 0.484</text>\n",
       "<text text-anchor=\"middle\" x=\"294\" y=\"-334.8\" font-family=\"Times,serif\" font-size=\"14.00\" fill=\"#000000\">samples = 6656</text>\n",
       "<text text-anchor=\"middle\" x=\"294\" y=\"-320.8\" font-family=\"Times,serif\" font-size=\"14.00\" fill=\"#000000\">value = [3930, 2726]</text>\n",
       "<text text-anchor=\"middle\" x=\"294\" y=\"-306.8\" font-family=\"Times,serif\" font-size=\"14.00\" fill=\"#000000\">class = not match</text>\n",
       "</g>\n",
       "<!-- 1 -->\n",
       "<g id=\"node2\" class=\"node\">\n",
       "<title>1</title>\n",
       "<polygon fill=\"#e58139\" fill-opacity=\"0.584314\" stroke=\"#000000\" points=\"280.0954,-264 165.9046,-264 165.9046,-186 280.0954,-186 280.0954,-264\"/>\n",
       "<text text-anchor=\"middle\" x=\"223\" y=\"-248.8\" font-family=\"Times,serif\" font-size=\"14.00\" fill=\"#000000\">race &lt;= 4097.181</text>\n",
       "<text text-anchor=\"middle\" x=\"223\" y=\"-234.8\" font-family=\"Times,serif\" font-size=\"14.00\" fill=\"#000000\">gini = 0.414</text>\n",
       "<text text-anchor=\"middle\" x=\"223\" y=\"-220.8\" font-family=\"Times,serif\" font-size=\"14.00\" fill=\"#000000\">samples = 287</text>\n",
       "<text text-anchor=\"middle\" x=\"223\" y=\"-206.8\" font-family=\"Times,serif\" font-size=\"14.00\" fill=\"#000000\">value = [203, 84]</text>\n",
       "<text text-anchor=\"middle\" x=\"223\" y=\"-192.8\" font-family=\"Times,serif\" font-size=\"14.00\" fill=\"#000000\">class = not match</text>\n",
       "</g>\n",
       "<!-- 0&#45;&gt;1 -->\n",
       "<g id=\"edge1\" class=\"edge\">\n",
       "<title>0&#45;&gt;1</title>\n",
       "<path fill=\"none\" stroke=\"#000000\" d=\"M269.5658,-299.7677C264.155,-291.0798 258.3631,-281.7801 252.7664,-272.794\"/>\n",
       "<polygon fill=\"#000000\" stroke=\"#000000\" points=\"255.7368,-270.9427 247.4792,-264.3046 249.7949,-274.6433 255.7368,-270.9427\"/>\n",
       "<text text-anchor=\"middle\" x=\"241.8193\" y=\"-284.4555\" font-family=\"Times,serif\" font-size=\"14.00\" fill=\"#000000\">True</text>\n",
       "</g>\n",
       "<!-- 102 -->\n",
       "<g id=\"node9\" class=\"node\">\n",
       "<title>102</title>\n",
       "<polygon fill=\"#e58139\" fill-opacity=\"0.290196\" stroke=\"#000000\" points=\"431.5379,-264 298.4621,-264 298.4621,-186 431.5379,-186 431.5379,-264\"/>\n",
       "<text text-anchor=\"middle\" x=\"365\" y=\"-248.8\" font-family=\"Times,serif\" font-size=\"14.00\" fill=\"#000000\">age &lt;= 4.18</text>\n",
       "<text text-anchor=\"middle\" x=\"365\" y=\"-234.8\" font-family=\"Times,serif\" font-size=\"14.00\" fill=\"#000000\">gini = 0.485</text>\n",
       "<text text-anchor=\"middle\" x=\"365\" y=\"-220.8\" font-family=\"Times,serif\" font-size=\"14.00\" fill=\"#000000\">samples = 6369</text>\n",
       "<text text-anchor=\"middle\" x=\"365\" y=\"-206.8\" font-family=\"Times,serif\" font-size=\"14.00\" fill=\"#000000\">value = [3727, 2642]</text>\n",
       "<text text-anchor=\"middle\" x=\"365\" y=\"-192.8\" font-family=\"Times,serif\" font-size=\"14.00\" fill=\"#000000\">class = not match</text>\n",
       "</g>\n",
       "<!-- 0&#45;&gt;102 -->\n",
       "<g id=\"edge8\" class=\"edge\">\n",
       "<title>0&#45;&gt;102</title>\n",
       "<path fill=\"none\" stroke=\"#000000\" d=\"M318.4342,-299.7677C323.845,-291.0798 329.6369,-281.7801 335.2336,-272.794\"/>\n",
       "<polygon fill=\"#000000\" stroke=\"#000000\" points=\"338.2051,-274.6433 340.5208,-264.3046 332.2632,-270.9427 338.2051,-274.6433\"/>\n",
       "<text text-anchor=\"middle\" x=\"346.1807\" y=\"-284.4555\" font-family=\"Times,serif\" font-size=\"14.00\" fill=\"#000000\">False</text>\n",
       "</g>\n",
       "<!-- 2 -->\n",
       "<g id=\"node3\" class=\"node\">\n",
       "<title>2</title>\n",
       "<polygon fill=\"#e58139\" fill-opacity=\"0.721569\" stroke=\"#000000\" points=\"147.7064,-150 34.2936,-150 34.2936,-72 147.7064,-72 147.7064,-150\"/>\n",
       "<text text-anchor=\"middle\" x=\"91\" y=\"-134.8\" font-family=\"Times,serif\" font-size=\"14.00\" fill=\"#000000\">race &lt;= &#45;5295.0</text>\n",
       "<text text-anchor=\"middle\" x=\"91\" y=\"-120.8\" font-family=\"Times,serif\" font-size=\"14.00\" fill=\"#000000\">gini = 0.339</text>\n",
       "<text text-anchor=\"middle\" x=\"91\" y=\"-106.8\" font-family=\"Times,serif\" font-size=\"14.00\" fill=\"#000000\">samples = 180</text>\n",
       "<text text-anchor=\"middle\" x=\"91\" y=\"-92.8\" font-family=\"Times,serif\" font-size=\"14.00\" fill=\"#000000\">value = [141, 39]</text>\n",
       "<text text-anchor=\"middle\" x=\"91\" y=\"-78.8\" font-family=\"Times,serif\" font-size=\"14.00\" fill=\"#000000\">class = not match</text>\n",
       "</g>\n",
       "<!-- 1&#45;&gt;2 -->\n",
       "<g id=\"edge2\" class=\"edge\">\n",
       "<title>1&#45;&gt;2</title>\n",
       "<path fill=\"none\" stroke=\"#000000\" d=\"M177.5731,-185.7677C166.7875,-176.4529 155.1876,-166.4347 144.0938,-156.8538\"/>\n",
       "<polygon fill=\"#000000\" stroke=\"#000000\" points=\"146.3666,-154.192 136.5106,-150.3046 141.7912,-159.4898 146.3666,-154.192\"/>\n",
       "</g>\n",
       "<!-- 53 -->\n",
       "<g id=\"node6\" class=\"node\">\n",
       "<title>53</title>\n",
       "<polygon fill=\"#e58139\" fill-opacity=\"0.274510\" stroke=\"#000000\" points=\"279.7064,-150 166.2936,-150 166.2936,-72 279.7064,-72 279.7064,-150\"/>\n",
       "<text text-anchor=\"middle\" x=\"223\" y=\"-134.8\" font-family=\"Times,serif\" font-size=\"14.00\" fill=\"#000000\">field_cd &lt;= 0.5</text>\n",
       "<text text-anchor=\"middle\" x=\"223\" y=\"-120.8\" font-family=\"Times,serif\" font-size=\"14.00\" fill=\"#000000\">gini = 0.487</text>\n",
       "<text text-anchor=\"middle\" x=\"223\" y=\"-106.8\" font-family=\"Times,serif\" font-size=\"14.00\" fill=\"#000000\">samples = 107</text>\n",
       "<text text-anchor=\"middle\" x=\"223\" y=\"-92.8\" font-family=\"Times,serif\" font-size=\"14.00\" fill=\"#000000\">value = [62, 45]</text>\n",
       "<text text-anchor=\"middle\" x=\"223\" y=\"-78.8\" font-family=\"Times,serif\" font-size=\"14.00\" fill=\"#000000\">class = not match</text>\n",
       "</g>\n",
       "<!-- 1&#45;&gt;53 -->\n",
       "<g id=\"edge5\" class=\"edge\">\n",
       "<title>1&#45;&gt;53</title>\n",
       "<path fill=\"none\" stroke=\"#000000\" d=\"M223,-185.7677C223,-177.6172 223,-168.9283 223,-160.4649\"/>\n",
       "<polygon fill=\"#000000\" stroke=\"#000000\" points=\"226.5001,-160.3046 223,-150.3046 219.5001,-160.3047 226.5001,-160.3046\"/>\n",
       "</g>\n",
       "<!-- 3 -->\n",
       "<g id=\"node4\" class=\"node\">\n",
       "<title>3</title>\n",
       "<polygon fill=\"#c0c0c0\" stroke=\"#000000\" points=\"54,-36 0,-36 0,0 54,0 54,-36\"/>\n",
       "<text text-anchor=\"middle\" x=\"27\" y=\"-13.8\" font-family=\"Times,serif\" font-size=\"14.00\" fill=\"#000000\">(...)</text>\n",
       "</g>\n",
       "<!-- 2&#45;&gt;3 -->\n",
       "<g id=\"edge3\" class=\"edge\">\n",
       "<title>2&#45;&gt;3</title>\n",
       "<path fill=\"none\" stroke=\"#000000\" d=\"M64.0437,-71.8292C57.7559,-62.6921 51.2015,-53.1678 45.3848,-44.7154\"/>\n",
       "<polygon fill=\"#000000\" stroke=\"#000000\" points=\"48.1847,-42.6101 39.6324,-36.3565 42.4182,-46.5785 48.1847,-42.6101\"/>\n",
       "</g>\n",
       "<!-- 28 -->\n",
       "<g id=\"node5\" class=\"node\">\n",
       "<title>28</title>\n",
       "<polygon fill=\"#c0c0c0\" stroke=\"#000000\" points=\"126,-36 72,-36 72,0 126,0 126,-36\"/>\n",
       "<text text-anchor=\"middle\" x=\"99\" y=\"-13.8\" font-family=\"Times,serif\" font-size=\"14.00\" fill=\"#000000\">(...)</text>\n",
       "</g>\n",
       "<!-- 2&#45;&gt;28 -->\n",
       "<g id=\"edge4\" class=\"edge\">\n",
       "<title>2&#45;&gt;28</title>\n",
       "<path fill=\"none\" stroke=\"#000000\" d=\"M94.3695,-71.8292C95.1059,-63.2692 95.8715,-54.3693 96.5631,-46.3294\"/>\n",
       "<polygon fill=\"#000000\" stroke=\"#000000\" points=\"100.0509,-46.6197 97.421,-36.3565 93.0767,-46.0197 100.0509,-46.6197\"/>\n",
       "</g>\n",
       "<!-- 54 -->\n",
       "<g id=\"node7\" class=\"node\">\n",
       "<title>54</title>\n",
       "<polygon fill=\"#c0c0c0\" stroke=\"#000000\" points=\"227,-36 173,-36 173,0 227,0 227,-36\"/>\n",
       "<text text-anchor=\"middle\" x=\"200\" y=\"-13.8\" font-family=\"Times,serif\" font-size=\"14.00\" fill=\"#000000\">(...)</text>\n",
       "</g>\n",
       "<!-- 53&#45;&gt;54 -->\n",
       "<g id=\"edge6\" class=\"edge\">\n",
       "<title>53&#45;&gt;54</title>\n",
       "<path fill=\"none\" stroke=\"#000000\" d=\"M213.3126,-71.8292C211.1956,-63.2692 208.9946,-54.3693 207.0062,-46.3294\"/>\n",
       "<polygon fill=\"#000000\" stroke=\"#000000\" points=\"210.3383,-45.2237 204.5398,-36.3565 203.543,-46.9043 210.3383,-45.2237\"/>\n",
       "</g>\n",
       "<!-- 81 -->\n",
       "<g id=\"node8\" class=\"node\">\n",
       "<title>81</title>\n",
       "<polygon fill=\"#c0c0c0\" stroke=\"#000000\" points=\"299,-36 245,-36 245,0 299,0 299,-36\"/>\n",
       "<text text-anchor=\"middle\" x=\"272\" y=\"-13.8\" font-family=\"Times,serif\" font-size=\"14.00\" fill=\"#000000\">(...)</text>\n",
       "</g>\n",
       "<!-- 53&#45;&gt;81 -->\n",
       "<g id=\"edge7\" class=\"edge\">\n",
       "<title>53&#45;&gt;81</title>\n",
       "<path fill=\"none\" stroke=\"#000000\" d=\"M243.6384,-71.8292C248.3512,-62.8845 253.2596,-53.5686 257.6421,-45.2507\"/>\n",
       "<polygon fill=\"#000000\" stroke=\"#000000\" points=\"260.7634,-46.8351 262.3283,-36.3565 254.5704,-43.5721 260.7634,-46.8351\"/>\n",
       "</g>\n",
       "<!-- 103 -->\n",
       "<g id=\"node10\" class=\"node\">\n",
       "<title>103</title>\n",
       "<polygon fill=\"#e58139\" fill-opacity=\"0.254902\" stroke=\"#000000\" points=\"431.5379,-150 298.4621,-150 298.4621,-72 431.5379,-72 431.5379,-150\"/>\n",
       "<text text-anchor=\"middle\" x=\"365\" y=\"-134.8\" font-family=\"Times,serif\" font-size=\"14.00\" fill=\"#000000\">race &lt;= 55023.5</text>\n",
       "<text text-anchor=\"middle\" x=\"365\" y=\"-120.8\" font-family=\"Times,serif\" font-size=\"14.00\" fill=\"#000000\">gini = 0.489</text>\n",
       "<text text-anchor=\"middle\" x=\"365\" y=\"-106.8\" font-family=\"Times,serif\" font-size=\"14.00\" fill=\"#000000\">samples = 5380</text>\n",
       "<text text-anchor=\"middle\" x=\"365\" y=\"-92.8\" font-family=\"Times,serif\" font-size=\"14.00\" fill=\"#000000\">value = [3086, 2294]</text>\n",
       "<text text-anchor=\"middle\" x=\"365\" y=\"-78.8\" font-family=\"Times,serif\" font-size=\"14.00\" fill=\"#000000\">class = not match</text>\n",
       "</g>\n",
       "<!-- 102&#45;&gt;103 -->\n",
       "<g id=\"edge9\" class=\"edge\">\n",
       "<title>102&#45;&gt;103</title>\n",
       "<path fill=\"none\" stroke=\"#000000\" d=\"M365,-185.7677C365,-177.6172 365,-168.9283 365,-160.4649\"/>\n",
       "<polygon fill=\"#000000\" stroke=\"#000000\" points=\"368.5001,-160.3046 365,-150.3046 361.5001,-160.3047 368.5001,-160.3046\"/>\n",
       "</g>\n",
       "<!-- 2016 -->\n",
       "<g id=\"node13\" class=\"node\">\n",
       "<title>2016</title>\n",
       "<polygon fill=\"#e58139\" fill-opacity=\"0.458824\" stroke=\"#000000\" points=\"576.2571,-150 449.7429,-150 449.7429,-72 576.2571,-72 576.2571,-150\"/>\n",
       "<text text-anchor=\"middle\" x=\"513\" y=\"-134.8\" font-family=\"Times,serif\" font-size=\"14.00\" fill=\"#000000\">race &lt;= &#45;23070.818</text>\n",
       "<text text-anchor=\"middle\" x=\"513\" y=\"-120.8\" font-family=\"Times,serif\" font-size=\"14.00\" fill=\"#000000\">gini = 0.456</text>\n",
       "<text text-anchor=\"middle\" x=\"513\" y=\"-106.8\" font-family=\"Times,serif\" font-size=\"14.00\" fill=\"#000000\">samples = 989</text>\n",
       "<text text-anchor=\"middle\" x=\"513\" y=\"-92.8\" font-family=\"Times,serif\" font-size=\"14.00\" fill=\"#000000\">value = [641, 348]</text>\n",
       "<text text-anchor=\"middle\" x=\"513\" y=\"-78.8\" font-family=\"Times,serif\" font-size=\"14.00\" fill=\"#000000\">class = not match</text>\n",
       "</g>\n",
       "<!-- 102&#45;&gt;2016 -->\n",
       "<g id=\"edge12\" class=\"edge\">\n",
       "<title>102&#45;&gt;2016</title>\n",
       "<path fill=\"none\" stroke=\"#000000\" d=\"M415.9332,-185.7677C428.211,-176.3105 441.43,-166.1282 454.0406,-156.4147\"/>\n",
       "<polygon fill=\"#000000\" stroke=\"#000000\" points=\"456.4373,-158.9866 462.2237,-150.1115 452.1656,-153.441 456.4373,-158.9866\"/>\n",
       "</g>\n",
       "<!-- 104 -->\n",
       "<g id=\"node11\" class=\"node\">\n",
       "<title>104</title>\n",
       "<polygon fill=\"#c0c0c0\" stroke=\"#000000\" points=\"385,-36 331,-36 331,0 385,0 385,-36\"/>\n",
       "<text text-anchor=\"middle\" x=\"358\" y=\"-13.8\" font-family=\"Times,serif\" font-size=\"14.00\" fill=\"#000000\">(...)</text>\n",
       "</g>\n",
       "<!-- 103&#45;&gt;104 -->\n",
       "<g id=\"edge10\" class=\"edge\">\n",
       "<title>103&#45;&gt;104</title>\n",
       "<path fill=\"none\" stroke=\"#000000\" d=\"M362.0517,-71.8292C361.4074,-63.2692 360.7375,-54.3693 360.1323,-46.3294\"/>\n",
       "<polygon fill=\"#000000\" stroke=\"#000000\" points=\"363.6225,-46.0655 359.3817,-36.3565 356.6422,-46.591 363.6225,-46.0655\"/>\n",
       "</g>\n",
       "<!-- 2011 -->\n",
       "<g id=\"node12\" class=\"node\">\n",
       "<title>2011</title>\n",
       "<polygon fill=\"#c0c0c0\" stroke=\"#000000\" points=\"457,-36 403,-36 403,0 457,0 457,-36\"/>\n",
       "<text text-anchor=\"middle\" x=\"430\" y=\"-13.8\" font-family=\"Times,serif\" font-size=\"14.00\" fill=\"#000000\">(...)</text>\n",
       "</g>\n",
       "<!-- 103&#45;&gt;2011 -->\n",
       "<g id=\"edge11\" class=\"edge\">\n",
       "<title>103&#45;&gt;2011</title>\n",
       "<path fill=\"none\" stroke=\"#000000\" d=\"M392.3775,-71.8292C398.7636,-62.6921 405.4204,-53.1678 411.3279,-44.7154\"/>\n",
       "<polygon fill=\"#000000\" stroke=\"#000000\" points=\"414.3102,-46.558 417.1702,-36.3565 408.5727,-42.5479 414.3102,-46.558\"/>\n",
       "</g>\n",
       "<!-- 2017 -->\n",
       "<g id=\"node14\" class=\"node\">\n",
       "<title>2017</title>\n",
       "<polygon fill=\"#c0c0c0\" stroke=\"#000000\" points=\"535,-36 481,-36 481,0 535,0 535,-36\"/>\n",
       "<text text-anchor=\"middle\" x=\"508\" y=\"-13.8\" font-family=\"Times,serif\" font-size=\"14.00\" fill=\"#000000\">(...)</text>\n",
       "</g>\n",
       "<!-- 2016&#45;&gt;2017 -->\n",
       "<g id=\"edge13\" class=\"edge\">\n",
       "<title>2016&#45;&gt;2017</title>\n",
       "<path fill=\"none\" stroke=\"#000000\" d=\"M510.894,-71.8292C510.439,-63.3654 509.9661,-54.5692 509.5377,-46.6007\"/>\n",
       "<polygon fill=\"#000000\" stroke=\"#000000\" points=\"513.0188,-46.1541 508.9869,-36.3565 506.0289,-46.53 513.0188,-46.1541\"/>\n",
       "</g>\n",
       "<!-- 2070 -->\n",
       "<g id=\"node15\" class=\"node\">\n",
       "<title>2070</title>\n",
       "<polygon fill=\"#c0c0c0\" stroke=\"#000000\" points=\"607,-36 553,-36 553,0 607,0 607,-36\"/>\n",
       "<text text-anchor=\"middle\" x=\"580\" y=\"-13.8\" font-family=\"Times,serif\" font-size=\"14.00\" fill=\"#000000\">(...)</text>\n",
       "</g>\n",
       "<!-- 2016&#45;&gt;2070 -->\n",
       "<g id=\"edge14\" class=\"edge\">\n",
       "<title>2016&#45;&gt;2070</title>\n",
       "<path fill=\"none\" stroke=\"#000000\" d=\"M541.2198,-71.8292C547.8025,-62.6921 554.6641,-53.1678 560.7534,-44.7154\"/>\n",
       "<polygon fill=\"#000000\" stroke=\"#000000\" points=\"563.7699,-46.516 566.7755,-36.3565 558.0903,-42.4243 563.7699,-46.516\"/>\n",
       "</g>\n",
       "</g>\n",
       "</svg>\n"
      ],
      "text/plain": [
       "<graphviz.files.Source at 0x1a1bb265f8>"
      ]
     },
     "execution_count": 75,
     "metadata": {},
     "output_type": "execute_result"
    }
   ],
   "source": [
    "# Visualize the decision Tree\n",
    "from sklearn import tree\n",
    "import graphviz \n",
    "import pydotplus\n",
    "dtree = dtree.fit(X_train, y_train)\n",
    "dot_data = tree.export_graphviz(dtree, out_file=None,max_depth = 2,\n",
    "                                feature_names = ['age', 'go_out', 'income', 'race','field_cd','interest'], class_names=['not match','match'],\n",
    "                               filled = True) \n",
    "graph = graphviz.Source(dot_data) \n",
    "graph"
   ]
  },
  {
   "cell_type": "markdown",
   "metadata": {},
   "source": [
    "# Summary and future improvement\n",
    "\n",
    "To conclude, our project aim to provide indication for speed dating event host to group people that share common interest or more likely to find each other match their partner selection criteria.\n",
    "\n",
    "The first part of the project group people into 5 different clusters based on the lifestyle data from Slovak University of Technology. The **Lifestyle clusters** helps to group people with similar interest into one event. \n",
    "\n",
    "We see that MLP Classifier giving the best Test Accuracy Results from the following 5 clusters of Data. We can best classify view of Shopping interest based on City and Village (73%) with Logistic best fit model and best value of C by grid Search. \n",
    "\n",
    "We can best classify view of Gender based on spending habits (71%) with MulnomialNB model.\n",
    "\n",
    "It is clear from plot that among whole Movie preferences, thriller movie has most common choices between Gender found by Kmeans Clustering. We can best classify view of Gender based on Movies habits with help of cluster (81%) with MLP classifier.\n",
    "\n",
    "However, the model is limited to Slovakia region as the data used to train the model only contains people around that region. To have a result that is more representative to the population, we need to have broader range of sample from various culture and cities.\n",
    "\n",
    "The second part of the project is a **Speed Dating Match Classifier** that classify if a pair in speed dating will result a match. Interest and age is the most important feature. Decision Tree gave the best performance among all other algorithm used with train accuracy and auc and validation accuracy and auc over 75%. However, the model is over fitted as AUC dropped rapidly when we tried to predict with the test data. This indicated the model created is unreliable.\n",
    "\n",
    "This may caused by serveral reasons:\n",
    "- there sample size is not large enough to represent the population\n",
    "- variables in profile is not the right feature for the classification, we can extend the model by using the selection criteria questionaire result\n",
    "- the original paper of the speed dating data also suggested male and female has different selection criteria, our model did not specified this. We may improve the model by spliting the model into two for male and female.\n"
   ]
  },
  {
   "cell_type": "markdown",
   "metadata": {},
   "source": [
    "# Reference\n",
    "Relationship Australia, 2017:https://www.relationships.org.au/what-we-do/research/online-survey/november-2017-online-dating"
   ]
  },
  {
   "cell_type": "code",
   "execution_count": null,
   "metadata": {},
   "outputs": [],
   "source": []
  }
 ],
 "metadata": {
  "kernelspec": {
   "display_name": "Python 3",
   "language": "python",
   "name": "python3"
  },
  "language_info": {
   "codemirror_mode": {
    "name": "ipython",
    "version": 3
   },
   "file_extension": ".py",
   "mimetype": "text/x-python",
   "name": "python",
   "nbconvert_exporter": "python",
   "pygments_lexer": "ipython3",
   "version": "3.6.1"
  }
 },
 "nbformat": 4,
 "nbformat_minor": 2
}

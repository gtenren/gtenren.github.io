{
 "cells": [
  {
   "cell_type": "markdown",
   "metadata": {},
   "source": [
    "# Finding the perfect match: Speed dating match classifier\n",
    "by Ka Yu Lau, ITEC657 Data Science,semester 2, 2018\n"
   ]
  },
  {
   "cell_type": "markdown",
   "metadata": {},
   "source": [
    "# Introduction\n",
    "Over the past two decades, more people used internet and dating applications to meet new partners. Online dating has even became the second most preferred way to meet a new partner, only behind introductions through family and friends. (Relationship Australia, 2017) The trend has put pressure on traditional speed dating event host to come up with better events to compete against these online dating sites and apps. \n",
    "\n",
    "The aim for people to attend speed dating event is finding someone meet their their partner selection criteria. It is reasonable that indiviuals lose interest in attending the events if they cannot find anyone matched. So the key quality measure of event is how easy the participants can find their match throughout the event. \n",
    "\n",
    "Match is defined as whether their partner in the event matches their criteria for a potential relationship. And our project focus aim to provide indication and tools for the event host how to can group people such that the chance getting a match increase.\n",
    "\n",
    "### Project Goal\n",
    "- Determine what is the most important factor for a pair of participant to match\n",
    "- Create a classification model that classify whether a pair the male and female ending up a match in a speed dating event.\n",
    "\n",
    "\n",
    "The result of these goals provides tools and indication for put participants together that increases the chance of match.\n",
    "\n",
    "### Data Set and background\n",
    "\n",
    "The dataset came from a study by Columbia Business School professors Ray Fisman and Sheena Iyengar. The original study focused on the gender difference in mate selection and our project aim to extend the use of the data to create classification model.\n",
    "\n",
    "The data was collected from participants from 21 experimental speed dating events from 2002 – 2004. The attendees would have a four minutes ‘first date’ with every other participant of the opposite sex. At the end of their four minutes, participants were asked if they would like to see their date again. And they will be asked to rate their date again. They were also asked to rate their date on six attributes: Attractiveness, Sincerity, Intelligence, Fun, Ambition, and Shared Interests.\n",
    "\n",
    "The dataset also includes questionnaire data gathered from participants at different points in the process. These fields include: demographics, dating habits, self-perception across key attributes, beliefs on what others find valuable in a mate and lifestyle information.\n",
    "\n",
    "\n",
    "In this project, we only used the participant profile from the data for our interest to predict whether individuals can be match by only viewing their profile.\n",
    "\n"
   ]
  },
  {
   "cell_type": "markdown",
   "metadata": {},
   "source": [
    "# Data Preprocessing"
   ]
  },
  {
   "cell_type": "code",
   "execution_count": 65,
   "metadata": {},
   "outputs": [],
   "source": [
    "#read file\n",
    "SpeedDate = pd.read_csv('annavmontoya-speed-dating-experiment/Speed Dating Data.csv',sep=',', engine='python')\n",
    "import warnings\n",
    "warnings.filterwarnings(\"ignore\")"
   ]
  },
  {
   "cell_type": "markdown",
   "metadata": {},
   "source": [
    "The original speed dating data contains 8378 observations with 195 variables. \n",
    "\n",
    "In this project, we are not interested to how the participant rate their partners after the date as this is usually not collectable from individuals by event host. We only select basic attributes of the participants such as age, income, race, field of work or study, orign, their go out pattern and their interests as our predictors. \n",
    "\n",
    "Our preprocessing has three major steps. First we create a data frame with all the pairs of the speed dating events and whether they match. Second we create a data frame for the profile of each the participants. Last we will map the profiles to the first data frame and compare the differences between the profiles of the participant and the partner and create the input data for our model building."
   ]
  },
  {
   "cell_type": "code",
   "execution_count": 66,
   "metadata": {},
   "outputs": [
    {
     "data": {
      "text/html": [
       "<div>\n",
       "<style>\n",
       "    .dataframe thead tr:only-child th {\n",
       "        text-align: right;\n",
       "    }\n",
       "\n",
       "    .dataframe thead th {\n",
       "        text-align: left;\n",
       "    }\n",
       "\n",
       "    .dataframe tbody tr th {\n",
       "        vertical-align: top;\n",
       "    }\n",
       "</style>\n",
       "<table border=\"1\" class=\"dataframe\">\n",
       "  <thead>\n",
       "    <tr style=\"text-align: right;\">\n",
       "      <th></th>\n",
       "      <th>match</th>\n",
       "      <th>iid</th>\n",
       "      <th>pid</th>\n",
       "    </tr>\n",
       "  </thead>\n",
       "  <tbody>\n",
       "    <tr>\n",
       "      <th>0</th>\n",
       "      <td>0</td>\n",
       "      <td>1</td>\n",
       "      <td>11.0</td>\n",
       "    </tr>\n",
       "    <tr>\n",
       "      <th>1</th>\n",
       "      <td>0</td>\n",
       "      <td>1</td>\n",
       "      <td>12.0</td>\n",
       "    </tr>\n",
       "    <tr>\n",
       "      <th>2</th>\n",
       "      <td>1</td>\n",
       "      <td>1</td>\n",
       "      <td>13.0</td>\n",
       "    </tr>\n",
       "    <tr>\n",
       "      <th>3</th>\n",
       "      <td>1</td>\n",
       "      <td>1</td>\n",
       "      <td>14.0</td>\n",
       "    </tr>\n",
       "    <tr>\n",
       "      <th>4</th>\n",
       "      <td>1</td>\n",
       "      <td>1</td>\n",
       "      <td>15.0</td>\n",
       "    </tr>\n",
       "  </tbody>\n",
       "</table>\n",
       "</div>"
      ],
      "text/plain": [
       "   match  iid   pid\n",
       "0      0    1  11.0\n",
       "1      0    1  12.0\n",
       "2      1    1  13.0\n",
       "3      1    1  14.0\n",
       "4      1    1  15.0"
      ]
     },
     "execution_count": 66,
     "metadata": {},
     "output_type": "execute_result"
    }
   ],
   "source": [
    "#First Data Frame\n",
    "#setting up target and response\n",
    "data = ['match','iid','pid']\n",
    "match = SpeedDate[data].dropna()\n",
    "match.head()"
   ]
  },
  {
   "cell_type": "code",
   "execution_count": 67,
   "metadata": {},
   "outputs": [
    {
     "data": {
      "text/html": [
       "<div>\n",
       "<style>\n",
       "    .dataframe thead tr:only-child th {\n",
       "        text-align: right;\n",
       "    }\n",
       "\n",
       "    .dataframe thead th {\n",
       "        text-align: left;\n",
       "    }\n",
       "\n",
       "    .dataframe tbody tr th {\n",
       "        vertical-align: top;\n",
       "    }\n",
       "</style>\n",
       "<table border=\"1\" class=\"dataframe\">\n",
       "  <thead>\n",
       "    <tr style=\"text-align: right;\">\n",
       "      <th></th>\n",
       "      <th>iid</th>\n",
       "      <th>gender</th>\n",
       "      <th>age</th>\n",
       "      <th>income</th>\n",
       "      <th>race</th>\n",
       "      <th>field_cd</th>\n",
       "      <th>from</th>\n",
       "      <th>go_out</th>\n",
       "      <th>sports</th>\n",
       "      <th>tvsports</th>\n",
       "      <th>...</th>\n",
       "      <th>gaming</th>\n",
       "      <th>clubbing</th>\n",
       "      <th>reading</th>\n",
       "      <th>tv</th>\n",
       "      <th>theater</th>\n",
       "      <th>movies</th>\n",
       "      <th>concerts</th>\n",
       "      <th>music</th>\n",
       "      <th>shopping</th>\n",
       "      <th>yoga</th>\n",
       "    </tr>\n",
       "  </thead>\n",
       "  <tbody>\n",
       "    <tr>\n",
       "      <th>0</th>\n",
       "      <td>1</td>\n",
       "      <td>0</td>\n",
       "      <td>21.0</td>\n",
       "      <td>69,487.00</td>\n",
       "      <td>4.0</td>\n",
       "      <td>1.0</td>\n",
       "      <td>Chicago</td>\n",
       "      <td>1.0</td>\n",
       "      <td>9.0</td>\n",
       "      <td>2.0</td>\n",
       "      <td>...</td>\n",
       "      <td>1.0</td>\n",
       "      <td>5.0</td>\n",
       "      <td>6.0</td>\n",
       "      <td>9.0</td>\n",
       "      <td>1.0</td>\n",
       "      <td>10.0</td>\n",
       "      <td>10.0</td>\n",
       "      <td>9.0</td>\n",
       "      <td>8.0</td>\n",
       "      <td>1.0</td>\n",
       "    </tr>\n",
       "    <tr>\n",
       "      <th>10</th>\n",
       "      <td>2</td>\n",
       "      <td>0</td>\n",
       "      <td>24.0</td>\n",
       "      <td>65,929.00</td>\n",
       "      <td>2.0</td>\n",
       "      <td>1.0</td>\n",
       "      <td>Alabama</td>\n",
       "      <td>1.0</td>\n",
       "      <td>3.0</td>\n",
       "      <td>2.0</td>\n",
       "      <td>...</td>\n",
       "      <td>5.0</td>\n",
       "      <td>8.0</td>\n",
       "      <td>10.0</td>\n",
       "      <td>1.0</td>\n",
       "      <td>9.0</td>\n",
       "      <td>8.0</td>\n",
       "      <td>7.0</td>\n",
       "      <td>8.0</td>\n",
       "      <td>3.0</td>\n",
       "      <td>1.0</td>\n",
       "    </tr>\n",
       "    <tr>\n",
       "      <th>20</th>\n",
       "      <td>3</td>\n",
       "      <td>0</td>\n",
       "      <td>25.0</td>\n",
       "      <td>NaN</td>\n",
       "      <td>2.0</td>\n",
       "      <td>2.0</td>\n",
       "      <td>Connecticut</td>\n",
       "      <td>1.0</td>\n",
       "      <td>3.0</td>\n",
       "      <td>8.0</td>\n",
       "      <td>...</td>\n",
       "      <td>4.0</td>\n",
       "      <td>5.0</td>\n",
       "      <td>7.0</td>\n",
       "      <td>8.0</td>\n",
       "      <td>7.0</td>\n",
       "      <td>7.0</td>\n",
       "      <td>7.0</td>\n",
       "      <td>5.0</td>\n",
       "      <td>8.0</td>\n",
       "      <td>7.0</td>\n",
       "    </tr>\n",
       "    <tr>\n",
       "      <th>30</th>\n",
       "      <td>4</td>\n",
       "      <td>0</td>\n",
       "      <td>23.0</td>\n",
       "      <td>37,754.00</td>\n",
       "      <td>2.0</td>\n",
       "      <td>1.0</td>\n",
       "      <td>Texas</td>\n",
       "      <td>1.0</td>\n",
       "      <td>1.0</td>\n",
       "      <td>1.0</td>\n",
       "      <td>...</td>\n",
       "      <td>5.0</td>\n",
       "      <td>7.0</td>\n",
       "      <td>7.0</td>\n",
       "      <td>7.0</td>\n",
       "      <td>9.0</td>\n",
       "      <td>7.0</td>\n",
       "      <td>8.0</td>\n",
       "      <td>7.0</td>\n",
       "      <td>1.0</td>\n",
       "      <td>8.0</td>\n",
       "    </tr>\n",
       "    <tr>\n",
       "      <th>40</th>\n",
       "      <td>5</td>\n",
       "      <td>0</td>\n",
       "      <td>21.0</td>\n",
       "      <td>86,340.00</td>\n",
       "      <td>2.0</td>\n",
       "      <td>1.0</td>\n",
       "      <td>Bowdoin College</td>\n",
       "      <td>1.0</td>\n",
       "      <td>7.0</td>\n",
       "      <td>4.0</td>\n",
       "      <td>...</td>\n",
       "      <td>6.0</td>\n",
       "      <td>8.0</td>\n",
       "      <td>6.0</td>\n",
       "      <td>8.0</td>\n",
       "      <td>6.0</td>\n",
       "      <td>6.0</td>\n",
       "      <td>3.0</td>\n",
       "      <td>7.0</td>\n",
       "      <td>8.0</td>\n",
       "      <td>3.0</td>\n",
       "    </tr>\n",
       "  </tbody>\n",
       "</table>\n",
       "<p>5 rows × 25 columns</p>\n",
       "</div>"
      ],
      "text/plain": [
       "    iid  gender   age     income  race  field_cd             from  go_out  \\\n",
       "0     1       0  21.0  69,487.00   4.0       1.0          Chicago     1.0   \n",
       "10    2       0  24.0  65,929.00   2.0       1.0          Alabama     1.0   \n",
       "20    3       0  25.0        NaN   2.0       2.0      Connecticut     1.0   \n",
       "30    4       0  23.0  37,754.00   2.0       1.0            Texas     1.0   \n",
       "40    5       0  21.0  86,340.00   2.0       1.0  Bowdoin College     1.0   \n",
       "\n",
       "    sports  tvsports  ...   gaming  clubbing  reading   tv  theater  movies  \\\n",
       "0      9.0       2.0  ...      1.0       5.0      6.0  9.0      1.0    10.0   \n",
       "10     3.0       2.0  ...      5.0       8.0     10.0  1.0      9.0     8.0   \n",
       "20     3.0       8.0  ...      4.0       5.0      7.0  8.0      7.0     7.0   \n",
       "30     1.0       1.0  ...      5.0       7.0      7.0  7.0      9.0     7.0   \n",
       "40     7.0       4.0  ...      6.0       8.0      6.0  8.0      6.0     6.0   \n",
       "\n",
       "    concerts  music  shopping  yoga  \n",
       "0       10.0    9.0       8.0   1.0  \n",
       "10       7.0    8.0       3.0   1.0  \n",
       "20       7.0    5.0       8.0   7.0  \n",
       "30       8.0    7.0       1.0   8.0  \n",
       "40       3.0    7.0       8.0   3.0  \n",
       "\n",
       "[5 rows x 25 columns]"
      ]
     },
     "execution_count": 67,
     "metadata": {},
     "output_type": "execute_result"
    }
   ],
   "source": [
    "#Second Data Frame\n",
    "#create a dataframe with the selected columns\n",
    "profile = SpeedDate[['iid','gender', 'age','income','race','field_cd','from','go_out', #basic demographic charateristics\n",
    "          'sports','tvsports','exercise','dining','museums','art','hiking','gaming','clubbing','reading',#interest\n",
    "           'tv','theater', 'movies','concerts','music',\n",
    "                     'shopping','yoga']].drop_duplicates(subset='iid',keep='first') #pick only the first records\n",
    "profile.head()"
   ]
  },
  {
   "cell_type": "markdown",
   "metadata": {},
   "source": [
    "### Missing Value Treatment\n",
    "\n",
    "Below are the number of missing value of each column. As the missing value in income is significant to the total number of observations, We will fill this missing value with the mean income. We also filled missing value in age with mean age. The missing value in rest of the variables is small so we drop those records from our analysis."
   ]
  },
  {
   "cell_type": "code",
   "execution_count": 68,
   "metadata": {},
   "outputs": [
    {
     "data": {
      "text/plain": [
       "iid           0\n",
       "gender        0\n",
       "age           8\n",
       "income      270\n",
       "race          6\n",
       "field_cd      7\n",
       "from          7\n",
       "go_out        7\n",
       "sports        7\n",
       "tvsports      7\n",
       "exercise      7\n",
       "dining        7\n",
       "museums       7\n",
       "art           7\n",
       "hiking        7\n",
       "gaming        7\n",
       "clubbing      7\n",
       "reading       7\n",
       "tv            7\n",
       "theater       7\n",
       "movies        7\n",
       "concerts      7\n",
       "music         7\n",
       "shopping      7\n",
       "yoga          7\n",
       "dtype: int64"
      ]
     },
     "execution_count": 68,
     "metadata": {},
     "output_type": "execute_result"
    }
   ],
   "source": [
    "profile.isnull().sum()"
   ]
  },
  {
   "cell_type": "code",
   "execution_count": 69,
   "metadata": {},
   "outputs": [],
   "source": [
    "#cleaning the column income\n",
    "#remove comma in each of the records so mean can be calculated\n",
    "import re\n",
    "for i in range(0,len(profile['income'])):\n",
    "    if pd.isnull(profile['income'].iloc[i])== True:\n",
    "        pass\n",
    "    else:\n",
    "        profile['income'].iloc[i] = float(re.sub(',','',profile['income'].iloc[i]))\n",
    "#filled missing income with mean\n",
    "profile['income'] = profile['income'].fillna(profile['income'].mean()) \n",
    "\n",
    "#fill missing age with mean\n",
    "profile['age']= profile['age'].fillna(profile['age'].mean())"
   ]
  },
  {
   "cell_type": "code",
   "execution_count": 70,
   "metadata": {},
   "outputs": [
    {
     "name": "stdout",
     "output_type": "stream",
     "text": [
      "number of observation before removing na: 551\n",
      "number of observation after removing na: 543\n"
     ]
    }
   ],
   "source": [
    "#drop all remaining na\n",
    "print('number of observation before removing na: %i'%profile.shape[0])\n",
    "profile= profile.dropna()\n",
    "print('number of observation after removing na: %i'%profile.shape[0])"
   ]
  },
  {
   "cell_type": "markdown",
   "metadata": {},
   "source": [
    "### Data Transformation\n",
    "As we are only interested whether the participant and their partner share similar interest, we have recode the ranking of interest. For interest that the participant ranked top 3, we assume the participant is 'interested' to that interest and rest are 'not interested'."
   ]
  },
  {
   "cell_type": "code",
   "execution_count": 71,
   "metadata": {},
   "outputs": [],
   "source": [
    "interest = ['sports','tvsports','exercise','dining','museums','art','hiking','gaming','clubbing','reading',\n",
    "           'tv','theater', 'movies','concerts','music','shopping','yoga'] # a list of interest\n",
    "#convert the top 3 interest into 1 else 0\n",
    "for i in interest:\n",
    "    profile[i]= profile[i].replace([1,2,3],1)\n",
    "    profile[i]= profile[i].replace(range(4,11),0)"
   ]
  },
  {
   "cell_type": "code",
   "execution_count": 72,
   "metadata": {},
   "outputs": [
    {
     "data": {
      "text/html": [
       "<div>\n",
       "<style>\n",
       "    .dataframe thead tr:only-child th {\n",
       "        text-align: right;\n",
       "    }\n",
       "\n",
       "    .dataframe thead th {\n",
       "        text-align: left;\n",
       "    }\n",
       "\n",
       "    .dataframe tbody tr th {\n",
       "        vertical-align: top;\n",
       "    }\n",
       "</style>\n",
       "<table border=\"1\" class=\"dataframe\">\n",
       "  <thead>\n",
       "    <tr style=\"text-align: right;\">\n",
       "      <th></th>\n",
       "      <th>age</th>\n",
       "      <th>field_cd</th>\n",
       "      <th>go_out</th>\n",
       "      <th>income</th>\n",
       "      <th>interest</th>\n",
       "      <th>match</th>\n",
       "      <th>origin</th>\n",
       "      <th>race</th>\n",
       "    </tr>\n",
       "  </thead>\n",
       "  <tbody>\n",
       "    <tr>\n",
       "      <th>0</th>\n",
       "      <td>-1.0</td>\n",
       "      <td>0</td>\n",
       "      <td>0</td>\n",
       "      <td>40250.000000</td>\n",
       "      <td>1</td>\n",
       "      <td>0</td>\n",
       "      <td>0</td>\n",
       "      <td>0</td>\n",
       "    </tr>\n",
       "    <tr>\n",
       "      <th>0</th>\n",
       "      <td>-1.0</td>\n",
       "      <td>0</td>\n",
       "      <td>0</td>\n",
       "      <td>24201.362989</td>\n",
       "      <td>1</td>\n",
       "      <td>1</td>\n",
       "      <td>0</td>\n",
       "      <td>0</td>\n",
       "    </tr>\n",
       "    <tr>\n",
       "      <th>0</th>\n",
       "      <td>-2.0</td>\n",
       "      <td>0</td>\n",
       "      <td>0</td>\n",
       "      <td>12907.000000</td>\n",
       "      <td>4</td>\n",
       "      <td>1</td>\n",
       "      <td>0</td>\n",
       "      <td>0</td>\n",
       "    </tr>\n",
       "    <tr>\n",
       "      <th>0</th>\n",
       "      <td>-3.0</td>\n",
       "      <td>0</td>\n",
       "      <td>0</td>\n",
       "      <td>32705.000000</td>\n",
       "      <td>2</td>\n",
       "      <td>1</td>\n",
       "      <td>0</td>\n",
       "      <td>0</td>\n",
       "    </tr>\n",
       "    <tr>\n",
       "      <th>0</th>\n",
       "      <td>-4.0</td>\n",
       "      <td>0</td>\n",
       "      <td>0</td>\n",
       "      <td>24201.362989</td>\n",
       "      <td>2</td>\n",
       "      <td>0</td>\n",
       "      <td>0</td>\n",
       "      <td>0</td>\n",
       "    </tr>\n",
       "  </tbody>\n",
       "</table>\n",
       "</div>"
      ],
      "text/plain": [
       "   age  field_cd  go_out        income  interest  match  origin  race\n",
       "0 -1.0         0       0  40250.000000         1      0       0     0\n",
       "0 -1.0         0       0  24201.362989         1      1       0     0\n",
       "0 -2.0         0       0  12907.000000         4      1       0     0\n",
       "0 -3.0         0       0  32705.000000         2      1       0     0\n",
       "0 -4.0         0       0  24201.362989         2      0       0     0"
      ]
     },
     "execution_count": 72,
     "metadata": {},
     "output_type": "execute_result"
    }
   ],
   "source": [
    "#Third Data Frame\n",
    "# Map the profiles difference with whether the date result is a match or not\n",
    "diff = pd.DataFrame()\n",
    "for obs in range(1,len(match)):\n",
    "    if match['iid'].iloc[obs] in profile['iid'].unique() and int(match['pid'].iloc[obs]) in profile['iid'].unique():\n",
    "        diff = diff.append(extract_match(match, profile, interest, obs))\n",
    "\n",
    "diff.head() #prepared data frame"
   ]
  },
  {
   "cell_type": "markdown",
   "metadata": {},
   "source": [
    "## Data Exploration"
   ]
  },
  {
   "cell_type": "code",
   "execution_count": 73,
   "metadata": {},
   "outputs": [
    {
     "data": {
      "image/png": "[encoded data removed]",
      "text/plain": [
       "<matplotlib.figure.Figure at 0x1a1b8756d8>"
      ]
     },
     "metadata": {},
     "output_type": "display_data"
    }
   ],
   "source": [
    "sns.countplot(diff['match'])\n",
    "plt.title('The response variables: match')\n",
    "plt.show()"
   ]
  },
  {
   "cell_type": "markdown",
   "metadata": {},
   "source": [
    "Only 12% of the dates end up with a match. We have modeled based on this data but it is found that models created has high accuracy but low AUC. To deal with the unbalanced target variable, we will perform oversampling the minority group (match). And in order to make sure the consistancy of our result, we will split the data train, valid and test before our model building. Oversampling will only be done on train and valid data while we will use the test data to be our gatekeeper to ensure consistency when we feed unmodified data into the model."
   ]
  },
  {
   "cell_type": "code",
   "execution_count": 57,
   "metadata": {},
   "outputs": [
    {
     "data": {
      "image/png": "[encoded data removed]",
      "text/plain": [
       "<matplotlib.figure.Figure at 0x1a18738a90>"
      ]
     },
     "metadata": {},
     "output_type": "display_data"
    }
   ],
   "source": [
    "plt.figure(figsize=(12,6))\n",
    "plt.subplot(121)\n",
    "sns.distplot(diff.age)\n",
    "plt.title('age diffference distribution')\n",
    "plt.subplot(122)\n",
    "sns.boxplot(y = diff.age,x = diff.match)\n",
    "plt.title('age difference distribution vs match')\n",
    "plt.show()"
   ]
  },
  {
   "cell_type": "markdown",
   "metadata": {},
   "source": [
    "The age difference between the participants and their partners is approximately normally distributed at 0. From the boxplot, age difference doesn't appears to have any significant different between match or not match."
   ]
  },
  {
   "cell_type": "code",
   "execution_count": 58,
   "metadata": {},
   "outputs": [
    {
     "data": {
      "image/png": "[encoded data removed]",
      "text/plain": [
       "<matplotlib.figure.Figure at 0x1a12bd77f0>"
      ]
     },
     "metadata": {},
     "output_type": "display_data"
    }
   ],
   "source": [
    "plt.figure(figsize=(12,6))\n",
    "plt.subplot(121)\n",
    "sns.distplot(diff.income)\n",
    "plt.title('income diffference distribution')\n",
    "plt.subplot(122)\n",
    "sns.boxplot(y = diff.income,x = diff.match)\n",
    "plt.title('income difference distribution vs match')\n",
    "plt.show()"
   ]
  },
  {
   "cell_type": "markdown",
   "metadata": {},
   "source": [
    "Similarly, income difference between the participants and their partners is also approximately normally distributed. The boxplot shows pair did not match is more widely spreaded but there are no significant differences in median of income difference on whether the pairs is a match or not."
   ]
  },
  {
   "cell_type": "code",
   "execution_count": 59,
   "metadata": {},
   "outputs": [
    {
     "data": {
      "image/png": "[encoded data removed]",
      "text/plain": [
       "<matplotlib.figure.Figure at 0x1a17590898>"
      ]
     },
     "metadata": {},
     "output_type": "display_data"
    }
   ],
   "source": [
    "sns.scatterplot(diff.age,diff.income)\n",
    "plt.show()"
   ]
  },
  {
   "cell_type": "markdown",
   "metadata": {},
   "source": [
    "From the scatterplot, income difference and age difference are not correlated so it is safe for us to use them as predictors."
   ]
  },
  {
   "cell_type": "code",
   "execution_count": 60,
   "metadata": {},
   "outputs": [
    {
     "data": {
      "image/png": "[encoded data removed]",
      "text/plain": [
       "<matplotlib.figure.Figure at 0x1a1ca75048>"
      ]
     },
     "metadata": {},
     "output_type": "display_data"
    }
   ],
   "source": [
    "plt.figure(figsize=(12,6))\n",
    "plt.subplot(121)\n",
    "sns.countplot(diff['interest'],hue=diff.match)\n",
    "plt.title('number of shared interest')\n",
    "plt.subplot(122)\n",
    "sns.boxplot(y = diff.interest,x = diff.match)\n",
    "plt.title('number of shared interest')\n",
    "plt.show()"
   ]
  },
  {
   "cell_type": "markdown",
   "metadata": {},
   "source": [
    "For above, we can see pairs ends up with a match generally shared less interest than pairs do not match."
   ]
  },
  {
   "cell_type": "code",
   "execution_count": 61,
   "metadata": {},
   "outputs": [
    {
     "data": {
      "image/png": "[encoded data removed]",
      "text/plain": [
       "<matplotlib.figure.Figure at 0x1a180d4e48>"
      ]
     },
     "metadata": {},
     "output_type": "display_data"
    }
   ],
   "source": [
    "sns.countplot(diff['origin'])\n",
    "plt.title('shared origin')\n",
    "plt.show()"
   ]
  },
  {
   "cell_type": "markdown",
   "metadata": {},
   "source": [
    "None of the pairs shared the same origin. Hence, the variable no longer useful and we will drop this variable in our model building."
   ]
  },
  {
   "cell_type": "markdown",
   "metadata": {},
   "source": [
    "# Model Building\n",
    "\n",
    "In the coming section, we will use different algorithms to train the classification model to classify whether the speed dating pair will be a match to the participant. As mentioned earlier, we will split the data into 3 parts."
   ]
  },
  {
   "cell_type": "code",
   "execution_count": 76,
   "metadata": {},
   "outputs": [],
   "source": [
    "target = diff['match']\n",
    "data = diff.drop(['match','origin'],axis=1)\n",
    "from sklearn.model_selection import train_test_split\n",
    "X, X_test, y, y_test = train_test_split(data, target, random_state=123, train_size=0.8, test_size = 0.2)\n",
    "diff_n = pd.concat([X,y],axis=1)"
   ]
  },
  {
   "cell_type": "code",
   "execution_count": 77,
   "metadata": {},
   "outputs": [
    {
     "name": "stdout",
     "output_type": "stream",
     "text": [
      "The processed dataset has response as follow: \n",
      "0    5454\n",
      "1    3817\n",
      "Name: match, dtype: int64\n"
     ]
    }
   ],
   "source": [
    "from sklearn.utils import resample\n",
    "# Separate majority and minority classes\n",
    "majority = diff_n[diff_n.match==0]\n",
    "minority = diff_n[diff_n.match==1]\n",
    " \n",
    "# Oversampleing majority class\n",
    "resample = resample(minority, \n",
    "                    replace=True,    # sample without replacement\n",
    "                    n_samples=int(diff_n.match.value_counts()[0]*0.7),     # to match minority class\n",
    "                    random_state=123) # reproducible results\n",
    " \n",
    "# Combine minority class with downsampled majority class\n",
    "diff_n = pd.concat([resample, majority])\n",
    " \n",
    "# Display new class counts\n",
    "print(\"The processed dataset has response as follow: \")\n",
    "print(diff_n.match.value_counts())"
   ]
  },
  {
   "cell_type": "code",
   "execution_count": 78,
   "metadata": {},
   "outputs": [],
   "source": [
    "#creating data frame for target and features\n",
    "target = diff_n['match']\n",
    "data = diff_n.drop('match',axis=1)"
   ]
  },
  {
   "cell_type": "code",
   "execution_count": 79,
   "metadata": {},
   "outputs": [],
   "source": [
    "#split the data\n",
    "from sklearn.metrics import confusion_matrix\n",
    "from sklearn.model_selection import train_test_split\n",
    "\n",
    "X_train, X_valid, y_train, y_valid = train_test_split(data, target, random_state=123, train_size=0.7,test_size=0.3)"
   ]
  },
  {
   "cell_type": "code",
   "execution_count": 80,
   "metadata": {},
   "outputs": [],
   "source": [
    "# initialise lists to store the evaluation of different model\n",
    "train_acc = []\n",
    "train_auc = []\n",
    "test_acc =[]\n",
    "test_auc = []\n",
    "valid_acc=[]\n",
    "valid_auc=[]"
   ]
  },
  {
   "cell_type": "markdown",
   "metadata": {},
   "source": [
    "### Logistic Regression\n",
    "Logistic regression is estimating the parameters of a logistic model; it is a form of binomial regressiom. It took the predictors to estimate the probability of the response class."
   ]
  },
  {
   "cell_type": "code",
   "execution_count": 67,
   "metadata": {},
   "outputs": [],
   "source": [
    "#Logistic Regression\n",
    "from sklearn.linear_model import LogisticRegression\n",
    "logreg = LogisticRegression(random_state=0, solver='lbfgs',multi_class='multinomial').fit(X_train, y_train)\n",
    "lr_score = model_evaluation_score(logreg, X_train,X_valid,X_test,y_train,y_valid,y_test)\n",
    "train_acc.append(lr_score['train_acc'])\n",
    "train_auc.append(lr_score['train_auc'])\n",
    "test_acc.append(lr_score['test_acc'])\n",
    "test_auc.append(lr_score['test_auc'])\n",
    "valid_acc.append(lr_score['valid_acc'])\n",
    "valid_auc.append(lr_score['valid_auc'])"
   ]
  },
  {
   "cell_type": "markdown",
   "metadata": {},
   "source": [
    "### K-nearest Neighbors (KNN)\n",
    "In pattern recognition, the k-nearest neighbors algorithm (k-NN) is a non-parametric method used for classification and regression. It calculate the 'how difference' the instance to the target class and classify based on which is the nearest class"
   ]
  },
  {
   "cell_type": "code",
   "execution_count": 86,
   "metadata": {},
   "outputs": [
    {
     "name": "stdout",
     "output_type": "stream",
     "text": [
      "0.7818116462976276\n",
      "0.7577282530553558\n",
      "0.7199856218547808\n",
      "0.688353702372394\n",
      "0.677570093457944\n",
      "0.6721782890007189\n",
      "0.6660675772825305\n",
      "0.6531272465851905\n",
      "0.6419841840402588\n"
     ]
    }
   ],
   "source": [
    "# K-nearest Neighbours\n",
    "from sklearn.neighbors import KNeighborsClassifier\n",
    "\n",
    "for i in range(1,10,1):\n",
    "    knn = KNeighborsClassifier(n_neighbors=i)\n",
    "    knn.fit(X_train, y_train)\n",
    "    print(knn.score(X_valid,y_valid))"
   ]
  },
  {
   "cell_type": "code",
   "execution_count": 87,
   "metadata": {},
   "outputs": [],
   "source": [
    "knn = KNeighborsClassifier(n_neighbors=1)\n",
    "knn.fit(X_train, y_train)\n",
    "knn_score = model_evaluation_score(knn, X_train,X_valid,X_test,y_train,y_valid,y_test)\n",
    "train_acc.append(knn_score['train_acc'])\n",
    "train_auc.append(knn_score['train_auc'])\n",
    "test_acc.append(knn_score['test_acc'])\n",
    "test_auc.append(knn_score['test_auc'])\n",
    "valid_acc.append(knn_score['valid_acc'])\n",
    "valid_auc.append(knn_score['valid_auc'])"
   ]
  },
  {
   "cell_type": "markdown",
   "metadata": {},
   "source": [
    "### Naive Bayes\n",
    "\n",
    "In machine learning, naive Bayes classifiers are a family of simple \"probabilistic classifiers\" based on applying Bayes' theorem with strong (naive) independence assumptions between the features. We train the model based on the occurence of a certain feature in the prior observation and classify based on if that feature appears in the posterior observation."
   ]
  },
  {
   "cell_type": "code",
   "execution_count": 69,
   "metadata": {},
   "outputs": [],
   "source": [
    "# Gaussian Naive bayes\n",
    "from sklearn.naive_bayes import GaussianNB\n",
    "gnb = GaussianNB()\n",
    "gnb.fit(X_train,y_train)\n",
    "gnb_score = model_evaluation_score(gnb, X_train,X_valid,X_test,y_train,y_valid,y_test)\n",
    "train_acc.append(gnb_score['train_acc'])\n",
    "train_auc.append(gnb_score['train_auc'])\n",
    "test_acc.append(gnb_score['test_acc'])\n",
    "test_auc.append(gnb_score['test_auc'])\n",
    "valid_acc.append(gnb_score['valid_acc'])\n",
    "valid_auc.append(gnb_score['valid_auc'])"
   ]
  },
  {
   "cell_type": "markdown",
   "metadata": {},
   "source": [
    "### Neural Network\n",
    "Neural Network used a simulation of neuron from the brain. It starts with assigning random weight in the calculation of probability of class that the observation belongs. And by readjusting the weight in different layers when it makes an error, the algorithm modified the weight automatically to give better result."
   ]
  },
  {
   "cell_type": "code",
   "execution_count": 70,
   "metadata": {},
   "outputs": [],
   "source": [
    "# Neural Network\n",
    "from sklearn.neural_network import MLPClassifier\n",
    "\n",
    "mlpc = MLPClassifier(hidden_layer_sizes=(10), alpha=0.0001, random_state=0)\n",
    "mlpc.fit(X_train,y_train)\n",
    "mlpc_score = model_evaluation_score(mlpc,X_train,X_valid,X_test,y_train,y_valid,y_test)\n",
    "train_acc.append(mlpc_score['train_acc'])\n",
    "train_auc.append(mlpc_score['train_auc'])\n",
    "test_acc.append(mlpc_score['test_acc'])\n",
    "test_auc.append(mlpc_score['test_auc'])\n",
    "valid_acc.append(mlpc_score['valid_acc'])\n",
    "valid_auc.append(mlpc_score['valid_auc'])"
   ]
  },
  {
   "cell_type": "markdown",
   "metadata": {},
   "source": [
    "### Decision Tree\n",
    "A decision tree is a decision support tool that uses a tree-like model of decisions and their possible consequences, including chance event outcomes, resource costs, and utility."
   ]
  },
  {
   "cell_type": "code",
   "execution_count": 71,
   "metadata": {},
   "outputs": [],
   "source": [
    "# Descision Treee\n",
    "from sklearn.tree import DecisionTreeClassifier\n",
    "dtree = DecisionTreeClassifier(random_state=0,min_samples_split=5)\n",
    "dtree.fit(X_train, y_train)\n",
    "dtree_score = model_evaluation_score(dtree, X_train,X_valid,X_test,y_train,y_valid,y_test)\n",
    "train_acc.append(dtree_score['train_acc'])\n",
    "train_auc.append(dtree_score['train_auc'])\n",
    "test_acc.append(dtree_score['test_acc'])\n",
    "test_auc.append(dtree_score['test_auc'])\n",
    "valid_acc.append(dtree_score['valid_acc'])\n",
    "valid_auc.append(dtree_score['valid_auc'])"
   ]
  },
  {
   "cell_type": "markdown",
   "metadata": {},
   "source": [
    "After fitting different model, we create a data frame to display the Accuracy and AUC to mesure the performance of different models."
   ]
  },
  {
   "cell_type": "code",
   "execution_count": 72,
   "metadata": {},
   "outputs": [
    {
     "data": {
      "text/html": [
       "<div>\n",
       "<style>\n",
       "    .dataframe thead tr:only-child th {\n",
       "        text-align: right;\n",
       "    }\n",
       "\n",
       "    .dataframe thead th {\n",
       "        text-align: left;\n",
       "    }\n",
       "\n",
       "    .dataframe tbody tr th {\n",
       "        vertical-align: top;\n",
       "    }\n",
       "</style>\n",
       "<table border=\"1\" class=\"dataframe\">\n",
       "  <thead>\n",
       "    <tr style=\"text-align: right;\">\n",
       "      <th></th>\n",
       "      <th>model</th>\n",
       "      <th>test_acc</th>\n",
       "      <th>test_auc</th>\n",
       "      <th>train_acc</th>\n",
       "      <th>train_auc</th>\n",
       "      <th>valid_acc</th>\n",
       "      <th>valid_auc</th>\n",
       "    </tr>\n",
       "  </thead>\n",
       "  <tbody>\n",
       "    <tr>\n",
       "      <th>0</th>\n",
       "      <td>logreg</td>\n",
       "      <td>0.814815</td>\n",
       "      <td>0.502967</td>\n",
       "      <td>0.586388</td>\n",
       "      <td>0.516014</td>\n",
       "      <td>0.577638</td>\n",
       "      <td>0.509837</td>\n",
       "    </tr>\n",
       "    <tr>\n",
       "      <th>1</th>\n",
       "      <td>knn</td>\n",
       "      <td>0.689367</td>\n",
       "      <td>0.522166</td>\n",
       "      <td>0.884465</td>\n",
       "      <td>0.880473</td>\n",
       "      <td>0.781633</td>\n",
       "      <td>0.786512</td>\n",
       "    </tr>\n",
       "    <tr>\n",
       "      <th>2</th>\n",
       "      <td>gnb</td>\n",
       "      <td>0.830346</td>\n",
       "      <td>0.554100</td>\n",
       "      <td>0.589844</td>\n",
       "      <td>0.538257</td>\n",
       "      <td>0.583246</td>\n",
       "      <td>0.558830</td>\n",
       "    </tr>\n",
       "    <tr>\n",
       "      <th>3</th>\n",
       "      <td>nn</td>\n",
       "      <td>0.599164</td>\n",
       "      <td>0.529374</td>\n",
       "      <td>0.527644</td>\n",
       "      <td>0.513001</td>\n",
       "      <td>0.511742</td>\n",
       "      <td>0.499436</td>\n",
       "    </tr>\n",
       "    <tr>\n",
       "      <th>4</th>\n",
       "      <td>tree</td>\n",
       "      <td>0.685783</td>\n",
       "      <td>0.499833</td>\n",
       "      <td>0.890475</td>\n",
       "      <td>0.970450</td>\n",
       "      <td>0.767964</td>\n",
       "      <td>0.838165</td>\n",
       "    </tr>\n",
       "  </tbody>\n",
       "</table>\n",
       "</div>"
      ],
      "text/plain": [
       "    model  test_acc  test_auc  train_acc  train_auc  valid_acc  valid_auc\n",
       "0  logreg  0.814815  0.502967   0.586388   0.516014   0.577638   0.509837\n",
       "1     knn  0.689367  0.522166   0.884465   0.880473   0.781633   0.786512\n",
       "2     gnb  0.830346  0.554100   0.589844   0.538257   0.583246   0.558830\n",
       "3      nn  0.599164  0.529374   0.527644   0.513001   0.511742   0.499436\n",
       "4    tree  0.685783  0.499833   0.890475   0.970450   0.767964   0.838165"
      ]
     },
     "execution_count": 72,
     "metadata": {},
     "output_type": "execute_result"
    }
   ],
   "source": [
    "# Display the training and testing acc, auc\n",
    "model = ['logreg','knn','gnb','nn','tree']\n",
    "model_evaluation = pd.DataFrame({'model':model,\n",
    "                                'train_acc':train_acc,\n",
    "                                'train_auc':train_auc,\n",
    "                                'valid_acc':valid_acc,\n",
    "                                'valid_auc':valid_auc,\n",
    "                                'test_acc':test_acc,\n",
    "                                'test_auc':test_auc})\n",
    "model_evaluation"
   ]
  },
  {
   "cell_type": "markdown",
   "metadata": {},
   "source": [
    "Accuracy and AUC provide an indication how well the model classify the observation into target group. From the above table, knn and decision tree shows high accurary and auc (above 75%) in their training and validation stage. However, the auc drop sharply when we use the model to predict the test data. This indicated the model has been overfitting.\n",
    "\n",
    "We have tried different ratio of over-sampling and down-sampling, but the AUC remained at around 50% which did not do better prediction than not having the model.\n",
    "\n",
    "The reason of this is likely we did not capture the right features in our data. As we saw that from the data exloration did not have any difference in no matter the pairs match or not match."
   ]
  },
  {
   "cell_type": "code",
   "execution_count": 73,
   "metadata": {},
   "outputs": [
    {
     "data": {
      "image/png": "[encoded data removed]",
      "text/plain": [
       "<matplotlib.figure.Figure at 0x10202ce10>"
      ]
     },
     "metadata": {},
     "output_type": "display_data"
    }
   ],
   "source": [
    "import scikitplot as skplt\n",
    "predicted_test = dtree.predict(X_test)\n",
    "skplt.metrics.plot_confusion_matrix(y_test, predicted_test)\n",
    "plt.show()"
   ]
  },
  {
   "cell_type": "markdown",
   "metadata": {},
   "source": [
    "The confusion matrix provide information what are the false positive and false negative the model is making. As seen above, The model tends to predict the majority(not match) class right but can hardly classified match."
   ]
  },
  {
   "cell_type": "code",
   "execution_count": 74,
   "metadata": {},
   "outputs": [
    {
     "name": "stdout",
     "output_type": "stream",
     "text": [
      "Index(['age', 'field_cd', 'go_out', 'income', 'interest', 'race'], dtype='object')\n",
      "[2 6 5 1 3 4]\n"
     ]
    }
   ],
   "source": [
    "#feature importance\n",
    "from sklearn.feature_selection import RFE\n",
    "selector = RFE(dtree, 1, step=1)\n",
    "selector = selector.fit(X_train, y_train)\n",
    "print(X_train.columns)\n",
    "print(selector.ranking_)"
   ]
  },
  {
   "cell_type": "markdown",
   "metadata": {},
   "source": [
    "Income is found to be the most important variables with age come second. The importance of these two features can also be seen in the Decision Tree Plot below. The tree splits based on income and age in first two levels of split."
   ]
  },
  {
   "cell_type": "code",
   "execution_count": 75,
   "metadata": {},
   "outputs": [
    {
     "data": {
      "image/svg+xml": [
       "<?xml version=\"1.0\" encoding=\"UTF-8\" standalone=\"no\"?>\n",
       "<!DOCTYPE svg PUBLIC \"-//W3C//DTD SVG 1.1//EN\"\n",
       " \"http://www.w3.org/Graphics/SVG/1.1/DTD/svg11.dtd\">\n",
       "<!-- Generated by graphviz version 2.40.1 (20161225.0304)\n",
       " -->\n",
       "<!-- Title: Tree Pages: 1 -->\n",
       "<svg width=\"615pt\" height=\"386pt\"\n",
       " viewBox=\"0.00 0.00 615.00 386.00\" xmlns=\"http://www.w3.org/2000/svg\" xmlns:xlink=\"http://www.w3.org/1999/xlink\">\n",
       "<g id=\"graph0\" class=\"graph\" transform=\"scale(1 1) rotate(0) translate(4 382)\">\n",
       "<title>Tree</title>\n",
       "<polygon fill=\"#ffffff\" stroke=\"transparent\" points=\"-4,4 -4,-382 611,-382 611,4 -4,4\"/>\n",
       "<!-- 0 -->\n",
       "<g id=\"node1\" class=\"node\">\n",
       "<title>0</title>\n",
       "<polygon fill=\"#e58139\" fill-opacity=\"0.305882\" stroke=\"#000000\" points=\"360.5379,-378 227.4621,-378 227.4621,-300 360.5379,-300 360.5379,-378\"/>\n",
       "<text text-anchor=\"middle\" x=\"294\" y=\"-362.8\" font-family=\"Times,serif\" font-size=\"14.00\" fill=\"#000000\">age &lt;= &#45;7.5</text>\n",
       "<text text-anchor=\"middle\" x=\"294\" y=\"-348.8\" font-family=\"Times,serif\" font-size=\"14.00\" fill=\"#000000\">gini = 0.484</text>\n",
       "<text text-anchor=\"middle\" x=\"294\" y=\"-334.8\" font-family=\"Times,serif\" font-size=\"14.00\" fill=\"#000000\">samples = 6656</text>\n",
       "<text text-anchor=\"middle\" x=\"294\" y=\"-320.8\" font-family=\"Times,serif\" font-size=\"14.00\" fill=\"#000000\">value = [3930, 2726]</text>\n",
       "<text text-anchor=\"middle\" x=\"294\" y=\"-306.8\" font-family=\"Times,serif\" font-size=\"14.00\" fill=\"#000000\">class = not match</text>\n",
       "</g>\n",
       "<!-- 1 -->\n",
       "<g id=\"node2\" class=\"node\">\n",
       "<title>1</title>\n",
       "<polygon fill=\"#e58139\" fill-opacity=\"0.584314\" stroke=\"#000000\" points=\"280.0954,-264 165.9046,-264 165.9046,-186 280.0954,-186 280.0954,-264\"/>\n",
       "<text text-anchor=\"middle\" x=\"223\" y=\"-248.8\" font-family=\"Times,serif\" font-size=\"14.00\" fill=\"#000000\">race &lt;= 4097.181</text>\n",
       "<text text-anchor=\"middle\" x=\"223\" y=\"-234.8\" font-family=\"Times,serif\" font-size=\"14.00\" fill=\"#000000\">gini = 0.414</text>\n",
       "<text text-anchor=\"middle\" x=\"223\" y=\"-220.8\" font-family=\"Times,serif\" font-size=\"14.00\" fill=\"#000000\">samples = 287</text>\n",
       "<text text-anchor=\"middle\" x=\"223\" y=\"-206.8\" font-family=\"Times,serif\" font-size=\"14.00\" fill=\"#000000\">value = [203, 84]</text>\n",
       "<text text-anchor=\"middle\" x=\"223\" y=\"-192.8\" font-family=\"Times,serif\" font-size=\"14.00\" fill=\"#000000\">class = not match</text>\n",
       "</g>\n",
       "<!-- 0&#45;&gt;1 -->\n",
       "<g id=\"edge1\" class=\"edge\">\n",
       "<title>0&#45;&gt;1</title>\n",
       "<path fill=\"none\" stroke=\"#000000\" d=\"M269.5658,-299.7677C264.155,-291.0798 258.3631,-281.7801 252.7664,-272.794\"/>\n",
       "<polygon fill=\"#000000\" stroke=\"#000000\" points=\"255.7368,-270.9427 247.4792,-264.3046 249.7949,-274.6433 255.7368,-270.9427\"/>\n",
       "<text text-anchor=\"middle\" x=\"241.8193\" y=\"-284.4555\" font-family=\"Times,serif\" font-size=\"14.00\" fill=\"#000000\">True</text>\n",
       "</g>\n",
       "<!-- 102 -->\n",
       "<g id=\"node9\" class=\"node\">\n",
       "<title>102</title>\n",
       "<polygon fill=\"#e58139\" fill-opacity=\"0.290196\" stroke=\"#000000\" points=\"431.5379,-264 298.4621,-264 298.4621,-186 431.5379,-186 431.5379,-264\"/>\n",
       "<text text-anchor=\"middle\" x=\"365\" y=\"-248.8\" font-family=\"Times,serif\" font-size=\"14.00\" fill=\"#000000\">age &lt;= 4.18</text>\n",
       "<text text-anchor=\"middle\" x=\"365\" y=\"-234.8\" font-family=\"Times,serif\" font-size=\"14.00\" fill=\"#000000\">gini = 0.485</text>\n",
       "<text text-anchor=\"middle\" x=\"365\" y=\"-220.8\" font-family=\"Times,serif\" font-size=\"14.00\" fill=\"#000000\">samples = 6369</text>\n",
       "<text text-anchor=\"middle\" x=\"365\" y=\"-206.8\" font-family=\"Times,serif\" font-size=\"14.00\" fill=\"#000000\">value = [3727, 2642]</text>\n",
       "<text text-anchor=\"middle\" x=\"365\" y=\"-192.8\" font-family=\"Times,serif\" font-size=\"14.00\" fill=\"#000000\">class = not match</text>\n",
       "</g>\n",
       "<!-- 0&#45;&gt;102 -->\n",
       "<g id=\"edge8\" class=\"edge\">\n",
       "<title>0&#45;&gt;102</title>\n",
       "<path fill=\"none\" stroke=\"#000000\" d=\"M318.4342,-299.7677C323.845,-291.0798 329.6369,-281.7801 335.2336,-272.794\"/>\n",
       "<polygon fill=\"#000000\" stroke=\"#000000\" points=\"338.2051,-274.6433 340.5208,-264.3046 332.2632,-270.9427 338.2051,-274.6433\"/>\n",
       "<text text-anchor=\"middle\" x=\"346.1807\" y=\"-284.4555\" font-family=\"Times,serif\" font-size=\"14.00\" fill=\"#000000\">False</text>\n",
       "</g>\n",
       "<!-- 2 -->\n",
       "<g id=\"node3\" class=\"node\">\n",
       "<title>2</title>\n",
       "<polygon fill=\"#e58139\" fill-opacity=\"0.721569\" stroke=\"#000000\" points=\"147.7064,-150 34.2936,-150 34.2936,-72 147.7064,-72 147.7064,-150\"/>\n",
       "<text text-anchor=\"middle\" x=\"91\" y=\"-134.8\" font-family=\"Times,serif\" font-size=\"14.00\" fill=\"#000000\">race &lt;= &#45;5295.0</text>\n",
       "<text text-anchor=\"middle\" x=\"91\" y=\"-120.8\" font-family=\"Times,serif\" font-size=\"14.00\" fill=\"#000000\">gini = 0.339</text>\n",
       "<text text-anchor=\"middle\" x=\"91\" y=\"-106.8\" font-family=\"Times,serif\" font-size=\"14.00\" fill=\"#000000\">samples = 180</text>\n",
       "<text text-anchor=\"middle\" x=\"91\" y=\"-92.8\" font-family=\"Times,serif\" font-size=\"14.00\" fill=\"#000000\">value = [141, 39]</text>\n",
       "<text text-anchor=\"middle\" x=\"91\" y=\"-78.8\" font-family=\"Times,serif\" font-size=\"14.00\" fill=\"#000000\">class = not match</text>\n",
       "</g>\n",
       "<!-- 1&#45;&gt;2 -->\n",
       "<g id=\"edge2\" class=\"edge\">\n",
       "<title>1&#45;&gt;2</title>\n",
       "<path fill=\"none\" stroke=\"#000000\" d=\"M177.5731,-185.7677C166.7875,-176.4529 155.1876,-166.4347 144.0938,-156.8538\"/>\n",
       "<polygon fill=\"#000000\" stroke=\"#000000\" points=\"146.3666,-154.192 136.5106,-150.3046 141.7912,-159.4898 146.3666,-154.192\"/>\n",
       "</g>\n",
       "<!-- 53 -->\n",
       "<g id=\"node6\" class=\"node\">\n",
       "<title>53</title>\n",
       "<polygon fill=\"#e58139\" fill-opacity=\"0.274510\" stroke=\"#000000\" points=\"279.7064,-150 166.2936,-150 166.2936,-72 279.7064,-72 279.7064,-150\"/>\n",
       "<text text-anchor=\"middle\" x=\"223\" y=\"-134.8\" font-family=\"Times,serif\" font-size=\"14.00\" fill=\"#000000\">field_cd &lt;= 0.5</text>\n",
       "<text text-anchor=\"middle\" x=\"223\" y=\"-120.8\" font-family=\"Times,serif\" font-size=\"14.00\" fill=\"#000000\">gini = 0.487</text>\n",
       "<text text-anchor=\"middle\" x=\"223\" y=\"-106.8\" font-family=\"Times,serif\" font-size=\"14.00\" fill=\"#000000\">samples = 107</text>\n",
       "<text text-anchor=\"middle\" x=\"223\" y=\"-92.8\" font-family=\"Times,serif\" font-size=\"14.00\" fill=\"#000000\">value = [62, 45]</text>\n",
       "<text text-anchor=\"middle\" x=\"223\" y=\"-78.8\" font-family=\"Times,serif\" font-size=\"14.00\" fill=\"#000000\">class = not match</text>\n",
       "</g>\n",
       "<!-- 1&#45;&gt;53 -->\n",
       "<g id=\"edge5\" class=\"edge\">\n",
       "<title>1&#45;&gt;53</title>\n",
       "<path fill=\"none\" stroke=\"#000000\" d=\"M223,-185.7677C223,-177.6172 223,-168.9283 223,-160.4649\"/>\n",
       "<polygon fill=\"#000000\" stroke=\"#000000\" points=\"226.5001,-160.3046 223,-150.3046 219.5001,-160.3047 226.5001,-160.3046\"/>\n",
       "</g>\n",
       "<!-- 3 -->\n",
       "<g id=\"node4\" class=\"node\">\n",
       "<title>3</title>\n",
       "<polygon fill=\"#c0c0c0\" stroke=\"#000000\" points=\"54,-36 0,-36 0,0 54,0 54,-36\"/>\n",
       "<text text-anchor=\"middle\" x=\"27\" y=\"-13.8\" font-family=\"Times,serif\" font-size=\"14.00\" fill=\"#000000\">(...)</text>\n",
       "</g>\n",
       "<!-- 2&#45;&gt;3 -->\n",
       "<g id=\"edge3\" class=\"edge\">\n",
       "<title>2&#45;&gt;3</title>\n",
       "<path fill=\"none\" stroke=\"#000000\" d=\"M64.0437,-71.8292C57.7559,-62.6921 51.2015,-53.1678 45.3848,-44.7154\"/>\n",
       "<polygon fill=\"#000000\" stroke=\"#000000\" points=\"48.1847,-42.6101 39.6324,-36.3565 42.4182,-46.5785 48.1847,-42.6101\"/>\n",
       "</g>\n",
       "<!-- 28 -->\n",
       "<g id=\"node5\" class=\"node\">\n",
       "<title>28</title>\n",
       "<polygon fill=\"#c0c0c0\" stroke=\"#000000\" points=\"126,-36 72,-36 72,0 126,0 126,-36\"/>\n",
       "<text text-anchor=\"middle\" x=\"99\" y=\"-13.8\" font-family=\"Times,serif\" font-size=\"14.00\" fill=\"#000000\">(...)</text>\n",
       "</g>\n",
       "<!-- 2&#45;&gt;28 -->\n",
       "<g id=\"edge4\" class=\"edge\">\n",
       "<title>2&#45;&gt;28</title>\n",
       "<path fill=\"none\" stroke=\"#000000\" d=\"M94.3695,-71.8292C95.1059,-63.2692 95.8715,-54.3693 96.5631,-46.3294\"/>\n",
       "<polygon fill=\"#000000\" stroke=\"#000000\" points=\"100.0509,-46.6197 97.421,-36.3565 93.0767,-46.0197 100.0509,-46.6197\"/>\n",
       "</g>\n",
       "<!-- 54 -->\n",
       "<g id=\"node7\" class=\"node\">\n",
       "<title>54</title>\n",
       "<polygon fill=\"#c0c0c0\" stroke=\"#000000\" points=\"227,-36 173,-36 173,0 227,0 227,-36\"/>\n",
       "<text text-anchor=\"middle\" x=\"200\" y=\"-13.8\" font-family=\"Times,serif\" font-size=\"14.00\" fill=\"#000000\">(...)</text>\n",
       "</g>\n",
       "<!-- 53&#45;&gt;54 -->\n",
       "<g id=\"edge6\" class=\"edge\">\n",
       "<title>53&#45;&gt;54</title>\n",
       "<path fill=\"none\" stroke=\"#000000\" d=\"M213.3126,-71.8292C211.1956,-63.2692 208.9946,-54.3693 207.0062,-46.3294\"/>\n",
       "<polygon fill=\"#000000\" stroke=\"#000000\" points=\"210.3383,-45.2237 204.5398,-36.3565 203.543,-46.9043 210.3383,-45.2237\"/>\n",
       "</g>\n",
       "<!-- 81 -->\n",
       "<g id=\"node8\" class=\"node\">\n",
       "<title>81</title>\n",
       "<polygon fill=\"#c0c0c0\" stroke=\"#000000\" points=\"299,-36 245,-36 245,0 299,0 299,-36\"/>\n",
       "<text text-anchor=\"middle\" x=\"272\" y=\"-13.8\" font-family=\"Times,serif\" font-size=\"14.00\" fill=\"#000000\">(...)</text>\n",
       "</g>\n",
       "<!-- 53&#45;&gt;81 -->\n",
       "<g id=\"edge7\" class=\"edge\">\n",
       "<title>53&#45;&gt;81</title>\n",
       "<path fill=\"none\" stroke=\"#000000\" d=\"M243.6384,-71.8292C248.3512,-62.8845 253.2596,-53.5686 257.6421,-45.2507\"/>\n",
       "<polygon fill=\"#000000\" stroke=\"#000000\" points=\"260.7634,-46.8351 262.3283,-36.3565 254.5704,-43.5721 260.7634,-46.8351\"/>\n",
       "</g>\n",
       "<!-- 103 -->\n",
       "<g id=\"node10\" class=\"node\">\n",
       "<title>103</title>\n",
       "<polygon fill=\"#e58139\" fill-opacity=\"0.254902\" stroke=\"#000000\" points=\"431.5379,-150 298.4621,-150 298.4621,-72 431.5379,-72 431.5379,-150\"/>\n",
       "<text text-anchor=\"middle\" x=\"365\" y=\"-134.8\" font-family=\"Times,serif\" font-size=\"14.00\" fill=\"#000000\">race &lt;= 55023.5</text>\n",
       "<text text-anchor=\"middle\" x=\"365\" y=\"-120.8\" font-family=\"Times,serif\" font-size=\"14.00\" fill=\"#000000\">gini = 0.489</text>\n",
       "<text text-anchor=\"middle\" x=\"365\" y=\"-106.8\" font-family=\"Times,serif\" font-size=\"14.00\" fill=\"#000000\">samples = 5380</text>\n",
       "<text text-anchor=\"middle\" x=\"365\" y=\"-92.8\" font-family=\"Times,serif\" font-size=\"14.00\" fill=\"#000000\">value = [3086, 2294]</text>\n",
       "<text text-anchor=\"middle\" x=\"365\" y=\"-78.8\" font-family=\"Times,serif\" font-size=\"14.00\" fill=\"#000000\">class = not match</text>\n",
       "</g>\n",
       "<!-- 102&#45;&gt;103 -->\n",
       "<g id=\"edge9\" class=\"edge\">\n",
       "<title>102&#45;&gt;103</title>\n",
       "<path fill=\"none\" stroke=\"#000000\" d=\"M365,-185.7677C365,-177.6172 365,-168.9283 365,-160.4649\"/>\n",
       "<polygon fill=\"#000000\" stroke=\"#000000\" points=\"368.5001,-160.3046 365,-150.3046 361.5001,-160.3047 368.5001,-160.3046\"/>\n",
       "</g>\n",
       "<!-- 2016 -->\n",
       "<g id=\"node13\" class=\"node\">\n",
       "<title>2016</title>\n",
       "<polygon fill=\"#e58139\" fill-opacity=\"0.458824\" stroke=\"#000000\" points=\"576.2571,-150 449.7429,-150 449.7429,-72 576.2571,-72 576.2571,-150\"/>\n",
       "<text text-anchor=\"middle\" x=\"513\" y=\"-134.8\" font-family=\"Times,serif\" font-size=\"14.00\" fill=\"#000000\">race &lt;= &#45;23070.818</text>\n",
       "<text text-anchor=\"middle\" x=\"513\" y=\"-120.8\" font-family=\"Times,serif\" font-size=\"14.00\" fill=\"#000000\">gini = 0.456</text>\n",
       "<text text-anchor=\"middle\" x=\"513\" y=\"-106.8\" font-family=\"Times,serif\" font-size=\"14.00\" fill=\"#000000\">samples = 989</text>\n",
       "<text text-anchor=\"middle\" x=\"513\" y=\"-92.8\" font-family=\"Times,serif\" font-size=\"14.00\" fill=\"#000000\">value = [641, 348]</text>\n",
       "<text text-anchor=\"middle\" x=\"513\" y=\"-78.8\" font-family=\"Times,serif\" font-size=\"14.00\" fill=\"#000000\">class = not match</text>\n",
       "</g>\n",
       "<!-- 102&#45;&gt;2016 -->\n",
       "<g id=\"edge12\" class=\"edge\">\n",
       "<title>102&#45;&gt;2016</title>\n",
       "<path fill=\"none\" stroke=\"#000000\" d=\"M415.9332,-185.7677C428.211,-176.3105 441.43,-166.1282 454.0406,-156.4147\"/>\n",
       "<polygon fill=\"#000000\" stroke=\"#000000\" points=\"456.4373,-158.9866 462.2237,-150.1115 452.1656,-153.441 456.4373,-158.9866\"/>\n",
       "</g>\n",
       "<!-- 104 -->\n",
       "<g id=\"node11\" class=\"node\">\n",
       "<title>104</title>\n",
       "<polygon fill=\"#c0c0c0\" stroke=\"#000000\" points=\"385,-36 331,-36 331,0 385,0 385,-36\"/>\n",
       "<text text-anchor=\"middle\" x=\"358\" y=\"-13.8\" font-family=\"Times,serif\" font-size=\"14.00\" fill=\"#000000\">(...)</text>\n",
       "</g>\n",
       "<!-- 103&#45;&gt;104 -->\n",
       "<g id=\"edge10\" class=\"edge\">\n",
       "<title>103&#45;&gt;104</title>\n",
       "<path fill=\"none\" stroke=\"#000000\" d=\"M362.0517,-71.8292C361.4074,-63.2692 360.7375,-54.3693 360.1323,-46.3294\"/>\n",
       "<polygon fill=\"#000000\" stroke=\"#000000\" points=\"363.6225,-46.0655 359.3817,-36.3565 356.6422,-46.591 363.6225,-46.0655\"/>\n",
       "</g>\n",
       "<!-- 2011 -->\n",
       "<g id=\"node12\" class=\"node\">\n",
       "<title>2011</title>\n",
       "<polygon fill=\"#c0c0c0\" stroke=\"#000000\" points=\"457,-36 403,-36 403,0 457,0 457,-36\"/>\n",
       "<text text-anchor=\"middle\" x=\"430\" y=\"-13.8\" font-family=\"Times,serif\" font-size=\"14.00\" fill=\"#000000\">(...)</text>\n",
       "</g>\n",
       "<!-- 103&#45;&gt;2011 -->\n",
       "<g id=\"edge11\" class=\"edge\">\n",
       "<title>103&#45;&gt;2011</title>\n",
       "<path fill=\"none\" stroke=\"#000000\" d=\"M392.3775,-71.8292C398.7636,-62.6921 405.4204,-53.1678 411.3279,-44.7154\"/>\n",
       "<polygon fill=\"#000000\" stroke=\"#000000\" points=\"414.3102,-46.558 417.1702,-36.3565 408.5727,-42.5479 414.3102,-46.558\"/>\n",
       "</g>\n",
       "<!-- 2017 -->\n",
       "<g id=\"node14\" class=\"node\">\n",
       "<title>2017</title>\n",
       "<polygon fill=\"#c0c0c0\" stroke=\"#000000\" points=\"535,-36 481,-36 481,0 535,0 535,-36\"/>\n",
       "<text text-anchor=\"middle\" x=\"508\" y=\"-13.8\" font-family=\"Times,serif\" font-size=\"14.00\" fill=\"#000000\">(...)</text>\n",
       "</g>\n",
       "<!-- 2016&#45;&gt;2017 -->\n",
       "<g id=\"edge13\" class=\"edge\">\n",
       "<title>2016&#45;&gt;2017</title>\n",
       "<path fill=\"none\" stroke=\"#000000\" d=\"M510.894,-71.8292C510.439,-63.3654 509.9661,-54.5692 509.5377,-46.6007\"/>\n",
       "<polygon fill=\"#000000\" stroke=\"#000000\" points=\"513.0188,-46.1541 508.9869,-36.3565 506.0289,-46.53 513.0188,-46.1541\"/>\n",
       "</g>\n",
       "<!-- 2070 -->\n",
       "<g id=\"node15\" class=\"node\">\n",
       "<title>2070</title>\n",
       "<polygon fill=\"#c0c0c0\" stroke=\"#000000\" points=\"607,-36 553,-36 553,0 607,0 607,-36\"/>\n",
       "<text text-anchor=\"middle\" x=\"580\" y=\"-13.8\" font-family=\"Times,serif\" font-size=\"14.00\" fill=\"#000000\">(...)</text>\n",
       "</g>\n",
       "<!-- 2016&#45;&gt;2070 -->\n",
       "<g id=\"edge14\" class=\"edge\">\n",
       "<title>2016&#45;&gt;2070</title>\n",
       "<path fill=\"none\" stroke=\"#000000\" d=\"M541.2198,-71.8292C547.8025,-62.6921 554.6641,-53.1678 560.7534,-44.7154\"/>\n",
       "<polygon fill=\"#000000\" stroke=\"#000000\" points=\"563.7699,-46.516 566.7755,-36.3565 558.0903,-42.4243 563.7699,-46.516\"/>\n",
       "</g>\n",
       "</g>\n",
       "</svg>\n"
      ],
      "text/plain": [
       "<graphviz.files.Source at 0x1a1bb265f8>"
      ]
     },
     "execution_count": 75,
     "metadata": {},
     "output_type": "execute_result"
    }
   ],
   "source": [
    "# Visualize the decision Tree\n",
    "from sklearn import tree\n",
    "import graphviz \n",
    "import pydotplus\n",
    "dtree = dtree.fit(X_train, y_train)\n",
    "dot_data = tree.export_graphviz(dtree, out_file=None,max_depth = 2,\n",
    "                                feature_names = ['age', 'go_out', 'income', 'race','field_cd','interest'], class_names=['not match','match'],\n",
    "                               filled = True) \n",
    "graph = graphviz.Source(dot_data) \n",
    "graph"
   ]
  },
  {
   "cell_type": "markdown",
   "metadata": {},
   "source": [
    "# Summary and future improvement\n",
    "\n",
    "To conclude, our project aim to provide indication for speed dating event host to group people that share common interest or more likely to find each other match their partner selection criteria.\n",
    "\n",
    "We trained a **Speed Dating Match Classifier** that classify if a pair of partificant will result a match in a speed dating event. Interest and age is the most important feature. Decision Tree gave the best performance among all other algorithm used with train accuracy and auc and validation accuracy and auc over 75%. However, the model is over fitted as AUC dropped rapidly when we tried to predict with the test data. This indicated the model created is unreliable.\n",
    "\n",
    "This may caused by serveral reasons:\n",
    "- the sample size is not large enough to represent the population\n",
    "- variables in profile is not the right feature for the classification, we can extend the model by using the selection criteria questionaire result\n",
    "- the original paper of the speed dating data also suggested male and female has different selection criteria, our model did not specified this. We may improve the model by spliting the model into two for male and female.\n"
   ]
  },
  {
   "cell_type": "markdown",
   "metadata": {},
   "source": [
    "# Reference\n",
    "Relationship Australia, 2017:https://www.relationships.org.au/what-we-do/research/online-survey/november-2017-online-dating"
   ]
  },
  {
   "cell_type": "code",
   "execution_count": null,
   "metadata": {},
   "outputs": [],
   "source": []
  }
 ],
 "metadata": {
  "kernelspec": {
   "display_name": "Python 3",
   "language": "python",
   "name": "python3"
  },
  "language_info": {
   "codemirror_mode": {
    "name": "ipython",
    "version": 3
   },
   "file_extension": ".py",
   "mimetype": "text/x-python",
   "name": "python",
   "nbconvert_exporter": "python",
   "pygments_lexer": "ipython3",
   "version": "3.6.8"
  }
 },
 "nbformat": 4,
 "nbformat_minor": 2
}

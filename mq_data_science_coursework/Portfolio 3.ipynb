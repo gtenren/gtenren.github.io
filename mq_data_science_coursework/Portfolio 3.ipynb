{
 "cells": [
  {
   "cell_type": "code",
   "execution_count": 1,
   "metadata": {
    "collapsed": true
   },
   "outputs": [
    {
     "name": "stderr",
     "output_type": "stream",
     "text": [
      "/Users/garylau/anaconda/lib/python3.6/site-packages/sklearn/utils/fixes.py:313: FutureWarning: numpy not_equal will not check object identity in the future. The comparison did not return the same result as suggested by the identity (`is`)) and will change.\n",
      "  _nan_object_mask = _nan_object_array != _nan_object_array\n"
     ]
    }
   ],
   "source": [
    "import pandas as pd\n",
    "import numpy as np\n",
    "import matplotlib.pyplot as plt\n",
    "import seaborn as sns\n",
    "import scikitplot as skplt\n",
    "\n",
    "%matplotlib inline"
   ]
  },
  {
   "cell_type": "code",
   "execution_count": 2,
   "metadata": {
    "collapsed": true
   },
   "outputs": [],
   "source": [
    "#load data\n",
    "bank = pd.read_csv('bank-additional/bank-additional-full.csv',delimiter=(';'))"
   ]
  },
  {
   "cell_type": "markdown",
   "metadata": {},
   "source": [
    "# Introduction"
   ]
  },
  {
   "cell_type": "markdown",
   "metadata": {},
   "source": [
    "The data is related to direct marketing campaigns (phone calls) of a Portuguese banking institution. \n",
    "The classification goal is to predict if the client will subscribe a term deposit (variable y).\n",
    "\n",
    "There are 41188 records and 21 variables in our data set. \n",
    "\n",
    "Below is a sample of the data."
   ]
  },
  {
   "cell_type": "code",
   "execution_count": 3,
   "metadata": {},
   "outputs": [
    {
     "name": "stdout",
     "output_type": "stream",
     "text": [
      "The dimention of the data is:  (41188, 21)\n",
      "List of variables:  ['age', 'job', 'marital', 'education', 'default', 'housing', 'loan', 'contact', 'month', 'day_of_week', 'duration', 'campaign', 'pdays', 'previous', 'poutcome', 'emp.var.rate', 'cons.price.idx', 'cons.conf.idx', 'euribor3m', 'nr.employed', 'y']\n",
      "Number of missing value:  0\n"
     ]
    }
   ],
   "source": [
    "#checking of dataframe shape and variables\n",
    "print(\"The dimention of the data is: \", bank.shape)\n",
    "print(\"List of variables: \", [i for i in bank.columns])\n",
    "print(\"Number of missing value: \", bank.isnull().values.sum())"
   ]
  },
  {
   "cell_type": "code",
   "execution_count": 4,
   "metadata": {},
   "outputs": [
    {
     "name": "stdout",
     "output_type": "stream",
     "text": [
      "Sample data: \n"
     ]
    },
    {
     "data": {
      "text/html": [
       "<div>\n",
       "<style>\n",
       "    .dataframe thead tr:only-child th {\n",
       "        text-align: right;\n",
       "    }\n",
       "\n",
       "    .dataframe thead th {\n",
       "        text-align: left;\n",
       "    }\n",
       "\n",
       "    .dataframe tbody tr th {\n",
       "        vertical-align: top;\n",
       "    }\n",
       "</style>\n",
       "<table border=\"1\" class=\"dataframe\">\n",
       "  <thead>\n",
       "    <tr style=\"text-align: right;\">\n",
       "      <th></th>\n",
       "      <th>age</th>\n",
       "      <th>job</th>\n",
       "      <th>marital</th>\n",
       "      <th>education</th>\n",
       "      <th>default</th>\n",
       "      <th>housing</th>\n",
       "      <th>loan</th>\n",
       "      <th>contact</th>\n",
       "      <th>month</th>\n",
       "      <th>day_of_week</th>\n",
       "      <th>...</th>\n",
       "      <th>campaign</th>\n",
       "      <th>pdays</th>\n",
       "      <th>previous</th>\n",
       "      <th>poutcome</th>\n",
       "      <th>emp.var.rate</th>\n",
       "      <th>cons.price.idx</th>\n",
       "      <th>cons.conf.idx</th>\n",
       "      <th>euribor3m</th>\n",
       "      <th>nr.employed</th>\n",
       "      <th>y</th>\n",
       "    </tr>\n",
       "  </thead>\n",
       "  <tbody>\n",
       "    <tr>\n",
       "      <th>0</th>\n",
       "      <td>56</td>\n",
       "      <td>housemaid</td>\n",
       "      <td>married</td>\n",
       "      <td>basic.4y</td>\n",
       "      <td>no</td>\n",
       "      <td>no</td>\n",
       "      <td>no</td>\n",
       "      <td>telephone</td>\n",
       "      <td>may</td>\n",
       "      <td>mon</td>\n",
       "      <td>...</td>\n",
       "      <td>1</td>\n",
       "      <td>999</td>\n",
       "      <td>0</td>\n",
       "      <td>nonexistent</td>\n",
       "      <td>1.1</td>\n",
       "      <td>93.994</td>\n",
       "      <td>-36.4</td>\n",
       "      <td>4.857</td>\n",
       "      <td>5191.0</td>\n",
       "      <td>no</td>\n",
       "    </tr>\n",
       "    <tr>\n",
       "      <th>1</th>\n",
       "      <td>57</td>\n",
       "      <td>services</td>\n",
       "      <td>married</td>\n",
       "      <td>high.school</td>\n",
       "      <td>unknown</td>\n",
       "      <td>no</td>\n",
       "      <td>no</td>\n",
       "      <td>telephone</td>\n",
       "      <td>may</td>\n",
       "      <td>mon</td>\n",
       "      <td>...</td>\n",
       "      <td>1</td>\n",
       "      <td>999</td>\n",
       "      <td>0</td>\n",
       "      <td>nonexistent</td>\n",
       "      <td>1.1</td>\n",
       "      <td>93.994</td>\n",
       "      <td>-36.4</td>\n",
       "      <td>4.857</td>\n",
       "      <td>5191.0</td>\n",
       "      <td>no</td>\n",
       "    </tr>\n",
       "    <tr>\n",
       "      <th>2</th>\n",
       "      <td>37</td>\n",
       "      <td>services</td>\n",
       "      <td>married</td>\n",
       "      <td>high.school</td>\n",
       "      <td>no</td>\n",
       "      <td>yes</td>\n",
       "      <td>no</td>\n",
       "      <td>telephone</td>\n",
       "      <td>may</td>\n",
       "      <td>mon</td>\n",
       "      <td>...</td>\n",
       "      <td>1</td>\n",
       "      <td>999</td>\n",
       "      <td>0</td>\n",
       "      <td>nonexistent</td>\n",
       "      <td>1.1</td>\n",
       "      <td>93.994</td>\n",
       "      <td>-36.4</td>\n",
       "      <td>4.857</td>\n",
       "      <td>5191.0</td>\n",
       "      <td>no</td>\n",
       "    </tr>\n",
       "    <tr>\n",
       "      <th>3</th>\n",
       "      <td>40</td>\n",
       "      <td>admin.</td>\n",
       "      <td>married</td>\n",
       "      <td>basic.6y</td>\n",
       "      <td>no</td>\n",
       "      <td>no</td>\n",
       "      <td>no</td>\n",
       "      <td>telephone</td>\n",
       "      <td>may</td>\n",
       "      <td>mon</td>\n",
       "      <td>...</td>\n",
       "      <td>1</td>\n",
       "      <td>999</td>\n",
       "      <td>0</td>\n",
       "      <td>nonexistent</td>\n",
       "      <td>1.1</td>\n",
       "      <td>93.994</td>\n",
       "      <td>-36.4</td>\n",
       "      <td>4.857</td>\n",
       "      <td>5191.0</td>\n",
       "      <td>no</td>\n",
       "    </tr>\n",
       "    <tr>\n",
       "      <th>4</th>\n",
       "      <td>56</td>\n",
       "      <td>services</td>\n",
       "      <td>married</td>\n",
       "      <td>high.school</td>\n",
       "      <td>no</td>\n",
       "      <td>no</td>\n",
       "      <td>yes</td>\n",
       "      <td>telephone</td>\n",
       "      <td>may</td>\n",
       "      <td>mon</td>\n",
       "      <td>...</td>\n",
       "      <td>1</td>\n",
       "      <td>999</td>\n",
       "      <td>0</td>\n",
       "      <td>nonexistent</td>\n",
       "      <td>1.1</td>\n",
       "      <td>93.994</td>\n",
       "      <td>-36.4</td>\n",
       "      <td>4.857</td>\n",
       "      <td>5191.0</td>\n",
       "      <td>no</td>\n",
       "    </tr>\n",
       "  </tbody>\n",
       "</table>\n",
       "<p>5 rows × 21 columns</p>\n",
       "</div>"
      ],
      "text/plain": [
       "   age        job  marital    education  default housing loan    contact  \\\n",
       "0   56  housemaid  married     basic.4y       no      no   no  telephone   \n",
       "1   57   services  married  high.school  unknown      no   no  telephone   \n",
       "2   37   services  married  high.school       no     yes   no  telephone   \n",
       "3   40     admin.  married     basic.6y       no      no   no  telephone   \n",
       "4   56   services  married  high.school       no      no  yes  telephone   \n",
       "\n",
       "  month day_of_week ...  campaign  pdays  previous     poutcome emp.var.rate  \\\n",
       "0   may         mon ...         1    999         0  nonexistent          1.1   \n",
       "1   may         mon ...         1    999         0  nonexistent          1.1   \n",
       "2   may         mon ...         1    999         0  nonexistent          1.1   \n",
       "3   may         mon ...         1    999         0  nonexistent          1.1   \n",
       "4   may         mon ...         1    999         0  nonexistent          1.1   \n",
       "\n",
       "   cons.price.idx  cons.conf.idx  euribor3m  nr.employed   y  \n",
       "0          93.994          -36.4      4.857       5191.0  no  \n",
       "1          93.994          -36.4      4.857       5191.0  no  \n",
       "2          93.994          -36.4      4.857       5191.0  no  \n",
       "3          93.994          -36.4      4.857       5191.0  no  \n",
       "4          93.994          -36.4      4.857       5191.0  no  \n",
       "\n",
       "[5 rows x 21 columns]"
      ]
     },
     "execution_count": 4,
     "metadata": {},
     "output_type": "execute_result"
    }
   ],
   "source": [
    "print(\"Sample data: \")\n",
    "bank.head()"
   ]
  },
  {
   "cell_type": "markdown",
   "metadata": {},
   "source": [
    "# Data Preoprocessing\n",
    "## Reponse variables : y\n",
    "Firstly, we check the class in y."
   ]
  },
  {
   "cell_type": "code",
   "execution_count": 5,
   "metadata": {},
   "outputs": [
    {
     "data": {
      "text/plain": [
       "y\n",
       "no     36548\n",
       "yes     4640\n",
       "dtype: int64"
      ]
     },
     "execution_count": 5,
     "metadata": {},
     "output_type": "execute_result"
    }
   ],
   "source": [
    "bank.groupby(\"y\").size()"
   ]
  },
  {
   "cell_type": "code",
   "execution_count": 6,
   "metadata": {},
   "outputs": [
    {
     "data": {
      "image/png": "[encoded data removed]",
      "text/plain": [
       "<matplotlib.figure.Figure at 0x1a1cf83240>"
      ]
     },
     "metadata": {},
     "output_type": "display_data"
    }
   ],
   "source": [
    "plt.figure(1, figsize=(6, 6))\n",
    "x = [classes for classes in bank.groupby('y').count().index]\n",
    "y = [count for count in bank.groupby('y').count()['age'].values]\n",
    "sns.barplot(x, y)\n",
    "plt.title('Count of y')\n",
    "plt.show()"
   ]
  },
  {
   "cell_type": "markdown",
   "metadata": {},
   "source": [
    "The response variable y is severly imbalanced. As this will affect the accuracy of the model built by the algorithm, the minority class (yes) will be upsized to match the majority class (no)."
   ]
  },
  {
   "cell_type": "code",
   "execution_count": 7,
   "metadata": {},
   "outputs": [
    {
     "name": "stdout",
     "output_type": "stream",
     "text": [
      "The processed dataset has response as follow: \n",
      "no     36548\n",
      "yes    36548\n",
      "Name: y, dtype: int64\n"
     ]
    }
   ],
   "source": [
    "from sklearn.utils import resample\n",
    "# Separate majority and minority classes\n",
    "majority = bank[bank.y=='no']\n",
    "minority = bank[bank.y=='yes']\n",
    " \n",
    "# Downsample majority class\n",
    "resample = resample(minority, \n",
    "                    replace=True,    # sample without replacement\n",
    "                    n_samples=36548,     # to match minority class\n",
    "                    random_state=123) # reproducible results\n",
    " \n",
    "# Combine minority class with downsampled majority class\n",
    "bank_n = pd.concat([resample, majority])\n",
    " \n",
    "# Display new class counts\n",
    "print(\"The processed dataset has response as follow: \")\n",
    "print(bank_n.y.value_counts())"
   ]
  },
  {
   "cell_type": "markdown",
   "metadata": {},
   "source": [
    "## Categorical Variables"
   ]
  },
  {
   "cell_type": "code",
   "execution_count": 8,
   "metadata": {},
   "outputs": [
    {
     "data": {
      "image/png": "[encoded data removed]",
      "text/plain": [
       "<matplotlib.figure.Figure at 0x1a1d0ef748>"
      ]
     },
     "metadata": {},
     "output_type": "display_data"
    },
    {
     "data": {
      "image/png": "[encoded data removed]",
      "text/plain": [
       "<matplotlib.figure.Figure at 0x1a1d426240>"
      ]
     },
     "metadata": {},
     "output_type": "display_data"
    },
    {
     "data": {
      "image/png": "[encoded data removed]",
      "text/plain": [
       "<matplotlib.figure.Figure at 0x1a24899780>"
      ]
     },
     "metadata": {},
     "output_type": "display_data"
    },
    {
     "data": {
      "image/png": "[encoded data removed]",
      "text/plain": [
       "<matplotlib.figure.Figure at 0x11a53f6a0>"
      ]
     },
     "metadata": {},
     "output_type": "display_data"
    },
    {
     "data": {
      "image/png": "[encoded data removed]",
      "text/plain": [
       "<matplotlib.figure.Figure at 0x11a54b048>"
      ]
     },
     "metadata": {},
     "output_type": "display_data"
    },
    {
     "data": {
      "image/png": "[encoded data removed]",
      "text/plain": [
       "<matplotlib.figure.Figure at 0x10df70860>"
      ]
     },
     "metadata": {},
     "output_type": "display_data"
    },
    {
     "data": {
      "image/png": "[encoded data removed]",
      "text/plain": [
       "<matplotlib.figure.Figure at 0x1a24ac4f60>"
      ]
     },
     "metadata": {},
     "output_type": "display_data"
    },
    {
     "data": {
      "image/png": "[encoded data removed]",
      "text/plain": [
       "<matplotlib.figure.Figure at 0x1a24e977f0>"
      ]
     },
     "metadata": {},
     "output_type": "display_data"
    },
    {
     "data": {
      "image/png": "[encoded data removed]",
      "text/plain": [
       "<matplotlib.figure.Figure at 0x1a1cfa76d8>"
      ]
     },
     "metadata": {},
     "output_type": "display_data"
    },
    {
     "data": {
      "image/png": "[encoded data removed]",
      "text/plain": [
       "<matplotlib.figure.Figure at 0x1a24eb3a20>"
      ]
     },
     "metadata": {},
     "output_type": "display_data"
    }
   ],
   "source": [
    "cat = ['job', 'marital', 'education', 'default', 'housing', 'loan', 'contact', 'month', 'day_of_week',  'poutcome']\n",
    "\n",
    "for i in range(0,len(cat)):\n",
    "    plt.figure(1, figsize=(15, 6))\n",
    "    x = [classes for classes in bank.groupby(cat[i]).count()['y'].index]\n",
    "    y = [count for count in bank.groupby(cat[i]).count()['y'].values]\n",
    "    sns.barplot(x, y)\n",
    "    plt.title('Distribution of %s'%cat[i])\n",
    "    plt.show()"
   ]
  },
  {
   "cell_type": "markdown",
   "metadata": {},
   "source": [
    "Above is list of the predictors and number of observations among their classes. \n",
    "\n",
    "As shown, most clients do not know if they have credit in default and only very few know they has credit as default. This variable may not provide if having credit in default influenced the result class in our model. Hence, $\\textbf{default}$ will be drop.\n",
    "\n",
    "To simplify some of our variables, we will also group some of the low frequency classes:\n",
    "\n",
    "- $\\textbf{marital}$ : \"unknown\" is grouped with \"single\"\n",
    "- $\\textbf{education}$ : \"illiterate\" is grouped with \"basic.4y\" to a new class \"<basic.4y\"\n",
    "- $\\textbf{housing}$ : \"unknown\" is grouped with \"no\"\n",
    "- $\\textbf{loan}$ : \"unknown\" is grouped with \"no\"\n",
    "\n"
   ]
  },
  {
   "cell_type": "code",
   "execution_count": 9,
   "metadata": {
    "collapsed": true
   },
   "outputs": [],
   "source": [
    "#Data manipulation\n",
    "#default\n",
    "bank_n = bank_n.drop('default',axis=1)\n",
    "\n",
    "#marital\n",
    "bank_n.marital[bank_n.marital =='unknown']['marital'] = 'single'\n",
    "\n",
    "#education\n",
    "bank_n.education[bank_n.education == 'illiterate']['education'] = '<basic.4y'\n",
    "bank_n.education[bank_n.education == 'basic.4y']['education'] = '<basic.4y'\n",
    "\n",
    "#housing\n",
    "bank_n.housing[bank_n.housing =='unknown']['housing'] = 'no'\n",
    "\n",
    "#loan\n",
    "bank_n.loan[bank_n.loan =='unknown']['loan'] = 'no'\n"
   ]
  },
  {
   "cell_type": "markdown",
   "metadata": {},
   "source": [
    "According to $\\textbf{pdays}$, over 90% customers has not been contacted before this campaign. Instead of considering the days different from previous contact, we are more insterested in whether the customer has been contacted or not. Hence, new categorical variable  $\\textbf{precon}$. is created to indicate whether the client has been contacted (no/yes) within a year(365 days) based on $\\textbf{pdays}$."
   ]
  },
  {
   "cell_type": "code",
   "execution_count": 10,
   "metadata": {
    "collapsed": true
   },
   "outputs": [],
   "source": [
    "#convert pdays to new variable precon\n",
    "bank_n.loc[bank_n['pdays'] ==999 , 'precon'] = 'no'\n",
    "bank_n.loc[bank_n['pdays'] !=999 , 'precon'] = 'yes'\n",
    "bank_n = bank_n.drop('pdays',axis=1)"
   ]
  },
  {
   "cell_type": "markdown",
   "metadata": {},
   "source": [
    "# Continuous Variables\n",
    "\n",
    "In this section, we explored the distribution of the continuous varaibles. Below is the statistical summary of all the continuous prectictors."
   ]
  },
  {
   "cell_type": "code",
   "execution_count": 11,
   "metadata": {},
   "outputs": [
    {
     "data": {
      "text/html": [
       "<div>\n",
       "<style>\n",
       "    .dataframe thead tr:only-child th {\n",
       "        text-align: right;\n",
       "    }\n",
       "\n",
       "    .dataframe thead th {\n",
       "        text-align: left;\n",
       "    }\n",
       "\n",
       "    .dataframe tbody tr th {\n",
       "        vertical-align: top;\n",
       "    }\n",
       "</style>\n",
       "<table border=\"1\" class=\"dataframe\">\n",
       "  <thead>\n",
       "    <tr style=\"text-align: right;\">\n",
       "      <th></th>\n",
       "      <th>age</th>\n",
       "      <th>duration</th>\n",
       "      <th>campaign</th>\n",
       "      <th>previous</th>\n",
       "      <th>emp.var.rate</th>\n",
       "      <th>cons.price.idx</th>\n",
       "      <th>cons.conf.idx</th>\n",
       "      <th>euribor3m</th>\n",
       "      <th>nr.employed</th>\n",
       "    </tr>\n",
       "  </thead>\n",
       "  <tbody>\n",
       "    <tr>\n",
       "      <th>count</th>\n",
       "      <td>73096.000000</td>\n",
       "      <td>73096.000000</td>\n",
       "      <td>73096.000000</td>\n",
       "      <td>73096.000000</td>\n",
       "      <td>73096.000000</td>\n",
       "      <td>73096.000000</td>\n",
       "      <td>73096.000000</td>\n",
       "      <td>73096.000000</td>\n",
       "      <td>73096.000000</td>\n",
       "    </tr>\n",
       "    <tr>\n",
       "      <th>mean</th>\n",
       "      <td>40.360690</td>\n",
       "      <td>387.648257</td>\n",
       "      <td>2.343001</td>\n",
       "      <td>0.312644</td>\n",
       "      <td>-0.491941</td>\n",
       "      <td>93.478330</td>\n",
       "      <td>-40.216186</td>\n",
       "      <td>2.967535</td>\n",
       "      <td>5135.768637</td>\n",
       "    </tr>\n",
       "    <tr>\n",
       "      <th>std</th>\n",
       "      <td>11.975303</td>\n",
       "      <td>361.616524</td>\n",
       "      <td>2.368039</td>\n",
       "      <td>0.697941</td>\n",
       "      <td>1.721887</td>\n",
       "      <td>0.633032</td>\n",
       "      <td>5.348951</td>\n",
       "      <td>1.889335</td>\n",
       "      <td>86.819671</td>\n",
       "    </tr>\n",
       "    <tr>\n",
       "      <th>min</th>\n",
       "      <td>17.000000</td>\n",
       "      <td>0.000000</td>\n",
       "      <td>1.000000</td>\n",
       "      <td>0.000000</td>\n",
       "      <td>-3.400000</td>\n",
       "      <td>92.201000</td>\n",
       "      <td>-50.800000</td>\n",
       "      <td>0.634000</td>\n",
       "      <td>4963.600000</td>\n",
       "    </tr>\n",
       "    <tr>\n",
       "      <th>25%</th>\n",
       "      <td>31.000000</td>\n",
       "      <td>144.000000</td>\n",
       "      <td>1.000000</td>\n",
       "      <td>0.000000</td>\n",
       "      <td>-1.800000</td>\n",
       "      <td>92.893000</td>\n",
       "      <td>-42.700000</td>\n",
       "      <td>1.244000</td>\n",
       "      <td>5076.200000</td>\n",
       "    </tr>\n",
       "    <tr>\n",
       "      <th>50%</th>\n",
       "      <td>38.000000</td>\n",
       "      <td>266.000000</td>\n",
       "      <td>2.000000</td>\n",
       "      <td>0.000000</td>\n",
       "      <td>-0.100000</td>\n",
       "      <td>93.444000</td>\n",
       "      <td>-41.800000</td>\n",
       "      <td>4.021000</td>\n",
       "      <td>5191.000000</td>\n",
       "    </tr>\n",
       "    <tr>\n",
       "      <th>75%</th>\n",
       "      <td>48.000000</td>\n",
       "      <td>526.000000</td>\n",
       "      <td>3.000000</td>\n",
       "      <td>0.000000</td>\n",
       "      <td>1.400000</td>\n",
       "      <td>93.994000</td>\n",
       "      <td>-36.400000</td>\n",
       "      <td>4.959000</td>\n",
       "      <td>5228.100000</td>\n",
       "    </tr>\n",
       "    <tr>\n",
       "      <th>max</th>\n",
       "      <td>98.000000</td>\n",
       "      <td>4918.000000</td>\n",
       "      <td>56.000000</td>\n",
       "      <td>7.000000</td>\n",
       "      <td>1.400000</td>\n",
       "      <td>94.767000</td>\n",
       "      <td>-26.900000</td>\n",
       "      <td>5.045000</td>\n",
       "      <td>5228.100000</td>\n",
       "    </tr>\n",
       "  </tbody>\n",
       "</table>\n",
       "</div>"
      ],
      "text/plain": [
       "                age      duration      campaign      previous  emp.var.rate  \\\n",
       "count  73096.000000  73096.000000  73096.000000  73096.000000  73096.000000   \n",
       "mean      40.360690    387.648257      2.343001      0.312644     -0.491941   \n",
       "std       11.975303    361.616524      2.368039      0.697941      1.721887   \n",
       "min       17.000000      0.000000      1.000000      0.000000     -3.400000   \n",
       "25%       31.000000    144.000000      1.000000      0.000000     -1.800000   \n",
       "50%       38.000000    266.000000      2.000000      0.000000     -0.100000   \n",
       "75%       48.000000    526.000000      3.000000      0.000000      1.400000   \n",
       "max       98.000000   4918.000000     56.000000      7.000000      1.400000   \n",
       "\n",
       "       cons.price.idx  cons.conf.idx     euribor3m   nr.employed  \n",
       "count    73096.000000   73096.000000  73096.000000  73096.000000  \n",
       "mean        93.478330     -40.216186      2.967535   5135.768637  \n",
       "std          0.633032       5.348951      1.889335     86.819671  \n",
       "min         92.201000     -50.800000      0.634000   4963.600000  \n",
       "25%         92.893000     -42.700000      1.244000   5076.200000  \n",
       "50%         93.444000     -41.800000      4.021000   5191.000000  \n",
       "75%         93.994000     -36.400000      4.959000   5228.100000  \n",
       "max         94.767000     -26.900000      5.045000   5228.100000  "
      ]
     },
     "execution_count": 11,
     "metadata": {},
     "output_type": "execute_result"
    }
   ],
   "source": [
    "cont_var = ['age', 'emp.var.rate', 'cons.price.idx', 'cons.conf.idx', 'euribor3m','nr.employed'] \n",
    "bank_n.describe()"
   ]
  },
  {
   "cell_type": "code",
   "execution_count": 12,
   "metadata": {},
   "outputs": [
    {
     "data": {
      "image/png": "[encoded data removed]",
      "text/plain": [
       "<matplotlib.figure.Figure at 0x1a1d426ef0>"
      ]
     },
     "metadata": {},
     "output_type": "display_data"
    }
   ],
   "source": [
    "plt.figure(1, figsize=(15, 15))\n",
    "for i in range(0,len(cont_var)):\n",
    "    plt.subplot(331+i)\n",
    "    sns.boxplot(bank_n['y'],bank_n[cont_var[i]])\n",
    "    plt.title('Distribution of %s'%cont_var[i])\n",
    "plt.show()\n"
   ]
  },
  {
   "cell_type": "markdown",
   "metadata": {},
   "source": [
    "From the box plots, only $\\textbf{emp.var.rate}$, $\\textbf{euribor3m}$ and $\\textbf{nr.employ}$ shows different median in the two target class. However, the variation of these variables is huge, this may indicate these variables are not signifiacant for classifying the target."
   ]
  },
  {
   "cell_type": "markdown",
   "metadata": {},
   "source": [
    "# Class Labelling\n",
    "\n",
    "To create an input for the machine learning algorithm, all the variables is encoeded into categorical variables and sample of the data is show below."
   ]
  },
  {
   "cell_type": "code",
   "execution_count": 13,
   "metadata": {},
   "outputs": [
    {
     "data": {
      "text/html": [
       "<div>\n",
       "<style>\n",
       "    .dataframe thead tr:only-child th {\n",
       "        text-align: right;\n",
       "    }\n",
       "\n",
       "    .dataframe thead th {\n",
       "        text-align: left;\n",
       "    }\n",
       "\n",
       "    .dataframe tbody tr th {\n",
       "        vertical-align: top;\n",
       "    }\n",
       "</style>\n",
       "<table border=\"1\" class=\"dataframe\">\n",
       "  <thead>\n",
       "    <tr style=\"text-align: right;\">\n",
       "      <th></th>\n",
       "      <th>age</th>\n",
       "      <th>job</th>\n",
       "      <th>marital</th>\n",
       "      <th>education</th>\n",
       "      <th>housing</th>\n",
       "      <th>loan</th>\n",
       "      <th>contact</th>\n",
       "      <th>month</th>\n",
       "      <th>day_of_week</th>\n",
       "      <th>duration</th>\n",
       "      <th>campaign</th>\n",
       "      <th>previous</th>\n",
       "      <th>poutcome</th>\n",
       "      <th>emp.var.rate</th>\n",
       "      <th>cons.price.idx</th>\n",
       "      <th>cons.conf.idx</th>\n",
       "      <th>euribor3m</th>\n",
       "      <th>nr.employed</th>\n",
       "      <th>y</th>\n",
       "      <th>precon</th>\n",
       "    </tr>\n",
       "  </thead>\n",
       "  <tbody>\n",
       "    <tr>\n",
       "      <th>39152</th>\n",
       "      <td>16</td>\n",
       "      <td>0</td>\n",
       "      <td>1</td>\n",
       "      <td>6</td>\n",
       "      <td>2</td>\n",
       "      <td>0</td>\n",
       "      <td>0</td>\n",
       "      <td>5</td>\n",
       "      <td>4</td>\n",
       "      <td>235</td>\n",
       "      <td>2</td>\n",
       "      <td>1</td>\n",
       "      <td>2</td>\n",
       "      <td>3</td>\n",
       "      <td>12</td>\n",
       "      <td>18</td>\n",
       "      <td>18</td>\n",
       "      <td>2</td>\n",
       "      <td>1</td>\n",
       "      <td>1</td>\n",
       "    </tr>\n",
       "    <tr>\n",
       "      <th>38893</th>\n",
       "      <td>31</td>\n",
       "      <td>4</td>\n",
       "      <td>1</td>\n",
       "      <td>6</td>\n",
       "      <td>2</td>\n",
       "      <td>2</td>\n",
       "      <td>0</td>\n",
       "      <td>7</td>\n",
       "      <td>3</td>\n",
       "      <td>747</td>\n",
       "      <td>1</td>\n",
       "      <td>0</td>\n",
       "      <td>1</td>\n",
       "      <td>0</td>\n",
       "      <td>4</td>\n",
       "      <td>23</td>\n",
       "      <td>47</td>\n",
       "      <td>3</td>\n",
       "      <td>1</td>\n",
       "      <td>0</td>\n",
       "    </tr>\n",
       "    <tr>\n",
       "      <th>27708</th>\n",
       "      <td>11</td>\n",
       "      <td>9</td>\n",
       "      <td>2</td>\n",
       "      <td>6</td>\n",
       "      <td>2</td>\n",
       "      <td>0</td>\n",
       "      <td>0</td>\n",
       "      <td>5</td>\n",
       "      <td>1</td>\n",
       "      <td>120</td>\n",
       "      <td>2</td>\n",
       "      <td>0</td>\n",
       "      <td>1</td>\n",
       "      <td>3</td>\n",
       "      <td>7</td>\n",
       "      <td>1</td>\n",
       "      <td>254</td>\n",
       "      <td>6</td>\n",
       "      <td>1</td>\n",
       "      <td>0</td>\n",
       "    </tr>\n",
       "    <tr>\n",
       "      <th>40048</th>\n",
       "      <td>29</td>\n",
       "      <td>0</td>\n",
       "      <td>1</td>\n",
       "      <td>3</td>\n",
       "      <td>2</td>\n",
       "      <td>2</td>\n",
       "      <td>0</td>\n",
       "      <td>3</td>\n",
       "      <td>3</td>\n",
       "      <td>396</td>\n",
       "      <td>0</td>\n",
       "      <td>2</td>\n",
       "      <td>2</td>\n",
       "      <td>4</td>\n",
       "      <td>22</td>\n",
       "      <td>11</td>\n",
       "      <td>93</td>\n",
       "      <td>1</td>\n",
       "      <td>1</td>\n",
       "      <td>1</td>\n",
       "    </tr>\n",
       "    <tr>\n",
       "      <th>28676</th>\n",
       "      <td>15</td>\n",
       "      <td>1</td>\n",
       "      <td>1</td>\n",
       "      <td>2</td>\n",
       "      <td>0</td>\n",
       "      <td>0</td>\n",
       "      <td>0</td>\n",
       "      <td>0</td>\n",
       "      <td>2</td>\n",
       "      <td>583</td>\n",
       "      <td>0</td>\n",
       "      <td>1</td>\n",
       "      <td>2</td>\n",
       "      <td>3</td>\n",
       "      <td>10</td>\n",
       "      <td>3</td>\n",
       "      <td>223</td>\n",
       "      <td>6</td>\n",
       "      <td>1</td>\n",
       "      <td>1</td>\n",
       "    </tr>\n",
       "  </tbody>\n",
       "</table>\n",
       "</div>"
      ],
      "text/plain": [
       "       age  job  marital  education  housing  loan  contact  month  \\\n",
       "39152   16    0        1          6        2     0        0      5   \n",
       "38893   31    4        1          6        2     2        0      7   \n",
       "27708   11    9        2          6        2     0        0      5   \n",
       "40048   29    0        1          3        2     2        0      3   \n",
       "28676   15    1        1          2        0     0        0      0   \n",
       "\n",
       "       day_of_week  duration  campaign  previous  poutcome  emp.var.rate  \\\n",
       "39152            4       235         2         1         2             3   \n",
       "38893            3       747         1         0         1             0   \n",
       "27708            1       120         2         0         1             3   \n",
       "40048            3       396         0         2         2             4   \n",
       "28676            2       583         0         1         2             3   \n",
       "\n",
       "       cons.price.idx  cons.conf.idx  euribor3m  nr.employed  y  precon  \n",
       "39152              12             18         18            2  1       1  \n",
       "38893               4             23         47            3  1       0  \n",
       "27708               7              1        254            6  1       0  \n",
       "40048              22             11         93            1  1       1  \n",
       "28676              10              3        223            6  1       1  "
      ]
     },
     "execution_count": 13,
     "metadata": {},
     "output_type": "execute_result"
    }
   ],
   "source": [
    "from sklearn.preprocessing import LabelEncoder\n",
    "le = LabelEncoder()\n",
    "bank_n = bank_n.apply(le.fit_transform)\n",
    "bank_n.head()"
   ]
  },
  {
   "cell_type": "markdown",
   "metadata": {},
   "source": [
    "# Model Building"
   ]
  },
  {
   "cell_type": "code",
   "execution_count": 14,
   "metadata": {
    "collapsed": true
   },
   "outputs": [],
   "source": [
    "#split the data\n",
    "from sklearn.model_selection import train_test_split\n",
    "from Profolio3_ext import model_evaluation_score, model_evaluation_plot, random_seed_check, evaluate_score_plot#a external function used to produce evaluation result\n",
    "\n",
    "#data = bank_n[predictors].drop(cont_var,axis=1) \n",
    "data = bank_n[bank_n.columns.drop('y')]\n",
    "target = bank_n['y']\n",
    "random_seed = [10, 20, 30, 40, 50, 60, 70, 80, 90,100]\n",
    "train_size = 0.7\n",
    "test_size =0.3"
   ]
  },
  {
   "cell_type": "markdown",
   "metadata": {},
   "source": [
    "## Gaussian Naive Bayes"
   ]
  },
  {
   "cell_type": "code",
   "execution_count": 15,
   "metadata": {},
   "outputs": [
    {
     "data": {
      "text/html": [
       "<div>\n",
       "<style>\n",
       "    .dataframe thead tr:only-child th {\n",
       "        text-align: right;\n",
       "    }\n",
       "\n",
       "    .dataframe thead th {\n",
       "        text-align: left;\n",
       "    }\n",
       "\n",
       "    .dataframe tbody tr th {\n",
       "        vertical-align: top;\n",
       "    }\n",
       "</style>\n",
       "<table border=\"1\" class=\"dataframe\">\n",
       "  <thead>\n",
       "    <tr style=\"text-align: right;\">\n",
       "      <th></th>\n",
       "      <th>test_acc</th>\n",
       "      <th>test_auc</th>\n",
       "      <th>train_acc</th>\n",
       "      <th>train_auc</th>\n",
       "    </tr>\n",
       "  </thead>\n",
       "  <tbody>\n",
       "    <tr>\n",
       "      <th>10</th>\n",
       "      <td>0.761275</td>\n",
       "      <td>0.867612</td>\n",
       "      <td>0.759884</td>\n",
       "      <td>0.867284</td>\n",
       "    </tr>\n",
       "    <tr>\n",
       "      <th>20</th>\n",
       "      <td>0.761001</td>\n",
       "      <td>0.869408</td>\n",
       "      <td>0.760627</td>\n",
       "      <td>0.866124</td>\n",
       "    </tr>\n",
       "    <tr>\n",
       "      <th>30</th>\n",
       "      <td>0.759314</td>\n",
       "      <td>0.867408</td>\n",
       "      <td>0.761585</td>\n",
       "      <td>0.866743</td>\n",
       "    </tr>\n",
       "    <tr>\n",
       "      <th>40</th>\n",
       "      <td>0.758585</td>\n",
       "      <td>0.860188</td>\n",
       "      <td>0.761761</td>\n",
       "      <td>0.868419</td>\n",
       "    </tr>\n",
       "    <tr>\n",
       "      <th>50</th>\n",
       "      <td>0.758083</td>\n",
       "      <td>0.865379</td>\n",
       "      <td>0.761096</td>\n",
       "      <td>0.867244</td>\n",
       "    </tr>\n",
       "    <tr>\n",
       "      <th>60</th>\n",
       "      <td>0.759770</td>\n",
       "      <td>0.867978</td>\n",
       "      <td>0.759396</td>\n",
       "      <td>0.865843</td>\n",
       "    </tr>\n",
       "    <tr>\n",
       "      <th>70</th>\n",
       "      <td>0.762278</td>\n",
       "      <td>0.868384</td>\n",
       "      <td>0.759962</td>\n",
       "      <td>0.866459</td>\n",
       "    </tr>\n",
       "    <tr>\n",
       "      <th>80</th>\n",
       "      <td>0.759725</td>\n",
       "      <td>0.865205</td>\n",
       "      <td>0.763129</td>\n",
       "      <td>0.868240</td>\n",
       "    </tr>\n",
       "    <tr>\n",
       "      <th>90</th>\n",
       "      <td>0.762050</td>\n",
       "      <td>0.868510</td>\n",
       "      <td>0.760099</td>\n",
       "      <td>0.867062</td>\n",
       "    </tr>\n",
       "    <tr>\n",
       "      <th>100</th>\n",
       "      <td>0.762096</td>\n",
       "      <td>0.867201</td>\n",
       "      <td>0.759376</td>\n",
       "      <td>0.866108</td>\n",
       "    </tr>\n",
       "  </tbody>\n",
       "</table>\n",
       "</div>"
      ],
      "text/plain": [
       "     test_acc  test_auc  train_acc  train_auc\n",
       "10   0.761275  0.867612   0.759884   0.867284\n",
       "20   0.761001  0.869408   0.760627   0.866124\n",
       "30   0.759314  0.867408   0.761585   0.866743\n",
       "40   0.758585  0.860188   0.761761   0.868419\n",
       "50   0.758083  0.865379   0.761096   0.867244\n",
       "60   0.759770  0.867978   0.759396   0.865843\n",
       "70   0.762278  0.868384   0.759962   0.866459\n",
       "80   0.759725  0.865205   0.763129   0.868240\n",
       "90   0.762050  0.868510   0.760099   0.867062\n",
       "100  0.762096  0.867201   0.759376   0.866108"
      ]
     },
     "execution_count": 15,
     "metadata": {},
     "output_type": "execute_result"
    }
   ],
   "source": [
    "from sklearn.naive_bayes import GaussianNB\n",
    "clf = GaussianNB()\n",
    "\n",
    "#generate evaluation of different random seed\n",
    "result = random_seed_check(clf, data, target, random_seed,train_size, test_size)\n",
    "result"
   ]
  },
  {
   "cell_type": "code",
   "execution_count": 16,
   "metadata": {},
   "outputs": [
    {
     "data": {
      "text/html": [
       "<div>\n",
       "<style>\n",
       "    .dataframe thead tr:only-child th {\n",
       "        text-align: right;\n",
       "    }\n",
       "\n",
       "    .dataframe thead th {\n",
       "        text-align: left;\n",
       "    }\n",
       "\n",
       "    .dataframe tbody tr th {\n",
       "        vertical-align: top;\n",
       "    }\n",
       "</style>\n",
       "<table border=\"1\" class=\"dataframe\">\n",
       "  <thead>\n",
       "    <tr style=\"text-align: right;\">\n",
       "      <th></th>\n",
       "      <th>test_acc</th>\n",
       "      <th>test_auc</th>\n",
       "      <th>train_acc</th>\n",
       "      <th>train_auc</th>\n",
       "    </tr>\n",
       "  </thead>\n",
       "  <tbody>\n",
       "    <tr>\n",
       "      <th>count</th>\n",
       "      <td>10.000000</td>\n",
       "      <td>10.000000</td>\n",
       "      <td>10.000000</td>\n",
       "      <td>10.000000</td>\n",
       "    </tr>\n",
       "    <tr>\n",
       "      <th>mean</th>\n",
       "      <td>0.760418</td>\n",
       "      <td>0.866727</td>\n",
       "      <td>0.760691</td>\n",
       "      <td>0.866953</td>\n",
       "    </tr>\n",
       "    <tr>\n",
       "      <th>std</th>\n",
       "      <td>0.001526</td>\n",
       "      <td>0.002647</td>\n",
       "      <td>0.001201</td>\n",
       "      <td>0.000878</td>\n",
       "    </tr>\n",
       "    <tr>\n",
       "      <th>min</th>\n",
       "      <td>0.758083</td>\n",
       "      <td>0.860188</td>\n",
       "      <td>0.759376</td>\n",
       "      <td>0.865843</td>\n",
       "    </tr>\n",
       "    <tr>\n",
       "      <th>25%</th>\n",
       "      <td>0.759417</td>\n",
       "      <td>0.865834</td>\n",
       "      <td>0.759904</td>\n",
       "      <td>0.866207</td>\n",
       "    </tr>\n",
       "    <tr>\n",
       "      <th>50%</th>\n",
       "      <td>0.760386</td>\n",
       "      <td>0.867510</td>\n",
       "      <td>0.760363</td>\n",
       "      <td>0.866903</td>\n",
       "    </tr>\n",
       "    <tr>\n",
       "      <th>75%</th>\n",
       "      <td>0.761856</td>\n",
       "      <td>0.868283</td>\n",
       "      <td>0.761462</td>\n",
       "      <td>0.867274</td>\n",
       "    </tr>\n",
       "    <tr>\n",
       "      <th>max</th>\n",
       "      <td>0.762278</td>\n",
       "      <td>0.869408</td>\n",
       "      <td>0.763129</td>\n",
       "      <td>0.868419</td>\n",
       "    </tr>\n",
       "  </tbody>\n",
       "</table>\n",
       "</div>"
      ],
      "text/plain": [
       "        test_acc   test_auc  train_acc  train_auc\n",
       "count  10.000000  10.000000  10.000000  10.000000\n",
       "mean    0.760418   0.866727   0.760691   0.866953\n",
       "std     0.001526   0.002647   0.001201   0.000878\n",
       "min     0.758083   0.860188   0.759376   0.865843\n",
       "25%     0.759417   0.865834   0.759904   0.866207\n",
       "50%     0.760386   0.867510   0.760363   0.866903\n",
       "75%     0.761856   0.868283   0.761462   0.867274\n",
       "max     0.762278   0.869408   0.763129   0.868419"
      ]
     },
     "execution_count": 16,
     "metadata": {},
     "output_type": "execute_result"
    }
   ],
   "source": [
    "result.describe()"
   ]
  },
  {
   "cell_type": "code",
   "execution_count": 17,
   "metadata": {},
   "outputs": [
    {
     "data": {
      "image/png": "[encoded data removed]",
      "text/plain": [
       "<matplotlib.figure.Figure at 0x10eb029e8>"
      ]
     },
     "metadata": {},
     "output_type": "display_data"
    }
   ],
   "source": [
    "evaluate_score_plot(random_seed, result)"
   ]
  },
  {
   "cell_type": "markdown",
   "metadata": {},
   "source": [
    "Running the model with 10 different random seeds, the average accuracy rate for training data and test data in Gaussian Naive Bayes Model is around 0.76 and the AUC is around 0.87. As the acccuracy and AUC are both similar in test and training data, the model is stable."
   ]
  },
  {
   "cell_type": "markdown",
   "metadata": {},
   "source": [
    "## Multinomial Naive Bayes"
   ]
  },
  {
   "cell_type": "code",
   "execution_count": 18,
   "metadata": {},
   "outputs": [
    {
     "data": {
      "text/html": [
       "<div>\n",
       "<style>\n",
       "    .dataframe thead tr:only-child th {\n",
       "        text-align: right;\n",
       "    }\n",
       "\n",
       "    .dataframe thead th {\n",
       "        text-align: left;\n",
       "    }\n",
       "\n",
       "    .dataframe tbody tr th {\n",
       "        vertical-align: top;\n",
       "    }\n",
       "</style>\n",
       "<table border=\"1\" class=\"dataframe\">\n",
       "  <thead>\n",
       "    <tr style=\"text-align: right;\">\n",
       "      <th></th>\n",
       "      <th>test_acc</th>\n",
       "      <th>test_auc</th>\n",
       "      <th>train_acc</th>\n",
       "      <th>train_auc</th>\n",
       "    </tr>\n",
       "  </thead>\n",
       "  <tbody>\n",
       "    <tr>\n",
       "      <th>10</th>\n",
       "      <td>0.824023</td>\n",
       "      <td>0.891762</td>\n",
       "      <td>0.825806</td>\n",
       "      <td>0.895546</td>\n",
       "    </tr>\n",
       "    <tr>\n",
       "      <th>20</th>\n",
       "      <td>0.825710</td>\n",
       "      <td>0.895769</td>\n",
       "      <td>0.824789</td>\n",
       "      <td>0.894047</td>\n",
       "    </tr>\n",
       "    <tr>\n",
       "      <th>30</th>\n",
       "      <td>0.824798</td>\n",
       "      <td>0.893862</td>\n",
       "      <td>0.825239</td>\n",
       "      <td>0.894874</td>\n",
       "    </tr>\n",
       "    <tr>\n",
       "      <th>40</th>\n",
       "      <td>0.822792</td>\n",
       "      <td>0.892892</td>\n",
       "      <td>0.826627</td>\n",
       "      <td>0.895200</td>\n",
       "    </tr>\n",
       "    <tr>\n",
       "      <th>50</th>\n",
       "      <td>0.827033</td>\n",
       "      <td>0.895186</td>\n",
       "      <td>0.824242</td>\n",
       "      <td>0.894327</td>\n",
       "    </tr>\n",
       "    <tr>\n",
       "      <th>60</th>\n",
       "      <td>0.827762</td>\n",
       "      <td>0.896919</td>\n",
       "      <td>0.824066</td>\n",
       "      <td>0.893861</td>\n",
       "    </tr>\n",
       "    <tr>\n",
       "      <th>70</th>\n",
       "      <td>0.823157</td>\n",
       "      <td>0.893353</td>\n",
       "      <td>0.826040</td>\n",
       "      <td>0.894967</td>\n",
       "    </tr>\n",
       "    <tr>\n",
       "      <th>80</th>\n",
       "      <td>0.823385</td>\n",
       "      <td>0.891935</td>\n",
       "      <td>0.825747</td>\n",
       "      <td>0.895563</td>\n",
       "    </tr>\n",
       "    <tr>\n",
       "      <th>90</th>\n",
       "      <td>0.822473</td>\n",
       "      <td>0.893835</td>\n",
       "      <td>0.826275</td>\n",
       "      <td>0.894897</td>\n",
       "    </tr>\n",
       "    <tr>\n",
       "      <th>100</th>\n",
       "      <td>0.824889</td>\n",
       "      <td>0.894603</td>\n",
       "      <td>0.825278</td>\n",
       "      <td>0.894579</td>\n",
       "    </tr>\n",
       "  </tbody>\n",
       "</table>\n",
       "</div>"
      ],
      "text/plain": [
       "     test_acc  test_auc  train_acc  train_auc\n",
       "10   0.824023  0.891762   0.825806   0.895546\n",
       "20   0.825710  0.895769   0.824789   0.894047\n",
       "30   0.824798  0.893862   0.825239   0.894874\n",
       "40   0.822792  0.892892   0.826627   0.895200\n",
       "50   0.827033  0.895186   0.824242   0.894327\n",
       "60   0.827762  0.896919   0.824066   0.893861\n",
       "70   0.823157  0.893353   0.826040   0.894967\n",
       "80   0.823385  0.891935   0.825747   0.895563\n",
       "90   0.822473  0.893835   0.826275   0.894897\n",
       "100  0.824889  0.894603   0.825278   0.894579"
      ]
     },
     "execution_count": 18,
     "metadata": {},
     "output_type": "execute_result"
    }
   ],
   "source": [
    "from sklearn.naive_bayes import MultinomialNB\n",
    "mnb = MultinomialNB()\n",
    "\n",
    "#generate evaluation of different random seed\n",
    "result1 = random_seed_check(mnb, data, target, random_seed,train_size, test_size)\n",
    "result1"
   ]
  },
  {
   "cell_type": "code",
   "execution_count": 19,
   "metadata": {},
   "outputs": [
    {
     "data": {
      "text/html": [
       "<div>\n",
       "<style>\n",
       "    .dataframe thead tr:only-child th {\n",
       "        text-align: right;\n",
       "    }\n",
       "\n",
       "    .dataframe thead th {\n",
       "        text-align: left;\n",
       "    }\n",
       "\n",
       "    .dataframe tbody tr th {\n",
       "        vertical-align: top;\n",
       "    }\n",
       "</style>\n",
       "<table border=\"1\" class=\"dataframe\">\n",
       "  <thead>\n",
       "    <tr style=\"text-align: right;\">\n",
       "      <th></th>\n",
       "      <th>test_acc</th>\n",
       "      <th>test_auc</th>\n",
       "      <th>train_acc</th>\n",
       "      <th>train_auc</th>\n",
       "    </tr>\n",
       "  </thead>\n",
       "  <tbody>\n",
       "    <tr>\n",
       "      <th>count</th>\n",
       "      <td>10.000000</td>\n",
       "      <td>10.000000</td>\n",
       "      <td>10.000000</td>\n",
       "      <td>10.000000</td>\n",
       "    </tr>\n",
       "    <tr>\n",
       "      <th>mean</th>\n",
       "      <td>0.824602</td>\n",
       "      <td>0.894011</td>\n",
       "      <td>0.825411</td>\n",
       "      <td>0.894786</td>\n",
       "    </tr>\n",
       "    <tr>\n",
       "      <th>std</th>\n",
       "      <td>0.001794</td>\n",
       "      <td>0.001646</td>\n",
       "      <td>0.000850</td>\n",
       "      <td>0.000583</td>\n",
       "    </tr>\n",
       "    <tr>\n",
       "      <th>min</th>\n",
       "      <td>0.822473</td>\n",
       "      <td>0.891762</td>\n",
       "      <td>0.824066</td>\n",
       "      <td>0.893861</td>\n",
       "    </tr>\n",
       "    <tr>\n",
       "      <th>25%</th>\n",
       "      <td>0.823214</td>\n",
       "      <td>0.893007</td>\n",
       "      <td>0.824902</td>\n",
       "      <td>0.894390</td>\n",
       "    </tr>\n",
       "    <tr>\n",
       "      <th>50%</th>\n",
       "      <td>0.824411</td>\n",
       "      <td>0.893848</td>\n",
       "      <td>0.825513</td>\n",
       "      <td>0.894886</td>\n",
       "    </tr>\n",
       "    <tr>\n",
       "      <th>75%</th>\n",
       "      <td>0.825505</td>\n",
       "      <td>0.895040</td>\n",
       "      <td>0.825982</td>\n",
       "      <td>0.895142</td>\n",
       "    </tr>\n",
       "    <tr>\n",
       "      <th>max</th>\n",
       "      <td>0.827762</td>\n",
       "      <td>0.896919</td>\n",
       "      <td>0.826627</td>\n",
       "      <td>0.895563</td>\n",
       "    </tr>\n",
       "  </tbody>\n",
       "</table>\n",
       "</div>"
      ],
      "text/plain": [
       "        test_acc   test_auc  train_acc  train_auc\n",
       "count  10.000000  10.000000  10.000000  10.000000\n",
       "mean    0.824602   0.894011   0.825411   0.894786\n",
       "std     0.001794   0.001646   0.000850   0.000583\n",
       "min     0.822473   0.891762   0.824066   0.893861\n",
       "25%     0.823214   0.893007   0.824902   0.894390\n",
       "50%     0.824411   0.893848   0.825513   0.894886\n",
       "75%     0.825505   0.895040   0.825982   0.895142\n",
       "max     0.827762   0.896919   0.826627   0.895563"
      ]
     },
     "execution_count": 19,
     "metadata": {},
     "output_type": "execute_result"
    }
   ],
   "source": [
    "result1.describe()"
   ]
  },
  {
   "cell_type": "code",
   "execution_count": 20,
   "metadata": {},
   "outputs": [
    {
     "data": {
      "image/png": "[encoded data removed]",
      "text/plain": [
       "<matplotlib.figure.Figure at 0x1a2439cef0>"
      ]
     },
     "metadata": {},
     "output_type": "display_data"
    }
   ],
   "source": [
    "evaluate_score_plot(random_seed, result, result1)"
   ]
  },
  {
   "cell_type": "markdown",
   "metadata": {},
   "source": [
    "Running the model with 10 different random seeds, the average accuracy rate for training data and test data in Multinomial Naive Bayes Model is around 0.83 and the AUC is around 0.89. As the acccuracy and AUC are both similar in test and training data, the model is stable.\n",
    "\n",
    "From the graph, we can see accuracy and auc (orange line) from Multinomial Naive Bayes model is consistently higher than those from the Gaussian Naive Bayes model. Hence, the Multinomial Naive Bayes model has a better performance in classifying the target."
   ]
  },
  {
   "cell_type": "markdown",
   "metadata": {},
   "source": [
    "# Discretization"
   ]
  },
  {
   "cell_type": "code",
   "execution_count": 21,
   "metadata": {},
   "outputs": [
    {
     "data": {
      "text/html": [
       "<div>\n",
       "<style>\n",
       "    .dataframe thead tr:only-child th {\n",
       "        text-align: right;\n",
       "    }\n",
       "\n",
       "    .dataframe thead th {\n",
       "        text-align: left;\n",
       "    }\n",
       "\n",
       "    .dataframe tbody tr th {\n",
       "        vertical-align: top;\n",
       "    }\n",
       "</style>\n",
       "<table border=\"1\" class=\"dataframe\">\n",
       "  <thead>\n",
       "    <tr style=\"text-align: right;\">\n",
       "      <th></th>\n",
       "      <th>test_acc</th>\n",
       "      <th>test_auc</th>\n",
       "      <th>train_acc</th>\n",
       "      <th>train_auc</th>\n",
       "    </tr>\n",
       "  </thead>\n",
       "  <tbody>\n",
       "    <tr>\n",
       "      <th>10</th>\n",
       "      <td>0.750331</td>\n",
       "      <td>0.863437</td>\n",
       "      <td>0.750992</td>\n",
       "      <td>0.863162</td>\n",
       "    </tr>\n",
       "    <tr>\n",
       "      <th>20</th>\n",
       "      <td>0.749373</td>\n",
       "      <td>0.865774</td>\n",
       "      <td>0.747396</td>\n",
       "      <td>0.861757</td>\n",
       "    </tr>\n",
       "    <tr>\n",
       "      <th>30</th>\n",
       "      <td>0.749555</td>\n",
       "      <td>0.863038</td>\n",
       "      <td>0.749272</td>\n",
       "      <td>0.862841</td>\n",
       "    </tr>\n",
       "    <tr>\n",
       "      <th>40</th>\n",
       "      <td>0.739614</td>\n",
       "      <td>0.856797</td>\n",
       "      <td>0.750151</td>\n",
       "      <td>0.865132</td>\n",
       "    </tr>\n",
       "    <tr>\n",
       "      <th>50</th>\n",
       "      <td>0.748598</td>\n",
       "      <td>0.861343</td>\n",
       "      <td>0.747239</td>\n",
       "      <td>0.863498</td>\n",
       "    </tr>\n",
       "    <tr>\n",
       "      <th>60</th>\n",
       "      <td>0.751015</td>\n",
       "      <td>0.862389</td>\n",
       "      <td>0.750972</td>\n",
       "      <td>0.862958</td>\n",
       "    </tr>\n",
       "    <tr>\n",
       "      <th>70</th>\n",
       "      <td>0.751288</td>\n",
       "      <td>0.863810</td>\n",
       "      <td>0.748803</td>\n",
       "      <td>0.862478</td>\n",
       "    </tr>\n",
       "    <tr>\n",
       "      <th>80</th>\n",
       "      <td>0.743262</td>\n",
       "      <td>0.862676</td>\n",
       "      <td>0.747826</td>\n",
       "      <td>0.863012</td>\n",
       "    </tr>\n",
       "    <tr>\n",
       "      <th>90</th>\n",
       "      <td>0.755392</td>\n",
       "      <td>0.865926</td>\n",
       "      <td>0.750191</td>\n",
       "      <td>0.862080</td>\n",
       "    </tr>\n",
       "    <tr>\n",
       "      <th>100</th>\n",
       "      <td>0.749236</td>\n",
       "      <td>0.862620</td>\n",
       "      <td>0.748881</td>\n",
       "      <td>0.862724</td>\n",
       "    </tr>\n",
       "  </tbody>\n",
       "</table>\n",
       "</div>"
      ],
      "text/plain": [
       "     test_acc  test_auc  train_acc  train_auc\n",
       "10   0.750331  0.863437   0.750992   0.863162\n",
       "20   0.749373  0.865774   0.747396   0.861757\n",
       "30   0.749555  0.863038   0.749272   0.862841\n",
       "40   0.739614  0.856797   0.750151   0.865132\n",
       "50   0.748598  0.861343   0.747239   0.863498\n",
       "60   0.751015  0.862389   0.750972   0.862958\n",
       "70   0.751288  0.863810   0.748803   0.862478\n",
       "80   0.743262  0.862676   0.747826   0.863012\n",
       "90   0.755392  0.865926   0.750191   0.862080\n",
       "100  0.749236  0.862620   0.748881   0.862724"
      ]
     },
     "execution_count": 21,
     "metadata": {},
     "output_type": "execute_result"
    }
   ],
   "source": [
    "from sklearn.preprocessing import KBinsDiscretizer\n",
    "\n",
    "kbin = KBinsDiscretizer(n_bins=5, encode='onehot', strategy='uniform')\n",
    "data_trans = kbin.fit_transform(data)\n",
    "\n",
    "#generate evaluation of different random seed\n",
    "result2 = random_seed_check(mnb, data_trans, target, random_seed,train_size, test_size)\n",
    "result2"
   ]
  },
  {
   "cell_type": "code",
   "execution_count": 22,
   "metadata": {},
   "outputs": [
    {
     "data": {
      "text/html": [
       "<div>\n",
       "<style>\n",
       "    .dataframe thead tr:only-child th {\n",
       "        text-align: right;\n",
       "    }\n",
       "\n",
       "    .dataframe thead th {\n",
       "        text-align: left;\n",
       "    }\n",
       "\n",
       "    .dataframe tbody tr th {\n",
       "        vertical-align: top;\n",
       "    }\n",
       "</style>\n",
       "<table border=\"1\" class=\"dataframe\">\n",
       "  <thead>\n",
       "    <tr style=\"text-align: right;\">\n",
       "      <th></th>\n",
       "      <th>test_acc</th>\n",
       "      <th>test_auc</th>\n",
       "      <th>train_acc</th>\n",
       "      <th>train_auc</th>\n",
       "    </tr>\n",
       "  </thead>\n",
       "  <tbody>\n",
       "    <tr>\n",
       "      <th>count</th>\n",
       "      <td>10.000000</td>\n",
       "      <td>10.000000</td>\n",
       "      <td>10.000000</td>\n",
       "      <td>10.000000</td>\n",
       "    </tr>\n",
       "    <tr>\n",
       "      <th>mean</th>\n",
       "      <td>0.748766</td>\n",
       "      <td>0.862781</td>\n",
       "      <td>0.749172</td>\n",
       "      <td>0.862964</td>\n",
       "    </tr>\n",
       "    <tr>\n",
       "      <th>std</th>\n",
       "      <td>0.004385</td>\n",
       "      <td>0.002549</td>\n",
       "      <td>0.001394</td>\n",
       "      <td>0.000917</td>\n",
       "    </tr>\n",
       "    <tr>\n",
       "      <th>min</th>\n",
       "      <td>0.739614</td>\n",
       "      <td>0.856797</td>\n",
       "      <td>0.747239</td>\n",
       "      <td>0.861757</td>\n",
       "    </tr>\n",
       "    <tr>\n",
       "      <th>25%</th>\n",
       "      <td>0.748757</td>\n",
       "      <td>0.862447</td>\n",
       "      <td>0.748070</td>\n",
       "      <td>0.862540</td>\n",
       "    </tr>\n",
       "    <tr>\n",
       "      <th>50%</th>\n",
       "      <td>0.749464</td>\n",
       "      <td>0.862857</td>\n",
       "      <td>0.749077</td>\n",
       "      <td>0.862900</td>\n",
       "    </tr>\n",
       "    <tr>\n",
       "      <th>75%</th>\n",
       "      <td>0.750844</td>\n",
       "      <td>0.863717</td>\n",
       "      <td>0.750181</td>\n",
       "      <td>0.863124</td>\n",
       "    </tr>\n",
       "    <tr>\n",
       "      <th>max</th>\n",
       "      <td>0.755392</td>\n",
       "      <td>0.865926</td>\n",
       "      <td>0.750992</td>\n",
       "      <td>0.865132</td>\n",
       "    </tr>\n",
       "  </tbody>\n",
       "</table>\n",
       "</div>"
      ],
      "text/plain": [
       "        test_acc   test_auc  train_acc  train_auc\n",
       "count  10.000000  10.000000  10.000000  10.000000\n",
       "mean    0.748766   0.862781   0.749172   0.862964\n",
       "std     0.004385   0.002549   0.001394   0.000917\n",
       "min     0.739614   0.856797   0.747239   0.861757\n",
       "25%     0.748757   0.862447   0.748070   0.862540\n",
       "50%     0.749464   0.862857   0.749077   0.862900\n",
       "75%     0.750844   0.863717   0.750181   0.863124\n",
       "max     0.755392   0.865926   0.750992   0.865132"
      ]
     },
     "execution_count": 22,
     "metadata": {},
     "output_type": "execute_result"
    }
   ],
   "source": [
    "result2.describe()"
   ]
  },
  {
   "cell_type": "code",
   "execution_count": 23,
   "metadata": {},
   "outputs": [
    {
     "data": {
      "image/png": "[encoded data removed]",
      "text/plain": [
       "<matplotlib.figure.Figure at 0x1a269dd6d8>"
      ]
     },
     "metadata": {},
     "output_type": "display_data"
    }
   ],
   "source": [
    "evaluate_score_plot(random_seed, result1, result2)"
   ]
  },
  {
   "cell_type": "markdown",
   "metadata": {},
   "source": [
    "We have splited the continuous data into 5 bins with uniform witdth. The accuracy for both training and testing data is around 0.75 and Auc is around 0.86. When we compare the performance of the model without discretization, the classification is less accurate. This may becasue information is lost when data,especial continuous variables, is dicretized into groups."
   ]
  },
  {
   "cell_type": "markdown",
   "metadata": {},
   "source": [
    "# Feature Selection"
   ]
  },
  {
   "cell_type": "code",
   "execution_count": 24,
   "metadata": {},
   "outputs": [
    {
     "data": {
      "text/html": [
       "<div>\n",
       "<style>\n",
       "    .dataframe thead tr:only-child th {\n",
       "        text-align: right;\n",
       "    }\n",
       "\n",
       "    .dataframe thead th {\n",
       "        text-align: left;\n",
       "    }\n",
       "\n",
       "    .dataframe tbody tr th {\n",
       "        vertical-align: top;\n",
       "    }\n",
       "</style>\n",
       "<table border=\"1\" class=\"dataframe\">\n",
       "  <thead>\n",
       "    <tr style=\"text-align: right;\">\n",
       "      <th></th>\n",
       "      <th>test_acc</th>\n",
       "      <th>test_auc</th>\n",
       "      <th>train_acc</th>\n",
       "      <th>train_auc</th>\n",
       "    </tr>\n",
       "  </thead>\n",
       "  <tbody>\n",
       "    <tr>\n",
       "      <th>1</th>\n",
       "      <td>0.499384</td>\n",
       "      <td>0.500000</td>\n",
       "      <td>0.500264</td>\n",
       "      <td>0.500000</td>\n",
       "    </tr>\n",
       "    <tr>\n",
       "      <th>2</th>\n",
       "      <td>0.625975</td>\n",
       "      <td>0.684528</td>\n",
       "      <td>0.617253</td>\n",
       "      <td>0.675004</td>\n",
       "    </tr>\n",
       "    <tr>\n",
       "      <th>3</th>\n",
       "      <td>0.625975</td>\n",
       "      <td>0.683339</td>\n",
       "      <td>0.617253</td>\n",
       "      <td>0.673035</td>\n",
       "    </tr>\n",
       "    <tr>\n",
       "      <th>4</th>\n",
       "      <td>0.623786</td>\n",
       "      <td>0.687730</td>\n",
       "      <td>0.616511</td>\n",
       "      <td>0.679805</td>\n",
       "    </tr>\n",
       "    <tr>\n",
       "      <th>5</th>\n",
       "      <td>0.631994</td>\n",
       "      <td>0.693432</td>\n",
       "      <td>0.625833</td>\n",
       "      <td>0.684909</td>\n",
       "    </tr>\n",
       "    <tr>\n",
       "      <th>6</th>\n",
       "      <td>0.632085</td>\n",
       "      <td>0.694058</td>\n",
       "      <td>0.625735</td>\n",
       "      <td>0.686590</td>\n",
       "    </tr>\n",
       "    <tr>\n",
       "      <th>7</th>\n",
       "      <td>0.632085</td>\n",
       "      <td>0.688208</td>\n",
       "      <td>0.625735</td>\n",
       "      <td>0.681519</td>\n",
       "    </tr>\n",
       "    <tr>\n",
       "      <th>8</th>\n",
       "      <td>0.632131</td>\n",
       "      <td>0.692331</td>\n",
       "      <td>0.625735</td>\n",
       "      <td>0.685405</td>\n",
       "    </tr>\n",
       "    <tr>\n",
       "      <th>9</th>\n",
       "      <td>0.632131</td>\n",
       "      <td>0.692232</td>\n",
       "      <td>0.625735</td>\n",
       "      <td>0.685422</td>\n",
       "    </tr>\n",
       "    <tr>\n",
       "      <th>10</th>\n",
       "      <td>0.632633</td>\n",
       "      <td>0.691111</td>\n",
       "      <td>0.627690</td>\n",
       "      <td>0.683467</td>\n",
       "    </tr>\n",
       "    <tr>\n",
       "      <th>11</th>\n",
       "      <td>0.632724</td>\n",
       "      <td>0.692575</td>\n",
       "      <td>0.626302</td>\n",
       "      <td>0.685259</td>\n",
       "    </tr>\n",
       "    <tr>\n",
       "      <th>12</th>\n",
       "      <td>0.634548</td>\n",
       "      <td>0.694134</td>\n",
       "      <td>0.625892</td>\n",
       "      <td>0.685818</td>\n",
       "    </tr>\n",
       "    <tr>\n",
       "      <th>13</th>\n",
       "      <td>0.701491</td>\n",
       "      <td>0.748065</td>\n",
       "      <td>0.700393</td>\n",
       "      <td>0.745353</td>\n",
       "    </tr>\n",
       "    <tr>\n",
       "      <th>14</th>\n",
       "      <td>0.704592</td>\n",
       "      <td>0.751374</td>\n",
       "      <td>0.704360</td>\n",
       "      <td>0.749094</td>\n",
       "    </tr>\n",
       "    <tr>\n",
       "      <th>15</th>\n",
       "      <td>0.700670</td>\n",
       "      <td>0.745498</td>\n",
       "      <td>0.701155</td>\n",
       "      <td>0.743766</td>\n",
       "    </tr>\n",
       "    <tr>\n",
       "      <th>16</th>\n",
       "      <td>0.694058</td>\n",
       "      <td>0.741725</td>\n",
       "      <td>0.693592</td>\n",
       "      <td>0.739847</td>\n",
       "    </tr>\n",
       "    <tr>\n",
       "      <th>17</th>\n",
       "      <td>0.698390</td>\n",
       "      <td>0.744028</td>\n",
       "      <td>0.694061</td>\n",
       "      <td>0.742051</td>\n",
       "    </tr>\n",
       "    <tr>\n",
       "      <th>18</th>\n",
       "      <td>0.688358</td>\n",
       "      <td>0.709008</td>\n",
       "      <td>0.687142</td>\n",
       "      <td>0.708703</td>\n",
       "    </tr>\n",
       "    <tr>\n",
       "      <th>19</th>\n",
       "      <td>0.824023</td>\n",
       "      <td>0.891762</td>\n",
       "      <td>0.825806</td>\n",
       "      <td>0.895546</td>\n",
       "    </tr>\n",
       "  </tbody>\n",
       "</table>\n",
       "</div>"
      ],
      "text/plain": [
       "    test_acc  test_auc  train_acc  train_auc\n",
       "1   0.499384  0.500000   0.500264   0.500000\n",
       "2   0.625975  0.684528   0.617253   0.675004\n",
       "3   0.625975  0.683339   0.617253   0.673035\n",
       "4   0.623786  0.687730   0.616511   0.679805\n",
       "5   0.631994  0.693432   0.625833   0.684909\n",
       "6   0.632085  0.694058   0.625735   0.686590\n",
       "7   0.632085  0.688208   0.625735   0.681519\n",
       "8   0.632131  0.692331   0.625735   0.685405\n",
       "9   0.632131  0.692232   0.625735   0.685422\n",
       "10  0.632633  0.691111   0.627690   0.683467\n",
       "11  0.632724  0.692575   0.626302   0.685259\n",
       "12  0.634548  0.694134   0.625892   0.685818\n",
       "13  0.701491  0.748065   0.700393   0.745353\n",
       "14  0.704592  0.751374   0.704360   0.749094\n",
       "15  0.700670  0.745498   0.701155   0.743766\n",
       "16  0.694058  0.741725   0.693592   0.739847\n",
       "17  0.698390  0.744028   0.694061   0.742051\n",
       "18  0.688358  0.709008   0.687142   0.708703\n",
       "19  0.824023  0.891762   0.825806   0.895546"
      ]
     },
     "execution_count": 24,
     "metadata": {},
     "output_type": "execute_result"
    }
   ],
   "source": [
    "from sklearn.feature_selection import RFE\n",
    "r = 10\n",
    "X_train, X_test, y_train, y_test = train_test_split(data, target, random_state=r, train_size=train_size, test_size = test_size)\n",
    "mnb = MultinomialNB()\n",
    "\n",
    "#initial list to store the evaluation results\n",
    "train_acc = []\n",
    "train_auc = []\n",
    "test_acc = []\n",
    "test_auc = []\n",
    "no_of_features =range(1,data.shape[1]+1)\n",
    "\n",
    "#itereation on increasing number of features from 1 to Max\n",
    "for features in no_of_features:\n",
    "    rfe = RFE(estimator=mnb, n_features_to_select=features, step=1)\n",
    "    rfe.fit(X_train, y_train)\n",
    "        \n",
    "        \n",
    "    #generate a dictionary of result (see function def in Porfoio 3)\n",
    "    evaluation = model_evaluation_score(rfe, X_train, X_test, y_train, y_test)\n",
    "        \n",
    "    #store result\n",
    "    train_acc.append(evaluation['train_acc'])\n",
    "    train_auc.append(evaluation['train_auc'])\n",
    "    test_acc.append(evaluation['test_acc'])\n",
    "    test_auc.append(evaluation['test_auc'])\n",
    "\n",
    "\n",
    "#create data frame\n",
    "result = pd.DataFrame({'train_acc':train_acc,'train_auc': train_auc,'test_acc':test_acc, 'test_auc':test_auc},index=no_of_features)\n",
    "\n",
    "result"
   ]
  },
  {
   "cell_type": "code",
   "execution_count": 25,
   "metadata": {},
   "outputs": [
    {
     "data": {
      "image/png": "[encoded data removed]",
      "text/plain": [
       "<matplotlib.figure.Figure at 0x1a256270b8>"
      ]
     },
     "metadata": {},
     "output_type": "display_data"
    }
   ],
   "source": [
    "evaluate_score_plot(no_of_features, result, compare = None)"
   ]
  },
  {
   "cell_type": "markdown",
   "metadata": {},
   "source": [
    "We can see the accuracy and auc both shown an increasing staircase function. As the number of features in the model increase, both accuracy and auc increased. This is because the more features the more information about the sample is being captured by the model.  Below is the rank of the importance of the features in the data."
   ]
  },
  {
   "cell_type": "code",
   "execution_count": 26,
   "metadata": {},
   "outputs": [
    {
     "name": "stdout",
     "output_type": "stream",
     "text": [
      "decending importance of features: \n"
     ]
    },
    {
     "data": {
      "text/plain": [
       "['contact',\n",
       " 'precon',\n",
       " 'loan',\n",
       " 'previous',\n",
       " 'campaign',\n",
       " 'poutcome',\n",
       " 'housing',\n",
       " 'marital',\n",
       " 'day_of_week',\n",
       " 'job',\n",
       " 'education',\n",
       " 'month',\n",
       " 'emp.var.rate',\n",
       " 'nr.employed',\n",
       " 'cons.conf.idx',\n",
       " 'cons.price.idx',\n",
       " 'age',\n",
       " 'euribor3m',\n",
       " 'duration']"
      ]
     },
     "execution_count": 26,
     "metadata": {},
     "output_type": "execute_result"
    }
   ],
   "source": [
    "rfe = RFE(estimator=mnb, n_features_to_select=1, step=1)\n",
    "rfe.fit(X_train, y_train)\n",
    "ranking = {}\n",
    "for i in range(0,len(data.columns)):\n",
    "    ranking[data.columns[i]] = rfe.ranking_[i]\n",
    "print(\"decending importance of features: \")\n",
    "sorted(ranking, key=ranking.__getitem__)"
   ]
  },
  {
   "cell_type": "markdown",
   "metadata": {},
   "source": [
    "# Extention\n",
    "\n",
    "Based on the feedback, I will further investigate if the resampling I did was unreliable. I will also try other technique counter the unbalanced response to see which method work better. The technique is picked based on an article from KDnuggets\n",
    "\n",
    "https://www.kdnuggets.com/2017/06/7-techniques-handle-imbalanced-data.html\n",
    "\n",
    "To test if the resampling is reliable, the data will be set to 3 groups: train, test and evaluate which resampling will only be done on the train and test data. And use the evaluate data to check the result.\n",
    "\n",
    "And by comparing the the accuracy and AUC on the test is still stable, hence, oversampling and downsampling on this data set is suitable."
   ]
  },
  {
   "cell_type": "code",
   "execution_count": 27,
   "metadata": {},
   "outputs": [
    {
     "data": {
      "text/html": [
       "<div>\n",
       "<style>\n",
       "    .dataframe thead tr:only-child th {\n",
       "        text-align: right;\n",
       "    }\n",
       "\n",
       "    .dataframe thead th {\n",
       "        text-align: left;\n",
       "    }\n",
       "\n",
       "    .dataframe tbody tr th {\n",
       "        vertical-align: top;\n",
       "    }\n",
       "</style>\n",
       "<table border=\"1\" class=\"dataframe\">\n",
       "  <thead>\n",
       "    <tr style=\"text-align: right;\">\n",
       "      <th></th>\n",
       "      <th>age</th>\n",
       "      <th>job</th>\n",
       "      <th>marital</th>\n",
       "      <th>education</th>\n",
       "      <th>housing</th>\n",
       "      <th>loan</th>\n",
       "      <th>contact</th>\n",
       "      <th>month</th>\n",
       "      <th>day_of_week</th>\n",
       "      <th>duration</th>\n",
       "      <th>campaign</th>\n",
       "      <th>pdays</th>\n",
       "      <th>previous</th>\n",
       "      <th>poutcome</th>\n",
       "      <th>emp.var.rate</th>\n",
       "      <th>cons.price.idx</th>\n",
       "      <th>cons.conf.idx</th>\n",
       "      <th>euribor3m</th>\n",
       "      <th>nr.employed</th>\n",
       "      <th>y</th>\n",
       "    </tr>\n",
       "  </thead>\n",
       "  <tbody>\n",
       "    <tr>\n",
       "      <th>0</th>\n",
       "      <td>39</td>\n",
       "      <td>3</td>\n",
       "      <td>1</td>\n",
       "      <td>0</td>\n",
       "      <td>0</td>\n",
       "      <td>0</td>\n",
       "      <td>1</td>\n",
       "      <td>6</td>\n",
       "      <td>1</td>\n",
       "      <td>261</td>\n",
       "      <td>0</td>\n",
       "      <td>26</td>\n",
       "      <td>0</td>\n",
       "      <td>1</td>\n",
       "      <td>8</td>\n",
       "      <td>18</td>\n",
       "      <td>16</td>\n",
       "      <td>287</td>\n",
       "      <td>8</td>\n",
       "      <td>0</td>\n",
       "    </tr>\n",
       "    <tr>\n",
       "      <th>1</th>\n",
       "      <td>40</td>\n",
       "      <td>7</td>\n",
       "      <td>1</td>\n",
       "      <td>3</td>\n",
       "      <td>0</td>\n",
       "      <td>0</td>\n",
       "      <td>1</td>\n",
       "      <td>6</td>\n",
       "      <td>1</td>\n",
       "      <td>149</td>\n",
       "      <td>0</td>\n",
       "      <td>26</td>\n",
       "      <td>0</td>\n",
       "      <td>1</td>\n",
       "      <td>8</td>\n",
       "      <td>18</td>\n",
       "      <td>16</td>\n",
       "      <td>287</td>\n",
       "      <td>8</td>\n",
       "      <td>0</td>\n",
       "    </tr>\n",
       "    <tr>\n",
       "      <th>2</th>\n",
       "      <td>20</td>\n",
       "      <td>7</td>\n",
       "      <td>1</td>\n",
       "      <td>3</td>\n",
       "      <td>2</td>\n",
       "      <td>0</td>\n",
       "      <td>1</td>\n",
       "      <td>6</td>\n",
       "      <td>1</td>\n",
       "      <td>226</td>\n",
       "      <td>0</td>\n",
       "      <td>26</td>\n",
       "      <td>0</td>\n",
       "      <td>1</td>\n",
       "      <td>8</td>\n",
       "      <td>18</td>\n",
       "      <td>16</td>\n",
       "      <td>287</td>\n",
       "      <td>8</td>\n",
       "      <td>0</td>\n",
       "    </tr>\n",
       "    <tr>\n",
       "      <th>3</th>\n",
       "      <td>23</td>\n",
       "      <td>0</td>\n",
       "      <td>1</td>\n",
       "      <td>1</td>\n",
       "      <td>0</td>\n",
       "      <td>0</td>\n",
       "      <td>1</td>\n",
       "      <td>6</td>\n",
       "      <td>1</td>\n",
       "      <td>151</td>\n",
       "      <td>0</td>\n",
       "      <td>26</td>\n",
       "      <td>0</td>\n",
       "      <td>1</td>\n",
       "      <td>8</td>\n",
       "      <td>18</td>\n",
       "      <td>16</td>\n",
       "      <td>287</td>\n",
       "      <td>8</td>\n",
       "      <td>0</td>\n",
       "    </tr>\n",
       "    <tr>\n",
       "      <th>4</th>\n",
       "      <td>39</td>\n",
       "      <td>7</td>\n",
       "      <td>1</td>\n",
       "      <td>3</td>\n",
       "      <td>0</td>\n",
       "      <td>2</td>\n",
       "      <td>1</td>\n",
       "      <td>6</td>\n",
       "      <td>1</td>\n",
       "      <td>307</td>\n",
       "      <td>0</td>\n",
       "      <td>26</td>\n",
       "      <td>0</td>\n",
       "      <td>1</td>\n",
       "      <td>8</td>\n",
       "      <td>18</td>\n",
       "      <td>16</td>\n",
       "      <td>287</td>\n",
       "      <td>8</td>\n",
       "      <td>0</td>\n",
       "    </tr>\n",
       "  </tbody>\n",
       "</table>\n",
       "</div>"
      ],
      "text/plain": [
       "   age  job  marital  education  housing  loan  contact  month  day_of_week  \\\n",
       "0   39    3        1          0        0     0        1      6            1   \n",
       "1   40    7        1          3        0     0        1      6            1   \n",
       "2   20    7        1          3        2     0        1      6            1   \n",
       "3   23    0        1          1        0     0        1      6            1   \n",
       "4   39    7        1          3        0     2        1      6            1   \n",
       "\n",
       "   duration  campaign  pdays  previous  poutcome  emp.var.rate  \\\n",
       "0       261         0     26         0         1             8   \n",
       "1       149         0     26         0         1             8   \n",
       "2       226         0     26         0         1             8   \n",
       "3       151         0     26         0         1             8   \n",
       "4       307         0     26         0         1             8   \n",
       "\n",
       "   cons.price.idx  cons.conf.idx  euribor3m  nr.employed  y  \n",
       "0              18             16        287            8  0  \n",
       "1              18             16        287            8  0  \n",
       "2              18             16        287            8  0  \n",
       "3              18             16        287            8  0  \n",
       "4              18             16        287            8  0  "
      ]
     },
     "execution_count": 27,
     "metadata": {},
     "output_type": "execute_result"
    }
   ],
   "source": [
    "bank_e = bank\n",
    "#Data manipulation\n",
    "#default\n",
    "bank_e = bank_e.drop('default',axis=1)\n",
    "\n",
    "#marital\n",
    "bank_e.marital[bank_e.marital =='unknown']['marital'] = 'single'\n",
    "\n",
    "#education\n",
    "bank_e.education[bank_e.education == 'illiterate']['education'] = '<basic.4y'\n",
    "bank_e.education[bank_e.education == 'basic.4y']['education'] = '<basic.4y'\n",
    "\n",
    "#housing\n",
    "bank_e.housing[bank_e.housing =='unknown']['housing'] = 'no'\n",
    "\n",
    "#loan\n",
    "bank_e.loan[bank_e.loan =='unknown']['loan'] = 'no'\n",
    "\n",
    "#code the \n",
    "from sklearn.preprocessing import LabelEncoder\n",
    "le = LabelEncoder()\n",
    "bank_e = bank_e.apply(le.fit_transform)\n",
    "bank_e.head()"
   ]
  },
  {
   "cell_type": "code",
   "execution_count": 28,
   "metadata": {},
   "outputs": [],
   "source": [
    "data = bank_e[bank_e.columns.drop('y')]\n",
    "target = bank_e['y']\n",
    "X, X_test, y, y_test = train_test_split(data, target, random_state=123, train_size=0.8, test_size = 0.2)\n",
    "bank_t = pd.concat([X,y],axis=1)"
   ]
  },
  {
   "cell_type": "code",
   "execution_count": 29,
   "metadata": {},
   "outputs": [
    {
     "data": {
      "text/html": [
       "<div>\n",
       "<style>\n",
       "    .dataframe thead tr:only-child th {\n",
       "        text-align: right;\n",
       "    }\n",
       "\n",
       "    .dataframe thead th {\n",
       "        text-align: left;\n",
       "    }\n",
       "\n",
       "    .dataframe tbody tr th {\n",
       "        vertical-align: top;\n",
       "    }\n",
       "</style>\n",
       "<table border=\"1\" class=\"dataframe\">\n",
       "  <thead>\n",
       "    <tr style=\"text-align: right;\">\n",
       "      <th></th>\n",
       "      <th>age</th>\n",
       "      <th>job</th>\n",
       "      <th>marital</th>\n",
       "      <th>education</th>\n",
       "      <th>housing</th>\n",
       "      <th>loan</th>\n",
       "      <th>contact</th>\n",
       "      <th>month</th>\n",
       "      <th>day_of_week</th>\n",
       "      <th>duration</th>\n",
       "      <th>campaign</th>\n",
       "      <th>pdays</th>\n",
       "      <th>previous</th>\n",
       "      <th>poutcome</th>\n",
       "      <th>emp.var.rate</th>\n",
       "      <th>cons.price.idx</th>\n",
       "      <th>cons.conf.idx</th>\n",
       "      <th>euribor3m</th>\n",
       "      <th>nr.employed</th>\n",
       "    </tr>\n",
       "    <tr>\n",
       "      <th>y</th>\n",
       "      <th></th>\n",
       "      <th></th>\n",
       "      <th></th>\n",
       "      <th></th>\n",
       "      <th></th>\n",
       "      <th></th>\n",
       "      <th></th>\n",
       "      <th></th>\n",
       "      <th></th>\n",
       "      <th></th>\n",
       "      <th></th>\n",
       "      <th></th>\n",
       "      <th></th>\n",
       "      <th></th>\n",
       "      <th></th>\n",
       "      <th></th>\n",
       "      <th></th>\n",
       "      <th></th>\n",
       "      <th></th>\n",
       "    </tr>\n",
       "  </thead>\n",
       "  <tbody>\n",
       "    <tr>\n",
       "      <th>0</th>\n",
       "      <td>29250</td>\n",
       "      <td>29250</td>\n",
       "      <td>29250</td>\n",
       "      <td>29250</td>\n",
       "      <td>29250</td>\n",
       "      <td>29250</td>\n",
       "      <td>29250</td>\n",
       "      <td>29250</td>\n",
       "      <td>29250</td>\n",
       "      <td>29250</td>\n",
       "      <td>29250</td>\n",
       "      <td>29250</td>\n",
       "      <td>29250</td>\n",
       "      <td>29250</td>\n",
       "      <td>29250</td>\n",
       "      <td>29250</td>\n",
       "      <td>29250</td>\n",
       "      <td>29250</td>\n",
       "      <td>29250</td>\n",
       "    </tr>\n",
       "    <tr>\n",
       "      <th>1</th>\n",
       "      <td>3700</td>\n",
       "      <td>3700</td>\n",
       "      <td>3700</td>\n",
       "      <td>3700</td>\n",
       "      <td>3700</td>\n",
       "      <td>3700</td>\n",
       "      <td>3700</td>\n",
       "      <td>3700</td>\n",
       "      <td>3700</td>\n",
       "      <td>3700</td>\n",
       "      <td>3700</td>\n",
       "      <td>3700</td>\n",
       "      <td>3700</td>\n",
       "      <td>3700</td>\n",
       "      <td>3700</td>\n",
       "      <td>3700</td>\n",
       "      <td>3700</td>\n",
       "      <td>3700</td>\n",
       "      <td>3700</td>\n",
       "    </tr>\n",
       "  </tbody>\n",
       "</table>\n",
       "</div>"
      ],
      "text/plain": [
       "     age    job  marital  education  housing   loan  contact  month  \\\n",
       "y                                                                     \n",
       "0  29250  29250    29250      29250    29250  29250    29250  29250   \n",
       "1   3700   3700     3700       3700     3700   3700     3700   3700   \n",
       "\n",
       "   day_of_week  duration  campaign  pdays  previous  poutcome  emp.var.rate  \\\n",
       "y                                                                             \n",
       "0        29250     29250     29250  29250     29250     29250         29250   \n",
       "1         3700      3700      3700   3700      3700      3700          3700   \n",
       "\n",
       "   cons.price.idx  cons.conf.idx  euribor3m  nr.employed  \n",
       "y                                                         \n",
       "0           29250          29250      29250        29250  \n",
       "1            3700           3700       3700         3700  "
      ]
     },
     "execution_count": 29,
     "metadata": {},
     "output_type": "execute_result"
    }
   ],
   "source": [
    "bank_t.groupby('y').count()"
   ]
  },
  {
   "cell_type": "markdown",
   "metadata": {},
   "source": [
    "## Oversampling"
   ]
  },
  {
   "cell_type": "code",
   "execution_count": 30,
   "metadata": {},
   "outputs": [
    {
     "name": "stdout",
     "output_type": "stream",
     "text": [
      "The processed dataset has response as follow: \n",
      "1    29250\n",
      "0    29250\n",
      "Name: y, dtype: int64\n"
     ]
    }
   ],
   "source": [
    "from sklearn.utils import resample\n",
    "# Separate majority and minority classes\n",
    "majority = bank_t[bank_t.y==0]\n",
    "minority = bank_t[bank_t.y==1]\n",
    " \n",
    "# Downsample majority class\n",
    "resample = resample(minority, \n",
    "                    replace=True,    # sample without replacement\n",
    "                    n_samples=29250,     # to match minority class\n",
    "                    random_state=123) # reproducible results\n",
    " \n",
    "# Combine minority class with downsampled majority class\n",
    "bank_n = pd.concat([resample, majority])\n",
    " \n",
    "# Display new class counts\n",
    "print(\"The processed dataset has response as follow: \")\n",
    "print(bank_n.y.value_counts())"
   ]
  },
  {
   "cell_type": "code",
   "execution_count": 31,
   "metadata": {},
   "outputs": [],
   "source": [
    "data = bank_n[bank_n.columns.drop('y')]\n",
    "target = bank_n['y']\n",
    "X_train, X_valid, y_train, y_valid = train_test_split(data, target, random_state=123, train_size=0.8, test_size = 0.2)"
   ]
  },
  {
   "cell_type": "code",
   "execution_count": 32,
   "metadata": {},
   "outputs": [],
   "source": [
    "mnb = MultinomialNB()\n",
    "mnb.fit(X_train,y_train)\n",
    "model_performance = model_evaluation_score(mnb, X_train, X_valid, y_train, y_valid)"
   ]
  },
  {
   "cell_type": "code",
   "execution_count": 33,
   "metadata": {},
   "outputs": [
    {
     "data": {
      "text/plain": [
       "{'eva_acc': 0.84620053411022089,\n",
       " 'eva_auc': 0.89769625021136656,\n",
       " 'test_acc': 0.82358974358974357,\n",
       " 'test_auc': 0.89532360892391682,\n",
       " 'train_acc': 0.82032051282051277,\n",
       " 'train_auc': 0.89104290532674679}"
      ]
     },
     "execution_count": 33,
     "metadata": {},
     "output_type": "execute_result"
    }
   ],
   "source": [
    "from sklearn.metrics import accuracy_score, auc, roc_auc_score\n",
    "predicted = mnb.predict(X_test)\n",
    "y_score = mnb.predict_proba(X_test)[:,1]\n",
    "eva_acc = accuracy_score(y_test,predicted)\n",
    "eva_auc = roc_auc_score(y_test,y_score )\n",
    "model_performance['eva_acc'] = eva_acc\n",
    "model_performance['eva_auc'] = eva_auc\n",
    "model_performance"
   ]
  },
  {
   "cell_type": "markdown",
   "metadata": {},
   "source": [
    "The result show similar AUC and ACC across all test, evaluate and test data which means the model is stable."
   ]
  },
  {
   "cell_type": "markdown",
   "metadata": {},
   "source": [
    "## Downsampling"
   ]
  },
  {
   "cell_type": "code",
   "execution_count": 34,
   "metadata": {},
   "outputs": [
    {
     "name": "stdout",
     "output_type": "stream",
     "text": [
      "The processed dataset has response as follow: \n",
      "1    3700\n",
      "0    3700\n",
      "Name: y, dtype: int64\n"
     ]
    }
   ],
   "source": [
    "from sklearn.utils import resample\n",
    "# Separate majority and minority classes\n",
    "majority = bank_t[bank_t.y==0]\n",
    "minority = bank_t[bank_t.y==1]\n",
    " \n",
    "# Downsample majority class\n",
    "resample = resample(majority, \n",
    "                    replace=True,    # sample without replacement\n",
    "                    n_samples=3700,     # to match minority class\n",
    "                    random_state=123) # reproducible results\n",
    " \n",
    "# Combine minority class with downsampled majority class\n",
    "bank_n = pd.concat([resample, minority])\n",
    " \n",
    "# Display new class counts\n",
    "print(\"The processed dataset has response as follow: \")\n",
    "print(bank_n.y.value_counts())"
   ]
  },
  {
   "cell_type": "code",
   "execution_count": 35,
   "metadata": {},
   "outputs": [],
   "source": [
    "data = bank_n[bank_n.columns.drop('y')]\n",
    "target = bank_n['y']\n",
    "X_train, X_valid, y_train, y_valid = train_test_split(data, target, random_state=123, train_size=0.8, test_size = 0.2)"
   ]
  },
  {
   "cell_type": "code",
   "execution_count": 36,
   "metadata": {},
   "outputs": [],
   "source": [
    "mnb = MultinomialNB()\n",
    "mnb.fit(X_train,y_train)\n",
    "model_performance = model_evaluation_score(mnb, X_train, X_valid, y_train, y_valid)"
   ]
  },
  {
   "cell_type": "code",
   "execution_count": 37,
   "metadata": {},
   "outputs": [
    {
     "data": {
      "text/plain": [
       "{'eva_acc': 0.84450109249817917,\n",
       " 'eva_auc': 0.89696426593120826,\n",
       " 'test_acc': 0.83513513513513515,\n",
       " 'test_auc': 0.89821117980648357,\n",
       " 'train_acc': 0.82128378378378375,\n",
       " 'train_auc': 0.88804017968019511}"
      ]
     },
     "execution_count": 37,
     "metadata": {},
     "output_type": "execute_result"
    }
   ],
   "source": [
    "from sklearn.metrics import accuracy_score, auc, roc_auc_score\n",
    "predicted = mnb.predict(X_test)\n",
    "y_score = mnb.predict_proba(X_test)[:,1]\n",
    "eva_acc = accuracy_score(y_test,predicted)\n",
    "eva_auc = roc_auc_score(y_test,y_score )\n",
    "model_performance['eva_acc'] = eva_acc\n",
    "model_performance['eva_auc'] = eva_auc\n",
    "model_performance"
   ]
  },
  {
   "cell_type": "markdown",
   "metadata": {},
   "source": [
    "Similarly, the result show similar AUC and ACC across all test, evaluate and test data which means the model is stable."
   ]
  },
  {
   "cell_type": "markdown",
   "metadata": {},
   "source": [
    "## K-fold Validation\n",
    "\n",
    "We use K-fold validation to check the change of accuracy rate if the model is build with the original data."
   ]
  },
  {
   "cell_type": "code",
   "execution_count": 38,
   "metadata": {},
   "outputs": [
    {
     "data": {
      "text/plain": [
       "array([ 0.84066768,  0.84764795,  0.84946889,  0.84430956,  0.84977238])"
      ]
     },
     "execution_count": 38,
     "metadata": {},
     "output_type": "execute_result"
    }
   ],
   "source": [
    "from sklearn.model_selection import cross_val_score\n",
    "mnb = MultinomialNB()\n",
    "cross_val_score(mnb, X, y, cv=5)"
   ]
  },
  {
   "cell_type": "code",
   "execution_count": 39,
   "metadata": {},
   "outputs": [
    {
     "data": {
      "text/plain": [
       "array([[6226, 1072],\n",
       "       [ 185,  755]])"
      ]
     },
     "execution_count": 39,
     "metadata": {},
     "output_type": "execute_result"
    }
   ],
   "source": [
    "from sklearn.metrics import confusion_matrix\n",
    "mnb.fit(X,y)\n",
    "y_pred = mnb.predict(X_test)\n",
    "confusion_matrix(y_test, y_pred)"
   ]
  },
  {
   "cell_type": "code",
   "execution_count": 40,
   "metadata": {},
   "outputs": [
    {
     "name": "stdout",
     "output_type": "stream",
     "text": [
      "0.847414420976 0.897834513099\n"
     ]
    }
   ],
   "source": [
    "predicted = mnb.predict(X_test)\n",
    "y_score = mnb.predict_proba(X_test)[:,1]\n",
    "eva_acc = accuracy_score(y_test,predicted)\n",
    "eva_auc = roc_auc_score(y_test,y_score )\n",
    "print(eva_acc,eva_auc) "
   ]
  },
  {
   "cell_type": "markdown",
   "metadata": {},
   "source": [
    "The data show high train and test score even without resampling the data so we cannot tell if the technique helped to improve the result of our model in this case."
   ]
  },
  {
   "cell_type": "code",
   "execution_count": null,
   "metadata": {},
   "outputs": [],
   "source": []
  }
 ],
 "metadata": {
  "kernelspec": {
   "display_name": "Python 3",
   "language": "python",
   "name": "python3"
  },
  "language_info": {
   "codemirror_mode": {
    "name": "ipython",
    "version": 3
   },
   "file_extension": ".py",
   "mimetype": "text/x-python",
   "name": "python",
   "nbconvert_exporter": "python",
   "pygments_lexer": "ipython3",
   "version": "3.6.1"
  }
 },
 "nbformat": 4,
 "nbformat_minor": 2
}
